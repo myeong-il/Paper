{
 "cells": [
  {
   "cell_type": "code",
   "execution_count": 1,
   "metadata": {},
   "outputs": [],
   "source": [
    "import pandas as pd\n",
    "import konlpy\n",
    "from konlpy.tag import Okt\n",
    "%matplotlib inline\n",
    "import matplotlib.pyplot as plt\n",
    "import re\n",
    "import numpy as np\n",
    "import tensorflow as tf\n",
    "from tensorflow import keras\n",
    "\n",
    "import IPython\n",
    "import kerastuner as kt\n",
    "okt = Okt()\n",
    "\n",
    "from matplotlib import font_manager, rc\n",
    "font_name = font_manager.FontProperties(fname=\"c:/Windows/Fonts/malgun.ttf\").get_name()\n",
    "rc('font', family=font_name)"
   ]
  },
  {
   "cell_type": "code",
   "execution_count": 2,
   "metadata": {},
   "outputs": [],
   "source": [
    "with open(\"./negative_words_self.txt\", encoding='utf-8') as neg:\n",
    "    negative = neg.readlines()\n",
    "\n",
    "negative = [neg.replace(\"\\n\", \"\") for neg in negative]\n",
    "\n",
    "with open(\"./positive_words_self.txt\", encoding='utf-8') as pos:\n",
    "    positive = pos.readlines() \n",
    "    \n",
    "negative = [neg.replace(\"\\n\", \"\") for neg in negative]\n",
    "positive = [pos.replace(\"\\n\", \"\") for pos in positive]"
   ]
  },
  {
   "cell_type": "code",
   "execution_count": 3,
   "metadata": {},
   "outputs": [],
   "source": [
    "data = pd.read_excel(\"데이터 셋.xlsx\", sep=\",\")"
   ]
  },
  {
   "cell_type": "code",
   "execution_count": 5,
   "metadata": {},
   "outputs": [],
   "source": [
    "naver = pd.read_excel(\"네이버 뉴스 데이터 셋.xlsx\")\n",
    "daum = pd.read_excel(\"다음 뉴스 데이터 셋.xlsx\")"
   ]
  },
  {
   "cell_type": "code",
   "execution_count": 7,
   "metadata": {},
   "outputs": [
    {
     "data": {
      "text/plain": [
       "청원번호     0\n",
       "청원제목     0\n",
       "참여인원     0\n",
       "카테고리     0\n",
       "청원시작일    0\n",
       "청원마감일    0\n",
       "청원내용     0\n",
       "dtype: int64"
      ]
     },
     "execution_count": 7,
     "metadata": {},
     "output_type": "execute_result"
    }
   ],
   "source": [
    "data.isnull().sum()"
   ]
  },
  {
   "cell_type": "code",
   "execution_count": 8,
   "metadata": {},
   "outputs": [
    {
     "data": {
      "text/plain": [
       "2816"
      ]
     },
     "execution_count": 8,
     "metadata": {},
     "output_type": "execute_result"
    }
   ],
   "source": [
    "len(data)"
   ]
  },
  {
   "cell_type": "code",
   "execution_count": 10,
   "metadata": {},
   "outputs": [
    {
     "data": {
      "text/html": [
       "<div>\n",
       "<style scoped>\n",
       "    .dataframe tbody tr th:only-of-type {\n",
       "        vertical-align: middle;\n",
       "    }\n",
       "\n",
       "    .dataframe tbody tr th {\n",
       "        vertical-align: top;\n",
       "    }\n",
       "\n",
       "    .dataframe thead th {\n",
       "        text-align: right;\n",
       "    }\n",
       "</style>\n",
       "<table border=\"1\" class=\"dataframe\">\n",
       "  <thead>\n",
       "    <tr style=\"text-align: right;\">\n",
       "      <th></th>\n",
       "      <th>Unnamed: 0</th>\n",
       "      <th>title</th>\n",
       "      <th>contents</th>\n",
       "      <th>date</th>\n",
       "    </tr>\n",
       "  </thead>\n",
       "  <tbody>\n",
       "    <tr>\n",
       "      <th>0</th>\n",
       "      <td>0</td>\n",
       "      <td>'구미 여아' 언니 전남편 \"김씨, 희대의 악마이자 살인마..엄벌 해달라\"</td>\n",
       "      <td>\\n\\n\\n\\n\\n            구미 3세 여아 사망 사건 관련 숨진 여아의...</td>\n",
       "      <td>20210412</td>\n",
       "    </tr>\n",
       "    <tr>\n",
       "      <th>1</th>\n",
       "      <td>1</td>\n",
       "      <td>임오경 의원, '폭행 주장' 국민청원에 \"악의적 허위사실\" 반박</td>\n",
       "      <td>\\n\\n\\n\\n\\n            더불어민주당 임오경 의원. 사진=연합뉴스\\n...</td>\n",
       "      <td>20210224</td>\n",
       "    </tr>\n",
       "    <tr>\n",
       "      <th>2</th>\n",
       "      <td>2</td>\n",
       "      <td>반중 정서에 강원 차이나타운 반대 청원, 하루새 10만 넘었다!</td>\n",
       "      <td>\\n\\n\\n\\n\\n            청와대 국민청원 게시판./사진=캡쳐\\n   ...</td>\n",
       "      <td>20210331</td>\n",
       "    </tr>\n",
       "    <tr>\n",
       "      <th>3</th>\n",
       "      <td>3</td>\n",
       "      <td>'사관생도' 국민청원에 보훈처 차장 \"안타깝다\"..국방부 \"조사 않을 것\"</td>\n",
       "      <td>\\n\\n\\n\\n\\n            지난 26일 청와대 국민청원 게시판에 자신을...</td>\n",
       "      <td>20210329</td>\n",
       "    </tr>\n",
       "    <tr>\n",
       "      <th>4</th>\n",
       "      <td>4</td>\n",
       "      <td>글로벌 반도체 패권경쟁에 높아지는 이재용 사면론</td>\n",
       "      <td>\\n\\n\\n\\n\\n            충수염 수술 후 병원에 입원해 있던 이재용 ...</td>\n",
       "      <td>20210417</td>\n",
       "    </tr>\n",
       "    <tr>\n",
       "      <th>...</th>\n",
       "      <td>...</td>\n",
       "      <td>...</td>\n",
       "      <td>...</td>\n",
       "      <td>...</td>\n",
       "    </tr>\n",
       "    <tr>\n",
       "      <th>826</th>\n",
       "      <td>826</td>\n",
       "      <td>김어준 \"吳 당선됐으니 없어지라고..세금 탈루? 선 넘지마\"</td>\n",
       "      <td>\\n\\n\\n\\n\\n            TBS라디오 ‘김어준의 뉴스공장’ 진행자 김...</td>\n",
       "      <td>20210416</td>\n",
       "    </tr>\n",
       "    <tr>\n",
       "      <th>827</th>\n",
       "      <td>827</td>\n",
       "      <td>'조두순에 복지급여 주지 마라' 국민청원 답 못듣는다</td>\n",
       "      <td>\\n\\n\\n\\n\\n            아동 성폭행 혐의로 징역 12년을 복역 후 ...</td>\n",
       "      <td>20210208</td>\n",
       "    </tr>\n",
       "    <tr>\n",
       "      <th>828</th>\n",
       "      <td>828</td>\n",
       "      <td>\"스쿨존에 왜 트럭이 다녀요\" 초등생 국민청원 호소</td>\n",
       "      <td>\\n\\n\\n\\n\\n            국민청원 게시판, 국민일보\\n        ...</td>\n",
       "      <td>20210319</td>\n",
       "    </tr>\n",
       "    <tr>\n",
       "      <th>829</th>\n",
       "      <td>829</td>\n",
       "      <td>\"검은 이미지 투영, 아파트 이름서 LH 빼달라\" LH 입주민 분노의 靑 청원</td>\n",
       "      <td>\\n\\n\\n\\n\\n            사진은 경기도 성남시 LH 경기지역본부 모습...</td>\n",
       "      <td>20210319</td>\n",
       "    </tr>\n",
       "    <tr>\n",
       "      <th>830</th>\n",
       "      <td>830</td>\n",
       "      <td>'자발적 비혼모' 사유리 '슈돌' 출연에 靑 청원 등장..갑론을박 [종합]</td>\n",
       "      <td>\\n\\n[텐아시아=김수영 기자]\\n\\n\\n\\n            사유리 /사진=텐...</td>\n",
       "      <td>20210329</td>\n",
       "    </tr>\n",
       "  </tbody>\n",
       "</table>\n",
       "<p>831 rows × 4 columns</p>\n",
       "</div>"
      ],
      "text/plain": [
       "     Unnamed: 0                                        title  \\\n",
       "0             0    '구미 여아' 언니 전남편 \"김씨, 희대의 악마이자 살인마..엄벌 해달라\"   \n",
       "1             1          임오경 의원, '폭행 주장' 국민청원에 \"악의적 허위사실\" 반박   \n",
       "2             2          반중 정서에 강원 차이나타운 반대 청원, 하루새 10만 넘었다!   \n",
       "3             3    '사관생도' 국민청원에 보훈처 차장 \"안타깝다\"..국방부 \"조사 않을 것\"   \n",
       "4             4                   글로벌 반도체 패권경쟁에 높아지는 이재용 사면론   \n",
       "..          ...                                          ...   \n",
       "826         826            김어준 \"吳 당선됐으니 없어지라고..세금 탈루? 선 넘지마\"   \n",
       "827         827                '조두순에 복지급여 주지 마라' 국민청원 답 못듣는다   \n",
       "828         828                 \"스쿨존에 왜 트럭이 다녀요\" 초등생 국민청원 호소   \n",
       "829         829  \"검은 이미지 투영, 아파트 이름서 LH 빼달라\" LH 입주민 분노의 靑 청원   \n",
       "830         830    '자발적 비혼모' 사유리 '슈돌' 출연에 靑 청원 등장..갑론을박 [종합]   \n",
       "\n",
       "                                              contents      date  \n",
       "0    \\n\\n\\n\\n\\n            구미 3세 여아 사망 사건 관련 숨진 여아의...  20210412  \n",
       "1    \\n\\n\\n\\n\\n            더불어민주당 임오경 의원. 사진=연합뉴스\\n...  20210224  \n",
       "2    \\n\\n\\n\\n\\n            청와대 국민청원 게시판./사진=캡쳐\\n   ...  20210331  \n",
       "3    \\n\\n\\n\\n\\n            지난 26일 청와대 국민청원 게시판에 자신을...  20210329  \n",
       "4    \\n\\n\\n\\n\\n            충수염 수술 후 병원에 입원해 있던 이재용 ...  20210417  \n",
       "..                                                 ...       ...  \n",
       "826  \\n\\n\\n\\n\\n            TBS라디오 ‘김어준의 뉴스공장’ 진행자 김...  20210416  \n",
       "827  \\n\\n\\n\\n\\n            아동 성폭행 혐의로 징역 12년을 복역 후 ...  20210208  \n",
       "828  \\n\\n\\n\\n\\n            국민청원 게시판, 국민일보\\n        ...  20210319  \n",
       "829  \\n\\n\\n\\n\\n            사진은 경기도 성남시 LH 경기지역본부 모습...  20210319  \n",
       "830  \\n\\n[텐아시아=김수영 기자]\\n\\n\\n\\n            사유리 /사진=텐...  20210329  \n",
       "\n",
       "[831 rows x 4 columns]"
      ]
     },
     "execution_count": 10,
     "metadata": {},
     "output_type": "execute_result"
    }
   ],
   "source": [
    "daum"
   ]
  },
  {
   "cell_type": "code",
   "execution_count": 11,
   "metadata": {},
   "outputs": [],
   "source": [
    "punct = \"/-'?!.,#$%\\'()*+-/:;<=>@[\\\\]^_`{|}~\" + '\"\"“”’' + '∞θ÷α•à−β∅³π‘₹´°£€\\×™√²—–&'\n",
    "punct_mapping = {\"‘\": \"'\", \"₹\": \"e\", \"´\": \"'\", \"°\": \"\", \"€\": \"e\", \"™\": \"tm\", \"√\": \" sqrt \",\n",
    "                 \"×\": \"x\", \"²\": \"2\", \"—\": \"-\", \"–\": \"-\", \"’\": \"'\", \"_\": \"-\", \"`\": \"'\", '“': '\"', '”': '\"', '“': '\"',\n",
    "                 \"£\": \"e\", '∞': 'infinity', 'θ': 'theta', '÷': '/', 'α': 'alpha', '•': '.', 'à': 'a', '−': '-', 'β': 'beta',\n",
    "                 '∅': '', '³': '3', 'π': 'pi', } \n",
    "def clean_punc(text, punct, mapping):\n",
    "    for p in mapping: \n",
    "        text = text.replace(p, mapping[p]) \n",
    "        \n",
    "    for p in punct: \n",
    "        text = text.replace(p, f' {p} ') \n",
    "        \n",
    "    specials = {'\\u200b': ' ', '…': ' ... ', '\\ufeff': '', 'करना': '', 'है': ''} \n",
    "    for s in specials:\n",
    "        text = text.replace(s, specials[s])\n",
    "        \n",
    "    return text.strip()\n"
   ]
  },
  {
   "cell_type": "code",
   "execution_count": 12,
   "metadata": {},
   "outputs": [],
   "source": [
    "def preprocessing(text):\n",
    "    # 특수문자 제거\n",
    "    # 특수문자나 이모티콘 등은 때로는 의미를 갖기도 하지만 여기에서는 제거했습니다.\n",
    "    # text = re.sub('[?.,;:|\\)*~`’!^\\-_+<>@\\#$%&-=#}※]', '', text)\n",
    "    # 한글, 영문, 숫자만 남기고 모두 제거하도록 합니다.\n",
    "    # text = re.sub('[^가-힣ㄱ-ㅎㅏ-ㅣa-zA-Z0-9]', ' ', text)\n",
    "    # 한글, 영문만 남기고 모두 제거하도록 합니다.\n",
    "    text = re.sub('(<([^>]+)>)', '', text)\n",
    "    text = re.sub('[^가-힣ㄱ-ㅎㅏ-ㅣa-zA-Z]', ' ', text)\n",
    "    return text"
   ]
  },
  {
   "cell_type": "code",
   "execution_count": null,
   "metadata": {},
   "outputs": [],
   "source": [
    "for i in range(0, len(data)):\n",
    "    data['청원내용'][i] = clean_punc(data['청원내용'][i], punct, punct_mapping)\n",
    "    data['청원내용'][i] = preprocessing(data['청원내용'][i])\n",
    "for i in range(0, len(naver)):\n",
    "    naver['contents'][i] = clean_punc(naver['contents'][i], punct, punct_mapping)\n",
    "    naver['contents'][i] = preprocessing(naver['contents'][i])\n",
    "for i in range(0, len(daum)):\n",
    "    daum['contents'][i] = clean_punc(daum['contents'][i], punct, punct_mapping)\n",
    "    daum['contents'][i] = preprocessing(daum['contents'][i])"
   ]
  },
  {
   "cell_type": "code",
   "execution_count": null,
   "metadata": {},
   "outputs": [],
   "source": [
    "for i in range(0, len(data)):\n",
    "    data['청원제목'][i] = clean_punc(data['청원제목'][i], punct, punct_mapping)\n",
    "    data['청원제목'][i] = preprocessing(data['청원제목'][i])\n",
    "for i in range(0, len(naver)):\n",
    "    naver['title'][i] = clean_punc(naver['title'][i], punct, punct_mapping)\n",
    "    naver['title'][i] = preprocessing(naver['title'][i])\n",
    "for i in range(0, len(daum)):\n",
    "    daum['title'][i] = clean_punc(daum['title'][i], punct, punct_mapping)\n",
    "    daum['title'][i] = preprocessing(daum['title'][i])"
   ]
  },
  {
   "cell_type": "code",
   "execution_count": 16,
   "metadata": {},
   "outputs": [
    {
     "name": "stderr",
     "output_type": "stream",
     "text": [
      "100%|█████████████████████████████████████████████████████████████████████████████| 2816/2816 [00:03<00:00, 904.12it/s]\n"
     ]
    }
   ],
   "source": [
    "from tqdm import tqdm\n",
    "labels = []\n",
    "contents = []\n",
    "j = 0\n",
    "\n",
    "contents_data = list(data['청원내용'])\n",
    "\n",
    "for content in tqdm(contents_data):\n",
    "    content_data = content\n",
    "    clean_content = re.sub('[-=+,#/\\?:^$.@*\\\"※~&%ㆍ!』\\\\‘|\\(\\)\\[\\]\\<\\>`\\'…\\\"\\“》]', '', content_data)\n",
    "    negative_flag = False\n",
    "    label = 0\n",
    "    for i in range(len(positive)): \n",
    "        if positive[i] in clean_content:\n",
    "            label = -1 \n",
    "            negative_flag = True\n",
    "            break \n",
    "    if negative_flag == False: \n",
    "        for i in range(len(negative)): \n",
    "            if negative[i] in clean_content: \n",
    "                label = 1 \n",
    "                break \n",
    "    contents.append(clean_content)\n",
    "    labels.append(label) \n",
    "        \n",
    "my_content_df = pd.DataFrame({\"content\":contents, \"label\":labels})\n"
   ]
  },
  {
   "cell_type": "code",
   "execution_count": 17,
   "metadata": {},
   "outputs": [
    {
     "name": "stderr",
     "output_type": "stream",
     "text": [
      "100%|█████████████████████████████████████████████████████████████████████████████| 2759/2759 [00:03<00:00, 799.53it/s]\n"
     ]
    }
   ],
   "source": [
    "labels = []\n",
    "contents = []\n",
    "j = 0\n",
    "contents_naver = (naver['contents'])\n",
    "\n",
    "for content in tqdm(contents_naver):\n",
    "    content_data = content\n",
    "    clean_content = re.sub('[-=+,#/\\?:^$.@*\\\"※~&%ㆍ!』\\\\‘|\\(\\)\\[\\]\\<\\>`\\'…\\\"\\“》]', '', content_data)\n",
    "    negative_flag = False\n",
    "    label = 0\n",
    "    for i in range(len(positive)): \n",
    "        if positive[i] in clean_content:\n",
    "            label = -1 \n",
    "            negative_flag = True\n",
    "            break \n",
    "    if negative_flag == False: \n",
    "        for i in range(len(negative)): \n",
    "            if negative[i] in clean_content: \n",
    "                label = 1 \n",
    "                break \n",
    "    contents.append(clean_content)\n",
    "    labels.append(label) \n",
    "        \n",
    "my_content_df_2 = pd.DataFrame({\"content\":contents, \"label\":labels})"
   ]
  },
  {
   "cell_type": "code",
   "execution_count": 164,
   "metadata": {},
   "outputs": [
    {
     "data": {
      "text/html": [
       "<div>\n",
       "<style scoped>\n",
       "    .dataframe tbody tr th:only-of-type {\n",
       "        vertical-align: middle;\n",
       "    }\n",
       "\n",
       "    .dataframe tbody tr th {\n",
       "        vertical-align: top;\n",
       "    }\n",
       "\n",
       "    .dataframe thead th {\n",
       "        text-align: right;\n",
       "    }\n",
       "</style>\n",
       "<table border=\"1\" class=\"dataframe\">\n",
       "  <thead>\n",
       "    <tr style=\"text-align: right;\">\n",
       "      <th></th>\n",
       "      <th>content</th>\n",
       "      <th>label</th>\n",
       "    </tr>\n",
       "  </thead>\n",
       "  <tbody>\n",
       "    <tr>\n",
       "      <th>0</th>\n",
       "      <td>1972년 9월 28일 춘천 강간 살인사건의 또다른 피해자인 정xx씨에 관심을 가져...</td>\n",
       "      <td>-1</td>\n",
       "    </tr>\n",
       "    <tr>\n",
       "      <th>1</th>\n",
       "      <td>민주당 박상혁 의원이 대표 발의한 인천국제공항공사법 일부개정법률안 한국공항공사법 일...</td>\n",
       "      <td>-1</td>\n",
       "    </tr>\n",
       "    <tr>\n",
       "      <th>2</th>\n",
       "      <td>춘천 파출소 소장 딸 살인사건에서 억울하게 아동 강간살인범으로 누명을 씌워 무기징역...</td>\n",
       "      <td>-1</td>\n",
       "    </tr>\n",
       "    <tr>\n",
       "      <th>3</th>\n",
       "      <td>안녕하세요 429일 꼬꼬무2 에 방영된 고문 조작 사건을 보고 지금이라도 국민들이 ...</td>\n",
       "      <td>-1</td>\n",
       "    </tr>\n",
       "    <tr>\n",
       "      <th>4</th>\n",
       "      <td>본인이 하지도않은짓을 형사고문에의해 누명쓰고  그 오랜세월 옥살이하다가 제대로된 사...</td>\n",
       "      <td>-1</td>\n",
       "    </tr>\n",
       "    <tr>\n",
       "      <th>...</th>\n",
       "      <td>...</td>\n",
       "      <td>...</td>\n",
       "    </tr>\n",
       "    <tr>\n",
       "      <th>2811</th>\n",
       "      <td>우정청 이주무관 을고발합니다 저는 노동조합의일로인하여 청에팩스민원을 내고 이에답이업...</td>\n",
       "      <td>-1</td>\n",
       "    </tr>\n",
       "    <tr>\n",
       "      <th>2812</th>\n",
       "      <td>국립 대학교  총장은 대학교 학사 운영 규정을 위반하고 교육과정을 개편 개설교과목을...</td>\n",
       "      <td>-1</td>\n",
       "    </tr>\n",
       "    <tr>\n",
       "      <th>2813</th>\n",
       "      <td>우리 아파트는 1991년 지어져 이제 30년이 된 아파트입니다 교통 좋고 살기 좋은...</td>\n",
       "      <td>-1</td>\n",
       "    </tr>\n",
       "    <tr>\n",
       "      <th>2814</th>\n",
       "      <td>저는 영등포구 신길동  내과에서 6년째 투석을 받고 있는 투석환자입니다 요즈음 요양...</td>\n",
       "      <td>-1</td>\n",
       "    </tr>\n",
       "    <tr>\n",
       "      <th>2815</th>\n",
       "      <td>이유 폐지 내용 여성가족부 청와대 국민청원 으로 폐지 결론 2001년2020년 여성...</td>\n",
       "      <td>-1</td>\n",
       "    </tr>\n",
       "  </tbody>\n",
       "</table>\n",
       "<p>2816 rows × 2 columns</p>\n",
       "</div>"
      ],
      "text/plain": [
       "                                                content  label\n",
       "0     1972년 9월 28일 춘천 강간 살인사건의 또다른 피해자인 정xx씨에 관심을 가져...     -1\n",
       "1     민주당 박상혁 의원이 대표 발의한 인천국제공항공사법 일부개정법률안 한국공항공사법 일...     -1\n",
       "2     춘천 파출소 소장 딸 살인사건에서 억울하게 아동 강간살인범으로 누명을 씌워 무기징역...     -1\n",
       "3     안녕하세요 429일 꼬꼬무2 에 방영된 고문 조작 사건을 보고 지금이라도 국민들이 ...     -1\n",
       "4     본인이 하지도않은짓을 형사고문에의해 누명쓰고  그 오랜세월 옥살이하다가 제대로된 사...     -1\n",
       "...                                                 ...    ...\n",
       "2811  우정청 이주무관 을고발합니다 저는 노동조합의일로인하여 청에팩스민원을 내고 이에답이업...     -1\n",
       "2812  국립 대학교  총장은 대학교 학사 운영 규정을 위반하고 교육과정을 개편 개설교과목을...     -1\n",
       "2813  우리 아파트는 1991년 지어져 이제 30년이 된 아파트입니다 교통 좋고 살기 좋은...     -1\n",
       "2814  저는 영등포구 신길동  내과에서 6년째 투석을 받고 있는 투석환자입니다 요즈음 요양...     -1\n",
       "2815  이유 폐지 내용 여성가족부 청와대 국민청원 으로 폐지 결론 2001년2020년 여성...     -1\n",
       "\n",
       "[2816 rows x 2 columns]"
      ]
     },
     "execution_count": 164,
     "metadata": {},
     "output_type": "execute_result"
    }
   ],
   "source": [
    "my_content_df"
   ]
  },
  {
   "cell_type": "code",
   "execution_count": 56,
   "metadata": {},
   "outputs": [
    {
     "data": {
      "text/html": [
       "<div>\n",
       "<style scoped>\n",
       "    .dataframe tbody tr th:only-of-type {\n",
       "        vertical-align: middle;\n",
       "    }\n",
       "\n",
       "    .dataframe tbody tr th {\n",
       "        vertical-align: top;\n",
       "    }\n",
       "\n",
       "    .dataframe thead th {\n",
       "        text-align: right;\n",
       "    }\n",
       "</style>\n",
       "<table border=\"1\" class=\"dataframe\">\n",
       "  <thead>\n",
       "    <tr style=\"text-align: right;\">\n",
       "      <th></th>\n",
       "      <th>content</th>\n",
       "      <th>label</th>\n",
       "    </tr>\n",
       "  </thead>\n",
       "  <tbody>\n",
       "    <tr>\n",
       "      <th>0</th>\n",
       "      <td>\\n\\t\\t\\t함소원 국민청원도 거짓 단톡방 여론조작 의혹에 허위사실 반박 전문\\n...</td>\n",
       "      <td>-1</td>\n",
       "    </tr>\n",
       "    <tr>\n",
       "      <th>1</th>\n",
       "      <td>조승래 국회청원제도의 실효성을 제고해야국회법 개정 발의</td>\n",
       "      <td>-1</td>\n",
       "    </tr>\n",
       "    <tr>\n",
       "      <th>2</th>\n",
       "      <td>왜 강원도에 작은 중국 만드나 차이나타운 철회 청원 57만</td>\n",
       "      <td>1</td>\n",
       "    </tr>\n",
       "    <tr>\n",
       "      <th>3</th>\n",
       "      <td>분노의 국민청원 여성도 남성처럼 징병하라”</td>\n",
       "      <td>-1</td>\n",
       "    </tr>\n",
       "    <tr>\n",
       "      <th>4</th>\n",
       "      <td>강원도 차이나타운 철회 청원 60만 동의강원도 팩트체크 꼼꼼히 읽어 달라 해명 진땀</td>\n",
       "      <td>-1</td>\n",
       "    </tr>\n",
       "    <tr>\n",
       "      <th>...</th>\n",
       "      <td>...</td>\n",
       "      <td>...</td>\n",
       "    </tr>\n",
       "    <tr>\n",
       "      <th>2754</th>\n",
       "      <td>취준생 죽음으로 몰고간 가짜 김민수 검사’ 잡혔다</td>\n",
       "      <td>-1</td>\n",
       "    </tr>\n",
       "    <tr>\n",
       "      <th>2755</th>\n",
       "      <td>2·18 기념공원 명칭 병기 조례 개정 청원</td>\n",
       "      <td>-1</td>\n",
       "    </tr>\n",
       "    <tr>\n",
       "      <th>2756</th>\n",
       "      <td>조선시대 수군 전투선 판옥선이 충북 미래해양과학관으로</td>\n",
       "      <td>-1</td>\n",
       "    </tr>\n",
       "    <tr>\n",
       "      <th>2757</th>\n",
       "      <td>경찰 하동 폭력·학대 서당’ 첫 압수수색</td>\n",
       "      <td>-1</td>\n",
       "    </tr>\n",
       "    <tr>\n",
       "      <th>2758</th>\n",
       "      <td>취준생 죽음 몰고간 검사 김민수보이스피싱 일당 잡혔다</td>\n",
       "      <td>-1</td>\n",
       "    </tr>\n",
       "  </tbody>\n",
       "</table>\n",
       "<p>2759 rows × 2 columns</p>\n",
       "</div>"
      ],
      "text/plain": [
       "                                                content  label\n",
       "0     \\n\\t\\t\\t함소원 국민청원도 거짓 단톡방 여론조작 의혹에 허위사실 반박 전문\\n...     -1\n",
       "1                        조승래 국회청원제도의 실효성을 제고해야국회법 개정 발의     -1\n",
       "2                      왜 강원도에 작은 중국 만드나 차이나타운 철회 청원 57만      1\n",
       "3                               분노의 국민청원 여성도 남성처럼 징병하라”     -1\n",
       "4        강원도 차이나타운 철회 청원 60만 동의강원도 팩트체크 꼼꼼히 읽어 달라 해명 진땀     -1\n",
       "...                                                 ...    ...\n",
       "2754                        취준생 죽음으로 몰고간 가짜 김민수 검사’ 잡혔다     -1\n",
       "2755                           2·18 기념공원 명칭 병기 조례 개정 청원     -1\n",
       "2756                      조선시대 수군 전투선 판옥선이 충북 미래해양과학관으로     -1\n",
       "2757                             경찰 하동 폭력·학대 서당’ 첫 압수수색     -1\n",
       "2758                      취준생 죽음 몰고간 검사 김민수보이스피싱 일당 잡혔다     -1\n",
       "\n",
       "[2759 rows x 2 columns]"
      ]
     },
     "execution_count": 56,
     "metadata": {},
     "output_type": "execute_result"
    }
   ],
   "source": [
    "my_content_df_2"
   ]
  },
  {
   "cell_type": "code",
   "execution_count": 18,
   "metadata": {},
   "outputs": [
    {
     "name": "stderr",
     "output_type": "stream",
     "text": [
      "100%|███████████████████████████████████████████████████████████████████████████████| 831/831 [00:01<00:00, 751.36it/s]\n"
     ]
    }
   ],
   "source": [
    "labels = []\n",
    "contents = []\n",
    "j = 0\n",
    "contents_naver = (daum['contents'])\n",
    "\n",
    "for content in tqdm(contents_naver):\n",
    "    content_data = content\n",
    "    clean_content = re.sub('[-=+,#/\\?:^$.@*\\\"※~&%ㆍ!』\\\\‘|\\(\\)\\[\\]\\<\\>`\\'…\\\"\\“》]', '', content_data)\n",
    "    negative_flag = False\n",
    "    label = 0\n",
    "    for i in range(len(positive)): \n",
    "        if positive[i] in clean_content:\n",
    "            label = -1 \n",
    "            negative_flag = True\n",
    "            break \n",
    "    if negative_flag == False: \n",
    "        for i in range(len(negative)): \n",
    "            if negative[i] in clean_content: \n",
    "                label = 1 \n",
    "                break \n",
    "    contents.append(clean_content)\n",
    "    labels.append(label) \n",
    "        \n",
    "my_content_df_3 = pd.DataFrame({\"content\":contents, \"label\":labels})"
   ]
  },
  {
   "cell_type": "code",
   "execution_count": 19,
   "metadata": {},
   "outputs": [],
   "source": [
    "train_data = my_content_df\n",
    "test_data = my_content_df_2"
   ]
  },
  {
   "cell_type": "code",
   "execution_count": 20,
   "metadata": {},
   "outputs": [
    {
     "data": {
      "text/plain": [
       "<AxesSubplot:>"
      ]
     },
     "execution_count": 20,
     "metadata": {},
     "output_type": "execute_result"
    },
    {
     "data": {
      "image/png": "[encoded data removed]",
      "text/plain": [
       "<Figure size 432x288 with 1 Axes>"
      ]
     },
     "metadata": {
      "needs_background": "light"
     },
     "output_type": "display_data"
    }
   ],
   "source": [
    "train_data['label'].value_counts().plot(kind='bar')"
   ]
  },
  {
   "cell_type": "code",
   "execution_count": 21,
   "metadata": {},
   "outputs": [
    {
     "data": {
      "text/plain": [
       "0    2758\n",
       "1      52\n",
       "2       6\n",
       "Name: label, dtype: int64"
      ]
     },
     "execution_count": 21,
     "metadata": {},
     "output_type": "execute_result"
    }
   ],
   "source": [
    "train_data['label'].value_counts().reset_index(drop=True)"
   ]
  },
  {
   "cell_type": "code",
   "execution_count": 22,
   "metadata": {},
   "outputs": [
    {
     "data": {
      "image/png": "[encoded data removed]",
      "text/plain": [
       "<Figure size 432x288 with 1 Axes>"
      ]
     },
     "metadata": {
      "needs_background": "light"
     },
     "output_type": "display_data"
    }
   ],
   "source": [
    "x = np.arange(3)\n",
    "month = ['부정', '긍정', '중립']\n",
    "value = train_data['label'].value_counts().reset_index(drop=True)\n",
    "\n",
    "plt.bar(x, value)\n",
    "plt.xticks(x, month)\n",
    "plt.title('국민청원 감정 빈도 그래프')\n",
    "for i, v in enumerate(x):\n",
    "    plt.text(v, value[i], value[i],                 # 좌표 (x축 = v, y축 = y[0]..y[1], 표시 = y[0]..y[1])\n",
    "             fontsize = 9, \n",
    "             color='blue',\n",
    "             horizontalalignment='center',  # horizontalalignment (left, center, right)\n",
    "             verticalalignment='bottom')\n",
    "\n",
    "plt.show()\n",
    "#plt.savefig('국민청원 월별 청원 수.png')"
   ]
  },
  {
   "cell_type": "code",
   "execution_count": 23,
   "metadata": {},
   "outputs": [
    {
     "data": {
      "text/plain": [
       "-1    2755\n",
       " 1       4\n",
       "Name: label, dtype: int64"
      ]
     },
     "execution_count": 23,
     "metadata": {},
     "output_type": "execute_result"
    }
   ],
   "source": [
    "test_data['label'].value_counts()"
   ]
  },
  {
   "cell_type": "code",
   "execution_count": 24,
   "metadata": {},
   "outputs": [],
   "source": [
    "stopwords = ['의', '가', '이', '은', '들', '는', '좀', '잘', '걍', '과', '도', '를', '으로', '자', '에', '와', '한', '하다']\n",
    "\n",
    "\n",
    "X_train = []\n",
    "for sentence in train_data['content']:\n",
    "    temp_X = [] \n",
    "    temp_X = okt.morphs(sentence, stem=True) # 토큰화 \n",
    "    temp_X = [word for word in temp_X if not word in stopwords] # 불용어 제거 \n",
    "    X_train.append(temp_X)\n",
    "\n",
    "\n",
    "X_test = [] \n",
    "for sentence in test_data['content']: \n",
    "    temp_X = []\n",
    "    temp_X = okt.morphs(sentence, stem=True) # 토큰화 \n",
    "    temp_X = [word for word in temp_X if not word in stopwords] # 불용어 제거 \n",
    "    X_test.append(temp_X)\n"
   ]
  },
  {
   "cell_type": "code",
   "execution_count": 25,
   "metadata": {},
   "outputs": [],
   "source": [
    "from keras.preprocessing.text import Tokenizer\n",
    "max_words = 35000 \n",
    "tokenizer = Tokenizer(num_words = max_words)\n",
    "tokenizer.fit_on_texts(X_train)\n",
    "X_train = tokenizer.texts_to_sequences(X_train)\n",
    "X_test = tokenizer.texts_to_sequences(X_test)"
   ]
  },
  {
   "cell_type": "code",
   "execution_count": 26,
   "metadata": {},
   "outputs": [
    {
     "name": "stdout",
     "output_type": "stream",
     "text": [
      "내용의 최대 길이 :  9102\n",
      "내용의 평균 길이 :  479.3924005681818\n"
     ]
    },
    {
     "data": {
      "image/png": "[encoded data removed]",
      "text/plain": [
       "<Figure size 432x288 with 1 Axes>"
      ]
     },
     "metadata": {
      "needs_background": "light"
     },
     "output_type": "display_data"
    }
   ],
   "source": [
    "print(\"내용의 최대 길이 : \", max(len(l) for l in X_train)) \n",
    "print(\"내용의 평균 길이 : \", sum(map(len, X_train))/ len(X_train))\n",
    "plt.hist([len(s) for s in X_train], bins=50) \n",
    "plt.xlabel('length of Data')\n",
    "plt.ylabel('number of Data')\n",
    "plt.show()\n"
   ]
  },
  {
   "cell_type": "code",
   "execution_count": 27,
   "metadata": {},
   "outputs": [
    {
     "name": "stdout",
     "output_type": "stream",
     "text": [
      "내용의 최대 길이 :  4769\n",
      "내용의 평균 길이 :  413.82384922073214\n"
     ]
    },
    {
     "data": {
      "image/png": "[encoded data removed]",
      "text/plain": [
       "<Figure size 432x288 with 1 Axes>"
      ]
     },
     "metadata": {
      "needs_background": "light"
     },
     "output_type": "display_data"
    }
   ],
   "source": [
    "print(\"내용의 최대 길이 : \", max(len(l) for l in X_test))\n",
    "print(\"내용의 평균 길이 : \", sum(map(len, X_test))/ len(X_test))\n",
    "plt.hist([len(s) for s in X_test], bins=50)\n",
    "plt.xlabel('length of Data')\n",
    "plt.ylabel('number of Data')\n",
    "plt.show()\n"
   ]
  },
  {
   "cell_type": "code",
   "execution_count": 28,
   "metadata": {},
   "outputs": [],
   "source": [
    "import numpy as np \n",
    "y_train = []\n",
    "y_test = []\n",
    "for i in range(len(train_data['label'])):\n",
    "    if train_data['label'].iloc[i] == 1:\n",
    "        y_train.append([0, 0, 1]) \n",
    "    elif train_data['label'].iloc[i] == 0:\n",
    "        y_train.append([0, 1, 0]) \n",
    "    elif train_data['label'].iloc[i] == -1: \n",
    "        y_train.append([1, 0, 0])\n",
    "        \n",
    "for i in range(len(test_data['label'])): \n",
    "    if test_data['label'].iloc[i] == 1: \n",
    "        y_test.append([0, 0, 1]) \n",
    "    elif test_data['label'].iloc[i] == 0: \n",
    "        y_test.append([0, 1, 0]) \n",
    "    elif test_data['label'].iloc[i] == -1:\n",
    "        y_test.append([1, 0, 0]) \n",
    "        \n",
    "        \n",
    "y_train = np.array(y_train) \n",
    "y_test = np.array(y_test)\n"
   ]
  },
  {
   "cell_type": "code",
   "execution_count": 29,
   "metadata": {},
   "outputs": [
    {
     "data": {
      "text/plain": [
       "array([[1, 0, 0],\n",
       "       [1, 0, 0],\n",
       "       [1, 0, 0],\n",
       "       ...,\n",
       "       [1, 0, 0],\n",
       "       [1, 0, 0],\n",
       "       [1, 0, 0]])"
      ]
     },
     "execution_count": 29,
     "metadata": {},
     "output_type": "execute_result"
    }
   ],
   "source": [
    "y_train"
   ]
  },
  {
   "cell_type": "code",
   "execution_count": 30,
   "metadata": {},
   "outputs": [
    {
     "data": {
      "text/plain": [
       "array([[1, 0, 0],\n",
       "       [1, 0, 0],\n",
       "       [1, 0, 0],\n",
       "       ...,\n",
       "       [1, 0, 0],\n",
       "       [1, 0, 0],\n",
       "       [1, 0, 0]])"
      ]
     },
     "execution_count": 30,
     "metadata": {},
     "output_type": "execute_result"
    }
   ],
   "source": [
    "y_test"
   ]
  },
  {
   "cell_type": "code",
   "execution_count": 31,
   "metadata": {},
   "outputs": [
    {
     "data": {
      "text/plain": [
       "2816"
      ]
     },
     "execution_count": 31,
     "metadata": {},
     "output_type": "execute_result"
    }
   ],
   "source": [
    "len(X_train)"
   ]
  },
  {
   "cell_type": "code",
   "execution_count": 32,
   "metadata": {},
   "outputs": [
    {
     "data": {
      "text/plain": [
       "2759"
      ]
     },
     "execution_count": 32,
     "metadata": {},
     "output_type": "execute_result"
    }
   ],
   "source": [
    "len(X_test)"
   ]
  },
  {
   "cell_type": "code",
   "execution_count": 33,
   "metadata": {},
   "outputs": [
    {
     "data": {
      "text/plain": [
       "2816"
      ]
     },
     "execution_count": 33,
     "metadata": {},
     "output_type": "execute_result"
    }
   ],
   "source": [
    "len(y_train)"
   ]
  },
  {
   "cell_type": "code",
   "execution_count": 34,
   "metadata": {},
   "outputs": [
    {
     "data": {
      "text/plain": [
       "2759"
      ]
     },
     "execution_count": 34,
     "metadata": {},
     "output_type": "execute_result"
    }
   ],
   "source": [
    "len(y_test)"
   ]
  },
  {
   "cell_type": "code",
   "execution_count": 35,
   "metadata": {},
   "outputs": [],
   "source": [
    "from keras.layers import Embedding, Dense, LSTM \n",
    "from keras.models import Sequential\n",
    "from keras.preprocessing.sequence import pad_sequences\n",
    "max_len = 40 # 전체 데이터의 길이를 20로 맞춘다 \n",
    "X_train = pad_sequences(X_train, maxlen=max_len) \n",
    "X_test = pad_sequences(X_test, maxlen=max_len)"
   ]
  },
  {
   "cell_type": "code",
   "execution_count": 36,
   "metadata": {},
   "outputs": [
    {
     "name": "stdout",
     "output_type": "stream",
     "text": [
      "Epoch 1/10\n",
      "254/254 [==============================] - 17s 60ms/step - loss: 0.2688 - accuracy: 0.9593 - val_loss: 0.1099 - val_accuracy: 0.9716\n",
      "Epoch 2/10\n",
      "254/254 [==============================] - 17s 66ms/step - loss: 0.0626 - accuracy: 0.9843 - val_loss: 0.1178 - val_accuracy: 0.9716\n",
      "Epoch 3/10\n",
      "254/254 [==============================] - 16s 63ms/step - loss: 0.0347 - accuracy: 0.9937 - val_loss: 0.1479 - val_accuracy: 0.9716\n",
      "Epoch 4/10\n",
      "254/254 [==============================] - 15s 60ms/step - loss: 0.0156 - accuracy: 0.9966 - val_loss: 0.1335 - val_accuracy: 0.9787\n",
      "Epoch 5/10\n",
      "254/254 [==============================] - 15s 60ms/step - loss: 0.0118 - accuracy: 0.9980 - val_loss: 0.1455 - val_accuracy: 0.9716\n",
      "Epoch 6/10\n",
      "254/254 [==============================] - 16s 63ms/step - loss: 0.0108 - accuracy: 0.9966 - val_loss: 0.1987 - val_accuracy: 0.9752\n",
      "Epoch 7/10\n",
      "254/254 [==============================] - 16s 62ms/step - loss: 0.0014 - accuracy: 0.9999 - val_loss: 0.2255 - val_accuracy: 0.9752\n",
      "Epoch 8/10\n",
      "254/254 [==============================] - 16s 64ms/step - loss: 0.0011 - accuracy: 1.0000 - val_loss: 0.2337 - val_accuracy: 0.9716\n",
      "Epoch 9/10\n",
      "254/254 [==============================] - 16s 63ms/step - loss: 3.1110e-04 - accuracy: 1.0000 - val_loss: 0.2468 - val_accuracy: 0.9752\n",
      "Epoch 10/10\n",
      "254/254 [==============================] - 16s 64ms/step - loss: 2.3173e-04 - accuracy: 1.0000 - val_loss: 0.2540 - val_accuracy: 0.9752\n"
     ]
    }
   ],
   "source": [
    "model = Sequential() \n",
    "model.add(Embedding(max_words, 100))\n",
    "model.add(LSTM(128)) \n",
    "model.add(Dense(3, activation='softmax')) \n",
    "\n",
    "\n",
    "model.compile(optimizer='adam', loss='categorical_crossentropy', metrics=['accuracy']) \n",
    "history = model.fit(X_train, y_train, epochs=10, batch_size=10, validation_split = 0.1)\n"
   ]
  },
  {
   "cell_type": "code",
   "execution_count": 37,
   "metadata": {},
   "outputs": [],
   "source": [
    "def model_builder(hp):\n",
    "    model = Sequential()\n",
    "    model.add(Embedding(max_words, 100))\n",
    "\n",
    "    \n",
    "    hp_units = hp.Int('units', min_value = 64, max_value = 256, step = 64)\n",
    "    model.add(LSTM(units = hp_units))\n",
    "    model.add(Dense(3, activation='softmax')) \n",
    "\n",
    "    \n",
    "    hp_learning_rate = hp.Choice('learning_rate', values = [1e-2, 1e-3, 1e-4]) \n",
    "    \n",
    "    model.compile(optimizer = keras.optimizers.Adam(learning_rate = hp_learning_rate),\n",
    "                loss = keras.losses.CategoricalCrossentropy(from_logits = True), \n",
    "                metrics = ['accuracy'])\n",
    "\n",
    "    return model"
   ]
  },
  {
   "cell_type": "code",
   "execution_count": 38,
   "metadata": {},
   "outputs": [
    {
     "name": "stdout",
     "output_type": "stream",
     "text": [
      "INFO:tensorflow:Reloading Oracle from existing project my_dir\\intro_to_kt2\\oracle.json\n",
      "INFO:tensorflow:Reloading Tuner from my_dir\\intro_to_kt2\\tuner0.json\n"
     ]
    }
   ],
   "source": [
    "tuner = kt.Hyperband(model_builder,\n",
    "                     objective = 'val_accuracy', \n",
    "                     max_epochs = 10,\n",
    "                     factor = 3,\n",
    "                     directory = 'my_dir',\n",
    "                     project_name = 'intro_to_kt2')"
   ]
  },
  {
   "cell_type": "code",
   "execution_count": 39,
   "metadata": {
    "scrolled": true
   },
   "outputs": [
    {
     "name": "stdout",
     "output_type": "stream",
     "text": [
      "INFO:tensorflow:Oracle triggered exit\n"
     ]
    }
   ],
   "source": [
    "a = tuner.search(X_train, y_train, epochs = 10, validation_split = 0.1)"
   ]
  },
  {
   "cell_type": "code",
   "execution_count": 52,
   "metadata": {},
   "outputs": [],
   "source": [
    "best_hps = tuner.get_best_hyperparameters(num_trials = 1)[0]"
   ]
  },
  {
   "cell_type": "code",
   "execution_count": 53,
   "metadata": {},
   "outputs": [],
   "source": [
    "model = tuner.hypermodel.build(best_hps)"
   ]
  },
  {
   "cell_type": "code",
   "execution_count": null,
   "metadata": {},
   "outputs": [
    {
     "name": "stdout",
     "output_type": "stream",
     "text": [
      "Epoch 1/10\n",
      "23/23 [==============================] - 7s 228ms/step - loss: 1.0248 - accuracy: 0.5426 - val_loss: 0.9366 - val_accuracy: 0.5851\n",
      "Epoch 2/10\n",
      "23/23 [==============================] - 4s 186ms/step - loss: 0.8657 - accuracy: 0.6353 - val_loss: 0.8183 - val_accuracy: 0.6330\n",
      "Epoch 3/10\n",
      "23/23 [==============================] - 4s 186ms/step - loss: 0.6451 - accuracy: 0.7538 - val_loss: 0.6925 - val_accuracy: 0.7074\n",
      "Epoch 4/10\n",
      "23/23 [==============================] - 4s 184ms/step - loss: 0.3615 - accuracy: 0.8439 - val_loss: 1.0411 - val_accuracy: 0.7092\n",
      "Epoch 5/10\n",
      "23/23 [==============================] - 4s 184ms/step - loss: 0.1591 - accuracy: 0.9629 - val_loss: 0.8678 - val_accuracy: 0.7216\n",
      "Epoch 6/10\n",
      "23/23 [==============================] - 7s 307ms/step - loss: 0.0862 - accuracy: 0.9865 - val_loss: 1.2889 - val_accuracy: 0.7021\n",
      "Epoch 7/10\n",
      "23/23 [==============================] - 7s 296ms/step - loss: 0.0377 - accuracy: 0.9908 - val_loss: 1.0654 - val_accuracy: 0.7358\n",
      "Epoch 8/10\n",
      "23/23 [==============================] - 6s 271ms/step - loss: 0.0174 - accuracy: 0.9975 - val_loss: 1.2547 - val_accuracy: 0.7216\n"
     ]
    }
   ],
   "source": [
    "history = model.fit(X_train, y_train, epochs = 10, batch_size = 100, validation_split = 0.2)"
   ]
  },
  {
   "cell_type": "code",
   "execution_count": 49,
   "metadata": {},
   "outputs": [
    {
     "name": "stdout",
     "output_type": "stream",
     "text": [
      "87/87 [==============================] - 1s 6ms/step - loss: 2.4863 - accuracy: 0.6441\n"
     ]
    },
    {
     "data": {
      "text/plain": [
       "[2.486314058303833, 0.6440739631652832]"
      ]
     },
     "execution_count": 49,
     "metadata": {},
     "output_type": "execute_result"
    }
   ],
   "source": [
    "model.evaluate(X_test, y_test)"
   ]
  },
  {
   "cell_type": "code",
   "execution_count": 40,
   "metadata": {},
   "outputs": [
    {
     "data": {
      "image/png": "[encoded data removed]",
      "text/plain": [
       "<Figure size 432x288 with 2 Axes>"
      ]
     },
     "metadata": {
      "needs_background": "light"
     },
     "output_type": "display_data"
    }
   ],
   "source": [
    "fig, loss_ax = plt.subplots()\n",
    "\n",
    "acc_ax = loss_ax.twinx()\n",
    "\n",
    "loss_ax.plot(history.history['loss'], 'y', label='train loss')\n",
    "loss_ax.plot(history.history['val_loss'], 'r', label='val loss')\n",
    "\n",
    "acc_ax.plot(history.history['accuracy'], 'b', label='train acc')\n",
    "acc_ax.plot(history.history['val_accuracy'], 'g', label='val acc')\n",
    "\n",
    "loss_ax.set_xlabel('epch')\n",
    "loss_ax.set_ylabel('loss')\n",
    "acc_ax.set_ylabel('accuracy')\n",
    "\n",
    "loss_ax.legend(loc='upper left')\n",
    "acc_ax.legend(loc='lower left')\n",
    "\n",
    "plt.show()"
   ]
  },
  {
   "cell_type": "code",
   "execution_count": 41,
   "metadata": {
    "scrolled": true
   },
   "outputs": [
    {
     "data": {
      "image/png": "[encoded data removed]",
      "text/plain": [
       "<Figure size 432x288 with 1 Axes>"
      ]
     },
     "metadata": {
      "needs_background": "light"
     },
     "output_type": "display_data"
    }
   ],
   "source": [
    "fig, loss_ax = plt.subplots()\n",
    "\n",
    "\n",
    "loss_ax.plot(history.history['loss'], 'y', label='train loss')\n",
    "loss_ax.plot(history.history['val_loss'], 'r', label='val loss')\n",
    "\n",
    "\n",
    "loss_ax.set_xlabel('epch')\n",
    "loss_ax.set_ylabel('loss')\n",
    "loss_ax.set_ylim(0.00000000000000000001,0.5)\n",
    "\n",
    "loss_ax.legend(loc='upper left')\n",
    "\n",
    "plt.show()"
   ]
  },
  {
   "cell_type": "code",
   "execution_count": 42,
   "metadata": {},
   "outputs": [
    {
     "data": {
      "image/png": "[encoded data removed]",
      "text/plain": [
       "<Figure size 432x288 with 1 Axes>"
      ]
     },
     "metadata": {
      "needs_background": "light"
     },
     "output_type": "display_data"
    }
   ],
   "source": [
    "fig, acc_ax = plt.subplots()\n",
    "\n",
    "\n",
    "\n",
    "\n",
    "acc_ax.plot(history.history['accuracy'], 'b', label='train acc')\n",
    "acc_ax.plot(history.history['val_accuracy'], 'g', label='val acc')\n",
    "\n",
    "acc_ax.set_xlabel('epch')\n",
    "acc_ax.set_ylabel('accuracy')\n",
    "\n",
    "acc_ax.legend(loc='lower left')\n",
    "\n",
    "plt.show()"
   ]
  },
  {
   "cell_type": "code",
   "execution_count": 43,
   "metadata": {},
   "outputs": [
    {
     "name": "stdout",
     "output_type": "stream",
     "text": [
      "87/87 [==============================] - 1s 11ms/step - loss: 0.0178 - accuracy: 0.9978\n",
      " \n",
      " 테스트 정확도 : 99.78%\n"
     ]
    }
   ],
   "source": [
    "print(\" \\n 테스트 정확도 : {:.2f}%\".format(model.evaluate(X_test, y_test)[1] * 100))"
   ]
  },
  {
   "cell_type": "code",
   "execution_count": 44,
   "metadata": {},
   "outputs": [],
   "source": [
    "predict = model.predict(X_test)"
   ]
  },
  {
   "cell_type": "code",
   "execution_count": 45,
   "metadata": {},
   "outputs": [],
   "source": [
    "import numpy as np \n",
    "predict_labels = np.argmax(predict, axis=1)\n",
    "original_labels = np.argmax(y_test, axis=1)"
   ]
  },
  {
   "cell_type": "code",
   "execution_count": 47,
   "metadata": {},
   "outputs": [
    {
     "data": {
      "text/plain": [
       "array([0, 0, 0, ..., 0, 0, 0], dtype=int64)"
      ]
     },
     "execution_count": 47,
     "metadata": {},
     "output_type": "execute_result"
    }
   ],
   "source": [
    "original_labels"
   ]
  },
  {
   "cell_type": "code",
   "execution_count": 48,
   "metadata": {},
   "outputs": [
    {
     "data": {
      "text/html": [
       "<div>\n",
       "<style scoped>\n",
       "    .dataframe tbody tr th:only-of-type {\n",
       "        vertical-align: middle;\n",
       "    }\n",
       "\n",
       "    .dataframe tbody tr th {\n",
       "        vertical-align: top;\n",
       "    }\n",
       "\n",
       "    .dataframe thead th {\n",
       "        text-align: right;\n",
       "    }\n",
       "</style>\n",
       "<table border=\"1\" class=\"dataframe\">\n",
       "  <thead>\n",
       "    <tr style=\"text-align: right;\">\n",
       "      <th></th>\n",
       "      <th>original</th>\n",
       "      <th>predict</th>\n",
       "    </tr>\n",
       "  </thead>\n",
       "  <tbody>\n",
       "    <tr>\n",
       "      <th>0</th>\n",
       "      <td>0</td>\n",
       "      <td>0</td>\n",
       "    </tr>\n",
       "    <tr>\n",
       "      <th>1</th>\n",
       "      <td>0</td>\n",
       "      <td>0</td>\n",
       "    </tr>\n",
       "    <tr>\n",
       "      <th>2</th>\n",
       "      <td>0</td>\n",
       "      <td>0</td>\n",
       "    </tr>\n",
       "    <tr>\n",
       "      <th>3</th>\n",
       "      <td>0</td>\n",
       "      <td>0</td>\n",
       "    </tr>\n",
       "    <tr>\n",
       "      <th>4</th>\n",
       "      <td>0</td>\n",
       "      <td>0</td>\n",
       "    </tr>\n",
       "    <tr>\n",
       "      <th>...</th>\n",
       "      <td>...</td>\n",
       "      <td>...</td>\n",
       "    </tr>\n",
       "    <tr>\n",
       "      <th>2754</th>\n",
       "      <td>0</td>\n",
       "      <td>0</td>\n",
       "    </tr>\n",
       "    <tr>\n",
       "      <th>2755</th>\n",
       "      <td>0</td>\n",
       "      <td>0</td>\n",
       "    </tr>\n",
       "    <tr>\n",
       "      <th>2756</th>\n",
       "      <td>0</td>\n",
       "      <td>0</td>\n",
       "    </tr>\n",
       "    <tr>\n",
       "      <th>2757</th>\n",
       "      <td>0</td>\n",
       "      <td>0</td>\n",
       "    </tr>\n",
       "    <tr>\n",
       "      <th>2758</th>\n",
       "      <td>0</td>\n",
       "      <td>0</td>\n",
       "    </tr>\n",
       "  </tbody>\n",
       "</table>\n",
       "<p>2759 rows × 2 columns</p>\n",
       "</div>"
      ],
      "text/plain": [
       "      original  predict\n",
       "0            0        0\n",
       "1            0        0\n",
       "2            0        0\n",
       "3            0        0\n",
       "4            0        0\n",
       "...        ...      ...\n",
       "2754         0        0\n",
       "2755         0        0\n",
       "2756         0        0\n",
       "2757         0        0\n",
       "2758         0        0\n",
       "\n",
       "[2759 rows x 2 columns]"
      ]
     },
     "execution_count": 48,
     "metadata": {},
     "output_type": "execute_result"
    }
   ],
   "source": [
    "labels_res = pd.DataFrame()\n",
    "\n",
    "labels_res['original'] = pd.Series(original_labels)\n",
    "labels_res['predict'] = pd.Series(predict_labels)\n",
    "labels_res"
   ]
  },
  {
   "cell_type": "code",
   "execution_count": 49,
   "metadata": {},
   "outputs": [
    {
     "data": {
      "text/plain": [
       "<AxesSubplot:>"
      ]
     },
     "execution_count": 49,
     "metadata": {},
     "output_type": "execute_result"
    },
    {
     "data": {
      "image/png": "[encoded data removed]",
      "text/plain": [
       "<Figure size 432x288 with 1 Axes>"
      ]
     },
     "metadata": {
      "needs_background": "light"
     },
     "output_type": "display_data"
    }
   ],
   "source": [
    "labels_res['original'].value_counts().plot(kind='bar')"
   ]
  },
  {
   "cell_type": "code",
   "execution_count": 50,
   "metadata": {},
   "outputs": [],
   "source": [
    "original = labels_res['original'].value_counts().reset_index(drop=True)"
   ]
  },
  {
   "cell_type": "code",
   "execution_count": 51,
   "metadata": {},
   "outputs": [],
   "source": [
    "x = np.arange(2)\n",
    "month = ['부정', '긍정']\n",
    "value = original.sort_index(ascending=True)"
   ]
  },
  {
   "cell_type": "code",
   "execution_count": 52,
   "metadata": {},
   "outputs": [
    {
     "data": {
      "image/png": "[encoded data removed]",
      "text/plain": [
       "<Figure size 432x288 with 1 Axes>"
      ]
     },
     "metadata": {
      "needs_background": "light"
     },
     "output_type": "display_data"
    }
   ],
   "source": [
    "plt.bar(x, value)\n",
    "plt.xticks(x, month)\n",
    "for i, v in enumerate(x):\n",
    "    plt.text(v, value[i], value[i],                 # 좌표 (x축 = v, y축 = y[0]..y[1], 표시 = y[0]..y[1])\n",
    "             fontsize = 9, \n",
    "             color='blue',\n",
    "             horizontalalignment='center',  \n",
    "             verticalalignment='bottom')\n",
    "\n",
    "plt.show()\n",
    "#plt.savefig('국민청원 월별 청원 수.png')"
   ]
  },
  {
   "cell_type": "code",
   "execution_count": 53,
   "metadata": {},
   "outputs": [
    {
     "data": {
      "text/plain": [
       "0    2757\n",
       "2       2\n",
       "Name: predict, dtype: int64"
      ]
     },
     "execution_count": 53,
     "metadata": {},
     "output_type": "execute_result"
    }
   ],
   "source": [
    "labels_res['predict'].value_counts()"
   ]
  },
  {
   "cell_type": "code",
   "execution_count": 54,
   "metadata": {},
   "outputs": [],
   "source": [
    "x = np.arange(1)\n",
    "month = ['부정']\n",
    "value = labels_res['predict'].value_counts()"
   ]
  },
  {
   "cell_type": "code",
   "execution_count": 55,
   "metadata": {},
   "outputs": [
    {
     "data": {
      "image/png": "[encoded data removed]",
      "text/plain": [
       "<Figure size 432x288 with 1 Axes>"
      ]
     },
     "metadata": {
      "needs_background": "light"
     },
     "output_type": "display_data"
    }
   ],
   "source": [
    "plt.bar(x, value, width = 0.4)\n",
    "plt.xticks(x, month)\n",
    "for i, v in enumerate(x):\n",
    "    plt.text(v, value[i], value[i],                 # 좌표 (x축 = v, y축 = y[0]..y[1], 표시 = y[0]..y[1])\n",
    "             fontsize = 9, \n",
    "             color='blue',\n",
    "             horizontalalignment='center', \n",
    "             verticalalignment='bottom')\n",
    "\n",
    "plt.show()\n",
    "#plt.savefig('국민청원 월별 청원 수.png')"
   ]
  },
  {
   "cell_type": "code",
   "execution_count": 56,
   "metadata": {},
   "outputs": [
    {
     "data": {
      "text/plain": [
       "0    2757\n",
       "2       2\n",
       "Name: predict, dtype: int64"
      ]
     },
     "execution_count": 56,
     "metadata": {},
     "output_type": "execute_result"
    }
   ],
   "source": [
    "labels_res['predict'].value_counts()"
   ]
  },
  {
   "cell_type": "code",
   "execution_count": 64,
   "metadata": {},
   "outputs": [],
   "source": [
    "test2_data = my_content_df_2"
   ]
  },
  {
   "cell_type": "code",
   "execution_count": 65,
   "metadata": {},
   "outputs": [
    {
     "data": {
      "text/plain": [
       "<AxesSubplot:>"
      ]
     },
     "execution_count": 65,
     "metadata": {},
     "output_type": "execute_result"
    },
    {
     "data": {
      "image/png": "[encoded data removed]",
      "text/plain": [
       "<Figure size 432x288 with 1 Axes>"
      ]
     },
     "metadata": {
      "needs_background": "light"
     },
     "output_type": "display_data"
    }
   ],
   "source": [
    "train_data['label'].value_counts().plot(kind='bar')"
   ]
  },
  {
   "cell_type": "code",
   "execution_count": 66,
   "metadata": {},
   "outputs": [
    {
     "data": {
      "text/plain": [
       "<AxesSubplot:>"
      ]
     },
     "execution_count": 66,
     "metadata": {},
     "output_type": "execute_result"
    },
    {
     "data": {
      "image/png": "[encoded data removed]",
      "text/plain": [
       "<Figure size 432x288 with 1 Axes>"
      ]
     },
     "metadata": {
      "needs_background": "light"
     },
     "output_type": "display_data"
    }
   ],
   "source": [
    "test2_data['label'].value_counts().plot(kind='bar')"
   ]
  },
  {
   "cell_type": "code",
   "execution_count": 68,
   "metadata": {},
   "outputs": [],
   "source": [
    "stopwords = ['의', '가', '이', '은', '들', '는', '좀', '잘', '걍', '과', '도', '를', '으로', '자', '에', '와', '한', '하다']\n",
    "\n",
    "X_train = []\n",
    "for sentence in train_data['content']:\n",
    "    temp_X = [] \n",
    "    temp_X = okt.morphs(sentence, stem=True) # 토큰화 \n",
    "    temp_X = [word for word in temp_X if not word in stopwords] # 불용어 제거 \n",
    "    X_train.append(temp_X)\n",
    "\n",
    "X_test_2 = [] \n",
    "for sentence in test2_data['content']: \n",
    "    temp_X = []\n",
    "    temp_X = okt.morphs(sentence, stem=True) # 토큰화 \n",
    "    temp_X = [word for word in temp_X if not word in stopwords] # 불용어 제거 \n",
    "    X_test_2.append(temp_X)\n"
   ]
  },
  {
   "cell_type": "code",
   "execution_count": 69,
   "metadata": {},
   "outputs": [],
   "source": [
    "from keras.preprocessing.text import Tokenizer\n",
    "max_words = 35000 \n",
    "tokenizer = Tokenizer(num_words = max_words)\n",
    "tokenizer.fit_on_texts(X_train)\n",
    "X_train = tokenizer.texts_to_sequences(X_train)\n",
    "X_test_2 = tokenizer.texts_to_sequences(X_test_2)"
   ]
  },
  {
   "cell_type": "code",
   "execution_count": 82,
   "metadata": {},
   "outputs": [
    {
     "name": "stdout",
     "output_type": "stream",
     "text": [
      "내용의 최대 길이 :  40\n",
      "내용의 평균 길이 :  40.0\n"
     ]
    },
    {
     "data": {
      "image/png": "[encoded data removed]",
      "text/plain": [
       "<Figure size 432x288 with 1 Axes>"
      ]
     },
     "metadata": {
      "needs_background": "light"
     },
     "output_type": "display_data"
    }
   ],
   "source": [
    "print(\"내용의 최대 길이 : \", max(len(l) for l in X_test_2))\n",
    "print(\"내용의 평균 길이 : \", sum(map(len, X_test_2))/ len(X_test_2))\n",
    "plt.hist([len(s) for s in X_test_2], bins=50)\n",
    "plt.xlabel('length of Data')\n",
    "plt.ylabel('number of Data')\n",
    "plt.show()\n"
   ]
  },
  {
   "cell_type": "code",
   "execution_count": 71,
   "metadata": {},
   "outputs": [],
   "source": [
    "y_test_2 = []\n",
    "\n",
    "        \n",
    "for i in range(len(test2_data['label'])): \n",
    "    if test_data['label'].iloc[i] == 1: \n",
    "        y_test_2.append([0, 0, 1]) \n",
    "    elif test_data['label'].iloc[i] == 0: \n",
    "        y_test_2.append([0, 1, 0]) \n",
    "    elif test_data['label'].iloc[i] == -1:\n",
    "        y_test_2.append([1, 0, 0]) \n",
    "        \n",
    "        \n",
    "y_test_2 = np.array(y_test)"
   ]
  },
  {
   "cell_type": "code",
   "execution_count": 72,
   "metadata": {},
   "outputs": [],
   "source": [
    "from keras.layers import Embedding, Dense, LSTM \n",
    "from keras.models import Sequential\n",
    "from keras.preprocessing.sequence import pad_sequences\n",
    "X_test_2 = pad_sequences(X_test, maxlen=max_len)"
   ]
  },
  {
   "cell_type": "code",
   "execution_count": 73,
   "metadata": {},
   "outputs": [
    {
     "name": "stdout",
     "output_type": "stream",
     "text": [
      "87/87 [==============================] - 1s 10ms/step - loss: 0.0178 - accuracy: 0.9978\n",
      " \n",
      " 테스트 정확도 : 99.78%\n"
     ]
    }
   ],
   "source": [
    "print(\" \\n 테스트 정확도 : {:.2f}%\".format(model.evaluate(X_test_2, y_test_2)[1] * 100))"
   ]
  },
  {
   "cell_type": "code",
   "execution_count": 74,
   "metadata": {},
   "outputs": [],
   "source": [
    "predict = model.predict(X_test_2)"
   ]
  },
  {
   "cell_type": "code",
   "execution_count": 75,
   "metadata": {},
   "outputs": [],
   "source": [
    "import numpy as np \n",
    "predict_labels = np.argmax(predict, axis=1)\n",
    "original_labels = np.argmax(y_test_2, axis=1)"
   ]
  },
  {
   "cell_type": "code",
   "execution_count": 77,
   "metadata": {},
   "outputs": [
    {
     "data": {
      "text/html": [
       "<div>\n",
       "<style scoped>\n",
       "    .dataframe tbody tr th:only-of-type {\n",
       "        vertical-align: middle;\n",
       "    }\n",
       "\n",
       "    .dataframe tbody tr th {\n",
       "        vertical-align: top;\n",
       "    }\n",
       "\n",
       "    .dataframe thead th {\n",
       "        text-align: right;\n",
       "    }\n",
       "</style>\n",
       "<table border=\"1\" class=\"dataframe\">\n",
       "  <thead>\n",
       "    <tr style=\"text-align: right;\">\n",
       "      <th></th>\n",
       "      <th>original</th>\n",
       "      <th>predict</th>\n",
       "    </tr>\n",
       "  </thead>\n",
       "  <tbody>\n",
       "    <tr>\n",
       "      <th>0</th>\n",
       "      <td>0</td>\n",
       "      <td>0</td>\n",
       "    </tr>\n",
       "    <tr>\n",
       "      <th>1</th>\n",
       "      <td>0</td>\n",
       "      <td>0</td>\n",
       "    </tr>\n",
       "    <tr>\n",
       "      <th>2</th>\n",
       "      <td>0</td>\n",
       "      <td>0</td>\n",
       "    </tr>\n",
       "    <tr>\n",
       "      <th>3</th>\n",
       "      <td>0</td>\n",
       "      <td>0</td>\n",
       "    </tr>\n",
       "    <tr>\n",
       "      <th>4</th>\n",
       "      <td>0</td>\n",
       "      <td>0</td>\n",
       "    </tr>\n",
       "    <tr>\n",
       "      <th>...</th>\n",
       "      <td>...</td>\n",
       "      <td>...</td>\n",
       "    </tr>\n",
       "    <tr>\n",
       "      <th>2754</th>\n",
       "      <td>0</td>\n",
       "      <td>0</td>\n",
       "    </tr>\n",
       "    <tr>\n",
       "      <th>2755</th>\n",
       "      <td>0</td>\n",
       "      <td>0</td>\n",
       "    </tr>\n",
       "    <tr>\n",
       "      <th>2756</th>\n",
       "      <td>0</td>\n",
       "      <td>0</td>\n",
       "    </tr>\n",
       "    <tr>\n",
       "      <th>2757</th>\n",
       "      <td>0</td>\n",
       "      <td>0</td>\n",
       "    </tr>\n",
       "    <tr>\n",
       "      <th>2758</th>\n",
       "      <td>0</td>\n",
       "      <td>0</td>\n",
       "    </tr>\n",
       "  </tbody>\n",
       "</table>\n",
       "<p>2759 rows × 2 columns</p>\n",
       "</div>"
      ],
      "text/plain": [
       "      original  predict\n",
       "0            0        0\n",
       "1            0        0\n",
       "2            0        0\n",
       "3            0        0\n",
       "4            0        0\n",
       "...        ...      ...\n",
       "2754         0        0\n",
       "2755         0        0\n",
       "2756         0        0\n",
       "2757         0        0\n",
       "2758         0        0\n",
       "\n",
       "[2759 rows x 2 columns]"
      ]
     },
     "execution_count": 77,
     "metadata": {},
     "output_type": "execute_result"
    }
   ],
   "source": [
    "labels_res = pd.DataFrame()\n",
    "\n",
    "labels_res['original'] = pd.Series(original_labels)\n",
    "labels_res['predict'] = pd.Series(predict_labels)\n",
    "labels_res"
   ]
  },
  {
   "cell_type": "code",
   "execution_count": 78,
   "metadata": {},
   "outputs": [
    {
     "data": {
      "text/plain": [
       "<AxesSubplot:>"
      ]
     },
     "execution_count": 78,
     "metadata": {},
     "output_type": "execute_result"
    },
    {
     "data": {
      "image/png": "[encoded data removed]",
      "text/plain": [
       "<Figure size 432x288 with 1 Axes>"
      ]
     },
     "metadata": {
      "needs_background": "light"
     },
     "output_type": "display_data"
    }
   ],
   "source": [
    "labels_res['original'].value_counts().plot(kind='bar') #0은 부정, 1은 중립 2는 긍정"
   ]
  },
  {
   "cell_type": "code",
   "execution_count": 79,
   "metadata": {},
   "outputs": [
    {
     "data": {
      "text/plain": [
       "0    2755\n",
       "2       4\n",
       "Name: original, dtype: int64"
      ]
     },
     "execution_count": 79,
     "metadata": {},
     "output_type": "execute_result"
    }
   ],
   "source": [
    "labels_res['original'].value_counts()"
   ]
  },
  {
   "cell_type": "code",
   "execution_count": 80,
   "metadata": {},
   "outputs": [
    {
     "data": {
      "text/plain": [
       "<AxesSubplot:>"
      ]
     },
     "execution_count": 80,
     "metadata": {},
     "output_type": "execute_result"
    },
    {
     "data": {
      "image/png": "[encoded data removed]",
      "text/plain": [
       "<Figure size 432x288 with 1 Axes>"
      ]
     },
     "metadata": {
      "needs_background": "light"
     },
     "output_type": "display_data"
    }
   ],
   "source": [
    "labels_res['predict'].value_counts().plot(kind='bar')\n"
   ]
  },
  {
   "cell_type": "code",
   "execution_count": 81,
   "metadata": {},
   "outputs": [
    {
     "data": {
      "text/plain": [
       "0    2757\n",
       "2       2\n",
       "Name: predict, dtype: int64"
      ]
     },
     "execution_count": 81,
     "metadata": {},
     "output_type": "execute_result"
    }
   ],
   "source": [
    "labels_res['predict'].value_counts()"
   ]
  },
  {
   "cell_type": "code",
   "execution_count": null,
   "metadata": {},
   "outputs": [],
   "source": []
  }
 ],
 "metadata": {
  "kernelspec": {
   "display_name": "Python 3",
   "language": "python",
   "name": "python3"
  },
  "language_info": {
   "codemirror_mode": {
    "name": "ipython",
    "version": 3
   },
   "file_extension": ".py",
   "mimetype": "text/x-python",
   "name": "python",
   "nbconvert_exporter": "python",
   "pygments_lexer": "ipython3",
   "version": "3.8.3"
  }
 },
 "nbformat": 4,
 "nbformat_minor": 4
}
