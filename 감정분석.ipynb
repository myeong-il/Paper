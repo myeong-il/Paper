{
 "cells": [
  {
   "cell_type": "code",
   "execution_count": 1,
   "metadata": {},
   "outputs": [],
   "source": [
    "import pandas as pd\n",
    "import konlpy\n",
    "from konlpy.tag import Okt\n",
    "%matplotlib inline\n",
    "import matplotlib.pyplot as plt\n",
    "import re\n",
    "import numpy as np\n",
    "import tensorflow as tf\n",
    "from tensorflow import keras\n",
    "\n",
    "import IPython\n",
    "import kerastuner as kt\n",
    "okt = Okt()\n",
    "\n",
    "from matplotlib import font_manager, rc\n",
    "font_name = font_manager.FontProperties(fname=\"c:/Windows/Fonts/malgun.ttf\").get_name()\n",
    "rc('font', family=font_name)"
   ]
  },
  {
   "cell_type": "code",
   "execution_count": 2,
   "metadata": {},
   "outputs": [],
   "source": [
    "with open(\"./negative_words_self.txt\", encoding='utf-8') as neg:\n",
    "    negative = neg.readlines()\n",
    "\n",
    "negative = [neg.replace(\"\\n\", \"\") for neg in negative]\n",
    "\n",
    "with open(\"./positive_words_self.txt\", encoding='utf-8') as pos:\n",
    "    positive = pos.readlines() \n",
    "    \n",
    "negative = [neg.replace(\"\\n\", \"\") for neg in negative]\n",
    "positive = [pos.replace(\"\\n\", \"\") for pos in positive]"
   ]
  },
  {
   "cell_type": "code",
   "execution_count": 3,
   "metadata": {},
   "outputs": [],
   "source": [
    "data = pd.read_excel(\"데이터 셋.xlsx\", sep=\",\")"
   ]
  },
  {
   "cell_type": "code",
   "execution_count": 5,
   "metadata": {},
   "outputs": [],
   "source": [
    "naver = pd.read_excel(\"네이버 뉴스 데이터 셋.xlsx\")\n",
    "daum = pd.read_excel(\"다음 뉴스 데이터 셋.xlsx\")"
   ]
  },
  {
   "cell_type": "code",
   "execution_count": 7,
   "metadata": {},
   "outputs": [
    {
     "data": {
      "text/plain": [
       "청원번호     0\n",
       "청원제목     0\n",
       "참여인원     0\n",
       "카테고리     0\n",
       "청원시작일    0\n",
       "청원마감일    0\n",
       "청원내용     0\n",
       "dtype: int64"
      ]
     },
     "execution_count": 7,
     "metadata": {},
     "output_type": "execute_result"
    }
   ],
   "source": [
    "data.isnull().sum()"
   ]
  },
  {
   "cell_type": "code",
   "execution_count": 8,
   "metadata": {},
   "outputs": [
    {
     "data": {
      "text/plain": [
       "2816"
      ]
     },
     "execution_count": 8,
     "metadata": {},
     "output_type": "execute_result"
    }
   ],
   "source": [
    "len(data)"
   ]
  },
  {
   "cell_type": "code",
   "execution_count": 10,
   "metadata": {},
   "outputs": [
    {
     "data": {
      "text/html": [
       "<div>\n",
       "<style scoped>\n",
       "    .dataframe tbody tr th:only-of-type {\n",
       "        vertical-align: middle;\n",
       "    }\n",
       "\n",
       "    .dataframe tbody tr th {\n",
       "        vertical-align: top;\n",
       "    }\n",
       "\n",
       "    .dataframe thead th {\n",
       "        text-align: right;\n",
       "    }\n",
       "</style>\n",
       "<table border=\"1\" class=\"dataframe\">\n",
       "  <thead>\n",
       "    <tr style=\"text-align: right;\">\n",
       "      <th></th>\n",
       "      <th>Unnamed: 0</th>\n",
       "      <th>title</th>\n",
       "      <th>contents</th>\n",
       "      <th>date</th>\n",
       "    </tr>\n",
       "  </thead>\n",
       "  <tbody>\n",
       "    <tr>\n",
       "      <th>0</th>\n",
       "      <td>0</td>\n",
       "      <td>'구미 여아' 언니 전남편 \"김씨, 희대의 악마이자 살인마..엄벌 해달라\"</td>\n",
       "      <td>\\n\\n\\n\\n\\n            구미 3세 여아 사망 사건 관련 숨진 여아의...</td>\n",
       "      <td>20210412</td>\n",
       "    </tr>\n",
       "    <tr>\n",
       "      <th>1</th>\n",
       "      <td>1</td>\n",
       "      <td>임오경 의원, '폭행 주장' 국민청원에 \"악의적 허위사실\" 반박</td>\n",
       "      <td>\\n\\n\\n\\n\\n            더불어민주당 임오경 의원. 사진=연합뉴스\\n...</td>\n",
       "      <td>20210224</td>\n",
       "    </tr>\n",
       "    <tr>\n",
       "      <th>2</th>\n",
       "      <td>2</td>\n",
       "      <td>반중 정서에 강원 차이나타운 반대 청원, 하루새 10만 넘었다!</td>\n",
       "      <td>\\n\\n\\n\\n\\n            청와대 국민청원 게시판./사진=캡쳐\\n   ...</td>\n",
       "      <td>20210331</td>\n",
       "    </tr>\n",
       "    <tr>\n",
       "      <th>3</th>\n",
       "      <td>3</td>\n",
       "      <td>'사관생도' 국민청원에 보훈처 차장 \"안타깝다\"..국방부 \"조사 않을 것\"</td>\n",
       "      <td>\\n\\n\\n\\n\\n            지난 26일 청와대 국민청원 게시판에 자신을...</td>\n",
       "      <td>20210329</td>\n",
       "    </tr>\n",
       "    <tr>\n",
       "      <th>4</th>\n",
       "      <td>4</td>\n",
       "      <td>글로벌 반도체 패권경쟁에 높아지는 이재용 사면론</td>\n",
       "      <td>\\n\\n\\n\\n\\n            충수염 수술 후 병원에 입원해 있던 이재용 ...</td>\n",
       "      <td>20210417</td>\n",
       "    </tr>\n",
       "    <tr>\n",
       "      <th>...</th>\n",
       "      <td>...</td>\n",
       "      <td>...</td>\n",
       "      <td>...</td>\n",
       "      <td>...</td>\n",
       "    </tr>\n",
       "    <tr>\n",
       "      <th>826</th>\n",
       "      <td>826</td>\n",
       "      <td>김어준 \"吳 당선됐으니 없어지라고..세금 탈루? 선 넘지마\"</td>\n",
       "      <td>\\n\\n\\n\\n\\n            TBS라디오 ‘김어준의 뉴스공장’ 진행자 김...</td>\n",
       "      <td>20210416</td>\n",
       "    </tr>\n",
       "    <tr>\n",
       "      <th>827</th>\n",
       "      <td>827</td>\n",
       "      <td>'조두순에 복지급여 주지 마라' 국민청원 답 못듣는다</td>\n",
       "      <td>\\n\\n\\n\\n\\n            아동 성폭행 혐의로 징역 12년을 복역 후 ...</td>\n",
       "      <td>20210208</td>\n",
       "    </tr>\n",
       "    <tr>\n",
       "      <th>828</th>\n",
       "      <td>828</td>\n",
       "      <td>\"스쿨존에 왜 트럭이 다녀요\" 초등생 국민청원 호소</td>\n",
       "      <td>\\n\\n\\n\\n\\n            국민청원 게시판, 국민일보\\n        ...</td>\n",
       "      <td>20210319</td>\n",
       "    </tr>\n",
       "    <tr>\n",
       "      <th>829</th>\n",
       "      <td>829</td>\n",
       "      <td>\"검은 이미지 투영, 아파트 이름서 LH 빼달라\" LH 입주민 분노의 靑 청원</td>\n",
       "      <td>\\n\\n\\n\\n\\n            사진은 경기도 성남시 LH 경기지역본부 모습...</td>\n",
       "      <td>20210319</td>\n",
       "    </tr>\n",
       "    <tr>\n",
       "      <th>830</th>\n",
       "      <td>830</td>\n",
       "      <td>'자발적 비혼모' 사유리 '슈돌' 출연에 靑 청원 등장..갑론을박 [종합]</td>\n",
       "      <td>\\n\\n[텐아시아=김수영 기자]\\n\\n\\n\\n            사유리 /사진=텐...</td>\n",
       "      <td>20210329</td>\n",
       "    </tr>\n",
       "  </tbody>\n",
       "</table>\n",
       "<p>831 rows × 4 columns</p>\n",
       "</div>"
      ],
      "text/plain": [
       "     Unnamed: 0                                        title  \\\n",
       "0             0    '구미 여아' 언니 전남편 \"김씨, 희대의 악마이자 살인마..엄벌 해달라\"   \n",
       "1             1          임오경 의원, '폭행 주장' 국민청원에 \"악의적 허위사실\" 반박   \n",
       "2             2          반중 정서에 강원 차이나타운 반대 청원, 하루새 10만 넘었다!   \n",
       "3             3    '사관생도' 국민청원에 보훈처 차장 \"안타깝다\"..국방부 \"조사 않을 것\"   \n",
       "4             4                   글로벌 반도체 패권경쟁에 높아지는 이재용 사면론   \n",
       "..          ...                                          ...   \n",
       "826         826            김어준 \"吳 당선됐으니 없어지라고..세금 탈루? 선 넘지마\"   \n",
       "827         827                '조두순에 복지급여 주지 마라' 국민청원 답 못듣는다   \n",
       "828         828                 \"스쿨존에 왜 트럭이 다녀요\" 초등생 국민청원 호소   \n",
       "829         829  \"검은 이미지 투영, 아파트 이름서 LH 빼달라\" LH 입주민 분노의 靑 청원   \n",
       "830         830    '자발적 비혼모' 사유리 '슈돌' 출연에 靑 청원 등장..갑론을박 [종합]   \n",
       "\n",
       "                                              contents      date  \n",
       "0    \\n\\n\\n\\n\\n            구미 3세 여아 사망 사건 관련 숨진 여아의...  20210412  \n",
       "1    \\n\\n\\n\\n\\n            더불어민주당 임오경 의원. 사진=연합뉴스\\n...  20210224  \n",
       "2    \\n\\n\\n\\n\\n            청와대 국민청원 게시판./사진=캡쳐\\n   ...  20210331  \n",
       "3    \\n\\n\\n\\n\\n            지난 26일 청와대 국민청원 게시판에 자신을...  20210329  \n",
       "4    \\n\\n\\n\\n\\n            충수염 수술 후 병원에 입원해 있던 이재용 ...  20210417  \n",
       "..                                                 ...       ...  \n",
       "826  \\n\\n\\n\\n\\n            TBS라디오 ‘김어준의 뉴스공장’ 진행자 김...  20210416  \n",
       "827  \\n\\n\\n\\n\\n            아동 성폭행 혐의로 징역 12년을 복역 후 ...  20210208  \n",
       "828  \\n\\n\\n\\n\\n            국민청원 게시판, 국민일보\\n        ...  20210319  \n",
       "829  \\n\\n\\n\\n\\n            사진은 경기도 성남시 LH 경기지역본부 모습...  20210319  \n",
       "830  \\n\\n[텐아시아=김수영 기자]\\n\\n\\n\\n            사유리 /사진=텐...  20210329  \n",
       "\n",
       "[831 rows x 4 columns]"
      ]
     },
     "execution_count": 10,
     "metadata": {},
     "output_type": "execute_result"
    }
   ],
   "source": [
    "daum"
   ]
  },
  {
   "cell_type": "code",
   "execution_count": 11,
   "metadata": {},
   "outputs": [],
   "source": [
    "punct = \"/-'?!.,#$%\\'()*+-/:;<=>@[\\\\]^_`{|}~\" + '\"\"“”’' + '∞θ÷α•à−β∅³π‘₹´°£€\\×™√²—–&'\n",
    "punct_mapping = {\"‘\": \"'\", \"₹\": \"e\", \"´\": \"'\", \"°\": \"\", \"€\": \"e\", \"™\": \"tm\", \"√\": \" sqrt \",\n",
    "                 \"×\": \"x\", \"²\": \"2\", \"—\": \"-\", \"–\": \"-\", \"’\": \"'\", \"_\": \"-\", \"`\": \"'\", '“': '\"', '”': '\"', '“': '\"',\n",
    "                 \"£\": \"e\", '∞': 'infinity', 'θ': 'theta', '÷': '/', 'α': 'alpha', '•': '.', 'à': 'a', '−': '-', 'β': 'beta',\n",
    "                 '∅': '', '³': '3', 'π': 'pi', } \n",
    "def clean_punc(text, punct, mapping):\n",
    "    for p in mapping: \n",
    "        text = text.replace(p, mapping[p]) \n",
    "        \n",
    "    for p in punct: \n",
    "        text = text.replace(p, f' {p} ') \n",
    "        \n",
    "    specials = {'\\u200b': ' ', '…': ' ... ', '\\ufeff': '', 'करना': '', 'है': ''} \n",
    "    for s in specials:\n",
    "        text = text.replace(s, specials[s])\n",
    "        \n",
    "    return text.strip()\n"
   ]
  },
  {
   "cell_type": "code",
   "execution_count": 12,
   "metadata": {},
   "outputs": [],
   "source": [
    "def preprocessing(text):\n",
    "    # 특수문자 제거\n",
    "    # 특수문자나 이모티콘 등은 때로는 의미를 갖기도 하지만 여기에서는 제거했습니다.\n",
    "    # text = re.sub('[?.,;:|\\)*~`’!^\\-_+<>@\\#$%&-=#}※]', '', text)\n",
    "    # 한글, 영문, 숫자만 남기고 모두 제거하도록 합니다.\n",
    "    # text = re.sub('[^가-힣ㄱ-ㅎㅏ-ㅣa-zA-Z0-9]', ' ', text)\n",
    "    # 한글, 영문만 남기고 모두 제거하도록 합니다.\n",
    "    text = re.sub('(<([^>]+)>)', '', text)\n",
    "    text = re.sub('[^가-힣ㄱ-ㅎㅏ-ㅣa-zA-Z]', ' ', text)\n",
    "    return text"
   ]
  },
  {
   "cell_type": "code",
   "execution_count": 13,
   "metadata": {},
   "outputs": [
    {
     "name": "stderr",
     "output_type": "stream",
     "text": [
      "<ipython-input-13-a126cd8a055e>:2: SettingWithCopyWarning: \n",
      "A value is trying to be set on a copy of a slice from a DataFrame\n",
      "\n",
      "See the caveats in the documentation: https://pandas.pydata.org/pandas-docs/stable/user_guide/indexing.html#returning-a-view-versus-a-copy\n",
      "  data['청원내용'][i] = clean_punc(data['청원내용'][i], punct, punct_mapping)\n",
      "<ipython-input-13-a126cd8a055e>:3: SettingWithCopyWarning: \n",
      "A value is trying to be set on a copy of a slice from a DataFrame\n",
      "\n",
      "See the caveats in the documentation: https://pandas.pydata.org/pandas-docs/stable/user_guide/indexing.html#returning-a-view-versus-a-copy\n",
      "  data['청원내용'][i] = preprocessing(data['청원내용'][i])\n",
      "<ipython-input-13-a126cd8a055e>:5: SettingWithCopyWarning: \n",
      "A value is trying to be set on a copy of a slice from a DataFrame\n",
      "\n",
      "See the caveats in the documentation: https://pandas.pydata.org/pandas-docs/stable/user_guide/indexing.html#returning-a-view-versus-a-copy\n",
      "  naver['contents'][i] = clean_punc(naver['contents'][i], punct, punct_mapping)\n",
      "<ipython-input-13-a126cd8a055e>:6: SettingWithCopyWarning: \n",
      "A value is trying to be set on a copy of a slice from a DataFrame\n",
      "\n",
      "See the caveats in the documentation: https://pandas.pydata.org/pandas-docs/stable/user_guide/indexing.html#returning-a-view-versus-a-copy\n",
      "  naver['contents'][i] = preprocessing(naver['contents'][i])\n",
      "<ipython-input-13-a126cd8a055e>:8: SettingWithCopyWarning: \n",
      "A value is trying to be set on a copy of a slice from a DataFrame\n",
      "\n",
      "See the caveats in the documentation: https://pandas.pydata.org/pandas-docs/stable/user_guide/indexing.html#returning-a-view-versus-a-copy\n",
      "  daum['contents'][i] = clean_punc(daum['contents'][i], punct, punct_mapping)\n",
      "<ipython-input-13-a126cd8a055e>:9: SettingWithCopyWarning: \n",
      "A value is trying to be set on a copy of a slice from a DataFrame\n",
      "\n",
      "See the caveats in the documentation: https://pandas.pydata.org/pandas-docs/stable/user_guide/indexing.html#returning-a-view-versus-a-copy\n",
      "  daum['contents'][i] = preprocessing(daum['contents'][i])\n"
     ]
    }
   ],
   "source": [
    "for i in range(0, len(data)):\n",
    "    data['청원내용'][i] = clean_punc(data['청원내용'][i], punct, punct_mapping)\n",
    "    data['청원내용'][i] = preprocessing(data['청원내용'][i])\n",
    "for i in range(0, len(naver)):\n",
    "    naver['contents'][i] = clean_punc(naver['contents'][i], punct, punct_mapping)\n",
    "    naver['contents'][i] = preprocessing(naver['contents'][i])\n",
    "for i in range(0, len(daum)):\n",
    "    daum['contents'][i] = clean_punc(daum['contents'][i], punct, punct_mapping)\n",
    "    daum['contents'][i] = preprocessing(daum['contents'][i])"
   ]
  },
  {
   "cell_type": "code",
   "execution_count": 14,
   "metadata": {},
   "outputs": [
    {
     "name": "stderr",
     "output_type": "stream",
     "text": [
      "<ipython-input-14-1b263df922be>:2: SettingWithCopyWarning: \n",
      "A value is trying to be set on a copy of a slice from a DataFrame\n",
      "\n",
      "See the caveats in the documentation: https://pandas.pydata.org/pandas-docs/stable/user_guide/indexing.html#returning-a-view-versus-a-copy\n",
      "  data['청원제목'][i] = clean_punc(data['청원제목'][i], punct, punct_mapping)\n",
      "<ipython-input-14-1b263df922be>:3: SettingWithCopyWarning: \n",
      "A value is trying to be set on a copy of a slice from a DataFrame\n",
      "\n",
      "See the caveats in the documentation: https://pandas.pydata.org/pandas-docs/stable/user_guide/indexing.html#returning-a-view-versus-a-copy\n",
      "  data['청원제목'][i] = preprocessing(data['청원제목'][i])\n",
      "<ipython-input-14-1b263df922be>:5: SettingWithCopyWarning: \n",
      "A value is trying to be set on a copy of a slice from a DataFrame\n",
      "\n",
      "See the caveats in the documentation: https://pandas.pydata.org/pandas-docs/stable/user_guide/indexing.html#returning-a-view-versus-a-copy\n",
      "  naver['title'][i] = clean_punc(naver['title'][i], punct, punct_mapping)\n",
      "<ipython-input-14-1b263df922be>:6: SettingWithCopyWarning: \n",
      "A value is trying to be set on a copy of a slice from a DataFrame\n",
      "\n",
      "See the caveats in the documentation: https://pandas.pydata.org/pandas-docs/stable/user_guide/indexing.html#returning-a-view-versus-a-copy\n",
      "  naver['title'][i] = preprocessing(naver['title'][i])\n",
      "<ipython-input-14-1b263df922be>:8: SettingWithCopyWarning: \n",
      "A value is trying to be set on a copy of a slice from a DataFrame\n",
      "\n",
      "See the caveats in the documentation: https://pandas.pydata.org/pandas-docs/stable/user_guide/indexing.html#returning-a-view-versus-a-copy\n",
      "  daum['title'][i] = clean_punc(daum['title'][i], punct, punct_mapping)\n",
      "<ipython-input-14-1b263df922be>:9: SettingWithCopyWarning: \n",
      "A value is trying to be set on a copy of a slice from a DataFrame\n",
      "\n",
      "See the caveats in the documentation: https://pandas.pydata.org/pandas-docs/stable/user_guide/indexing.html#returning-a-view-versus-a-copy\n",
      "  daum['title'][i] = preprocessing(daum['title'][i])\n"
     ]
    }
   ],
   "source": [
    "for i in range(0, len(data)):\n",
    "    data['청원제목'][i] = clean_punc(data['청원제목'][i], punct, punct_mapping)\n",
    "    data['청원제목'][i] = preprocessing(data['청원제목'][i])\n",
    "for i in range(0, len(naver)):\n",
    "    naver['title'][i] = clean_punc(naver['title'][i], punct, punct_mapping)\n",
    "    naver['title'][i] = preprocessing(naver['title'][i])\n",
    "for i in range(0, len(daum)):\n",
    "    daum['title'][i] = clean_punc(daum['title'][i], punct, punct_mapping)\n",
    "    daum['title'][i] = preprocessing(daum['title'][i])"
   ]
  },
  {
   "cell_type": "code",
   "execution_count": 16,
   "metadata": {},
   "outputs": [
    {
     "name": "stderr",
     "output_type": "stream",
     "text": [
      "100%|█████████████████████████████████████████████████████████████████████████████| 2816/2816 [00:03<00:00, 904.12it/s]\n"
     ]
    }
   ],
   "source": [
    "from tqdm import tqdm\n",
    "labels = []\n",
    "contents = []\n",
    "j = 0\n",
    "\n",
    "contents_data = list(data['청원내용'])\n",
    "\n",
    "for content in tqdm(contents_data):\n",
    "    content_data = content\n",
    "    clean_content = re.sub('[-=+,#/\\?:^$.@*\\\"※~&%ㆍ!』\\\\‘|\\(\\)\\[\\]\\<\\>`\\'…\\\"\\“》]', '', content_data)\n",
    "    negative_flag = False\n",
    "    label = 0\n",
    "    for i in range(len(positive)): \n",
    "        if positive[i] in clean_content:\n",
    "            label = -1 \n",
    "            negative_flag = True\n",
    "            break \n",
    "    if negative_flag == False: \n",
    "        for i in range(len(negative)): \n",
    "            if negative[i] in clean_content: \n",
    "                label = 1 \n",
    "                break \n",
    "    contents.append(clean_content)\n",
    "    labels.append(label) \n",
    "        \n",
    "my_content_df = pd.DataFrame({\"content\":contents, \"label\":labels})\n"
   ]
  },
  {
   "cell_type": "code",
   "execution_count": 17,
   "metadata": {},
   "outputs": [
    {
     "name": "stderr",
     "output_type": "stream",
     "text": [
      "100%|█████████████████████████████████████████████████████████████████████████████| 2759/2759 [00:03<00:00, 799.53it/s]\n"
     ]
    }
   ],
   "source": [
    "labels = []\n",
    "contents = []\n",
    "j = 0\n",
    "contents_naver = (naver['contents'])\n",
    "\n",
    "for content in tqdm(contents_naver):\n",
    "    content_data = content\n",
    "    clean_content = re.sub('[-=+,#/\\?:^$.@*\\\"※~&%ㆍ!』\\\\‘|\\(\\)\\[\\]\\<\\>`\\'…\\\"\\“》]', '', content_data)\n",
    "    negative_flag = False\n",
    "    label = 0\n",
    "    for i in range(len(positive)): \n",
    "        if positive[i] in clean_content:\n",
    "            label = -1 \n",
    "            negative_flag = True\n",
    "            break \n",
    "    if negative_flag == False: \n",
    "        for i in range(len(negative)): \n",
    "            if negative[i] in clean_content: \n",
    "                label = 1 \n",
    "                break \n",
    "    contents.append(clean_content)\n",
    "    labels.append(label) \n",
    "        \n",
    "my_content_df_2 = pd.DataFrame({\"content\":contents, \"label\":labels})"
   ]
  },
  {
   "cell_type": "code",
   "execution_count": 164,
   "metadata": {},
   "outputs": [
    {
     "data": {
      "text/html": [
       "<div>\n",
       "<style scoped>\n",
       "    .dataframe tbody tr th:only-of-type {\n",
       "        vertical-align: middle;\n",
       "    }\n",
       "\n",
       "    .dataframe tbody tr th {\n",
       "        vertical-align: top;\n",
       "    }\n",
       "\n",
       "    .dataframe thead th {\n",
       "        text-align: right;\n",
       "    }\n",
       "</style>\n",
       "<table border=\"1\" class=\"dataframe\">\n",
       "  <thead>\n",
       "    <tr style=\"text-align: right;\">\n",
       "      <th></th>\n",
       "      <th>content</th>\n",
       "      <th>label</th>\n",
       "    </tr>\n",
       "  </thead>\n",
       "  <tbody>\n",
       "    <tr>\n",
       "      <th>0</th>\n",
       "      <td>1972년 9월 28일 춘천 강간 살인사건의 또다른 피해자인 정xx씨에 관심을 가져...</td>\n",
       "      <td>-1</td>\n",
       "    </tr>\n",
       "    <tr>\n",
       "      <th>1</th>\n",
       "      <td>민주당 박상혁 의원이 대표 발의한 인천국제공항공사법 일부개정법률안 한국공항공사법 일...</td>\n",
       "      <td>-1</td>\n",
       "    </tr>\n",
       "    <tr>\n",
       "      <th>2</th>\n",
       "      <td>춘천 파출소 소장 딸 살인사건에서 억울하게 아동 강간살인범으로 누명을 씌워 무기징역...</td>\n",
       "      <td>-1</td>\n",
       "    </tr>\n",
       "    <tr>\n",
       "      <th>3</th>\n",
       "      <td>안녕하세요 429일 꼬꼬무2 에 방영된 고문 조작 사건을 보고 지금이라도 국민들이 ...</td>\n",
       "      <td>-1</td>\n",
       "    </tr>\n",
       "    <tr>\n",
       "      <th>4</th>\n",
       "      <td>본인이 하지도않은짓을 형사고문에의해 누명쓰고  그 오랜세월 옥살이하다가 제대로된 사...</td>\n",
       "      <td>-1</td>\n",
       "    </tr>\n",
       "    <tr>\n",
       "      <th>...</th>\n",
       "      <td>...</td>\n",
       "      <td>...</td>\n",
       "    </tr>\n",
       "    <tr>\n",
       "      <th>2811</th>\n",
       "      <td>우정청 이주무관 을고발합니다 저는 노동조합의일로인하여 청에팩스민원을 내고 이에답이업...</td>\n",
       "      <td>-1</td>\n",
       "    </tr>\n",
       "    <tr>\n",
       "      <th>2812</th>\n",
       "      <td>국립 대학교  총장은 대학교 학사 운영 규정을 위반하고 교육과정을 개편 개설교과목을...</td>\n",
       "      <td>-1</td>\n",
       "    </tr>\n",
       "    <tr>\n",
       "      <th>2813</th>\n",
       "      <td>우리 아파트는 1991년 지어져 이제 30년이 된 아파트입니다 교통 좋고 살기 좋은...</td>\n",
       "      <td>-1</td>\n",
       "    </tr>\n",
       "    <tr>\n",
       "      <th>2814</th>\n",
       "      <td>저는 영등포구 신길동  내과에서 6년째 투석을 받고 있는 투석환자입니다 요즈음 요양...</td>\n",
       "      <td>-1</td>\n",
       "    </tr>\n",
       "    <tr>\n",
       "      <th>2815</th>\n",
       "      <td>이유 폐지 내용 여성가족부 청와대 국민청원 으로 폐지 결론 2001년2020년 여성...</td>\n",
       "      <td>-1</td>\n",
       "    </tr>\n",
       "  </tbody>\n",
       "</table>\n",
       "<p>2816 rows × 2 columns</p>\n",
       "</div>"
      ],
      "text/plain": [
       "                                                content  label\n",
       "0     1972년 9월 28일 춘천 강간 살인사건의 또다른 피해자인 정xx씨에 관심을 가져...     -1\n",
       "1     민주당 박상혁 의원이 대표 발의한 인천국제공항공사법 일부개정법률안 한국공항공사법 일...     -1\n",
       "2     춘천 파출소 소장 딸 살인사건에서 억울하게 아동 강간살인범으로 누명을 씌워 무기징역...     -1\n",
       "3     안녕하세요 429일 꼬꼬무2 에 방영된 고문 조작 사건을 보고 지금이라도 국민들이 ...     -1\n",
       "4     본인이 하지도않은짓을 형사고문에의해 누명쓰고  그 오랜세월 옥살이하다가 제대로된 사...     -1\n",
       "...                                                 ...    ...\n",
       "2811  우정청 이주무관 을고발합니다 저는 노동조합의일로인하여 청에팩스민원을 내고 이에답이업...     -1\n",
       "2812  국립 대학교  총장은 대학교 학사 운영 규정을 위반하고 교육과정을 개편 개설교과목을...     -1\n",
       "2813  우리 아파트는 1991년 지어져 이제 30년이 된 아파트입니다 교통 좋고 살기 좋은...     -1\n",
       "2814  저는 영등포구 신길동  내과에서 6년째 투석을 받고 있는 투석환자입니다 요즈음 요양...     -1\n",
       "2815  이유 폐지 내용 여성가족부 청와대 국민청원 으로 폐지 결론 2001년2020년 여성...     -1\n",
       "\n",
       "[2816 rows x 2 columns]"
      ]
     },
     "execution_count": 164,
     "metadata": {},
     "output_type": "execute_result"
    }
   ],
   "source": [
    "my_content_df"
   ]
  },
  {
   "cell_type": "code",
   "execution_count": 56,
   "metadata": {},
   "outputs": [
    {
     "data": {
      "text/html": [
       "<div>\n",
       "<style scoped>\n",
       "    .dataframe tbody tr th:only-of-type {\n",
       "        vertical-align: middle;\n",
       "    }\n",
       "\n",
       "    .dataframe tbody tr th {\n",
       "        vertical-align: top;\n",
       "    }\n",
       "\n",
       "    .dataframe thead th {\n",
       "        text-align: right;\n",
       "    }\n",
       "</style>\n",
       "<table border=\"1\" class=\"dataframe\">\n",
       "  <thead>\n",
       "    <tr style=\"text-align: right;\">\n",
       "      <th></th>\n",
       "      <th>content</th>\n",
       "      <th>label</th>\n",
       "    </tr>\n",
       "  </thead>\n",
       "  <tbody>\n",
       "    <tr>\n",
       "      <th>0</th>\n",
       "      <td>\\n\\t\\t\\t함소원 국민청원도 거짓 단톡방 여론조작 의혹에 허위사실 반박 전문\\n...</td>\n",
       "      <td>-1</td>\n",
       "    </tr>\n",
       "    <tr>\n",
       "      <th>1</th>\n",
       "      <td>조승래 국회청원제도의 실효성을 제고해야국회법 개정 발의</td>\n",
       "      <td>-1</td>\n",
       "    </tr>\n",
       "    <tr>\n",
       "      <th>2</th>\n",
       "      <td>왜 강원도에 작은 중국 만드나 차이나타운 철회 청원 57만</td>\n",
       "      <td>1</td>\n",
       "    </tr>\n",
       "    <tr>\n",
       "      <th>3</th>\n",
       "      <td>분노의 국민청원 여성도 남성처럼 징병하라”</td>\n",
       "      <td>-1</td>\n",
       "    </tr>\n",
       "    <tr>\n",
       "      <th>4</th>\n",
       "      <td>강원도 차이나타운 철회 청원 60만 동의강원도 팩트체크 꼼꼼히 읽어 달라 해명 진땀</td>\n",
       "      <td>-1</td>\n",
       "    </tr>\n",
       "    <tr>\n",
       "      <th>...</th>\n",
       "      <td>...</td>\n",
       "      <td>...</td>\n",
       "    </tr>\n",
       "    <tr>\n",
       "      <th>2754</th>\n",
       "      <td>취준생 죽음으로 몰고간 가짜 김민수 검사’ 잡혔다</td>\n",
       "      <td>-1</td>\n",
       "    </tr>\n",
       "    <tr>\n",
       "      <th>2755</th>\n",
       "      <td>2·18 기념공원 명칭 병기 조례 개정 청원</td>\n",
       "      <td>-1</td>\n",
       "    </tr>\n",
       "    <tr>\n",
       "      <th>2756</th>\n",
       "      <td>조선시대 수군 전투선 판옥선이 충북 미래해양과학관으로</td>\n",
       "      <td>-1</td>\n",
       "    </tr>\n",
       "    <tr>\n",
       "      <th>2757</th>\n",
       "      <td>경찰 하동 폭력·학대 서당’ 첫 압수수색</td>\n",
       "      <td>-1</td>\n",
       "    </tr>\n",
       "    <tr>\n",
       "      <th>2758</th>\n",
       "      <td>취준생 죽음 몰고간 검사 김민수보이스피싱 일당 잡혔다</td>\n",
       "      <td>-1</td>\n",
       "    </tr>\n",
       "  </tbody>\n",
       "</table>\n",
       "<p>2759 rows × 2 columns</p>\n",
       "</div>"
      ],
      "text/plain": [
       "                                                content  label\n",
       "0     \\n\\t\\t\\t함소원 국민청원도 거짓 단톡방 여론조작 의혹에 허위사실 반박 전문\\n...     -1\n",
       "1                        조승래 국회청원제도의 실효성을 제고해야국회법 개정 발의     -1\n",
       "2                      왜 강원도에 작은 중국 만드나 차이나타운 철회 청원 57만      1\n",
       "3                               분노의 국민청원 여성도 남성처럼 징병하라”     -1\n",
       "4        강원도 차이나타운 철회 청원 60만 동의강원도 팩트체크 꼼꼼히 읽어 달라 해명 진땀     -1\n",
       "...                                                 ...    ...\n",
       "2754                        취준생 죽음으로 몰고간 가짜 김민수 검사’ 잡혔다     -1\n",
       "2755                           2·18 기념공원 명칭 병기 조례 개정 청원     -1\n",
       "2756                      조선시대 수군 전투선 판옥선이 충북 미래해양과학관으로     -1\n",
       "2757                             경찰 하동 폭력·학대 서당’ 첫 압수수색     -1\n",
       "2758                      취준생 죽음 몰고간 검사 김민수보이스피싱 일당 잡혔다     -1\n",
       "\n",
       "[2759 rows x 2 columns]"
      ]
     },
     "execution_count": 56,
     "metadata": {},
     "output_type": "execute_result"
    }
   ],
   "source": [
    "my_content_df_2"
   ]
  },
  {
   "cell_type": "code",
   "execution_count": 18,
   "metadata": {},
   "outputs": [
    {
     "name": "stderr",
     "output_type": "stream",
     "text": [
      "100%|███████████████████████████████████████████████████████████████████████████████| 831/831 [00:01<00:00, 751.36it/s]\n"
     ]
    }
   ],
   "source": [
    "labels = []\n",
    "contents = []\n",
    "j = 0\n",
    "contents_naver = (daum['contents'])\n",
    "\n",
    "for content in tqdm(contents_naver):\n",
    "    content_data = content\n",
    "    clean_content = re.sub('[-=+,#/\\?:^$.@*\\\"※~&%ㆍ!』\\\\‘|\\(\\)\\[\\]\\<\\>`\\'…\\\"\\“》]', '', content_data)\n",
    "    negative_flag = False\n",
    "    label = 0\n",
    "    for i in range(len(positive)): \n",
    "        if positive[i] in clean_content:\n",
    "            label = -1 \n",
    "            negative_flag = True\n",
    "            break \n",
    "    if negative_flag == False: \n",
    "        for i in range(len(negative)): \n",
    "            if negative[i] in clean_content: \n",
    "                label = 1 \n",
    "                break \n",
    "    contents.append(clean_content)\n",
    "    labels.append(label) \n",
    "        \n",
    "my_content_df_3 = pd.DataFrame({\"content\":contents, \"label\":labels})"
   ]
  },
  {
   "cell_type": "code",
   "execution_count": 19,
   "metadata": {},
   "outputs": [],
   "source": [
    "train_data = my_content_df\n",
    "test_data = my_content_df_2"
   ]
  },
  {
   "cell_type": "code",
   "execution_count": 20,
   "metadata": {},
   "outputs": [
    {
     "data": {
      "text/plain": [
       "<AxesSubplot:>"
      ]
     },
     "execution_count": 20,
     "metadata": {},
     "output_type": "execute_result"
    },
    {
     "data": {
      "image/png": "[encoded data removed]",
      "text/plain": [
       "<Figure size 432x288 with 1 Axes>"
      ]
     },
     "metadata": {
      "needs_background": "light"
     },
     "output_type": "display_data"
    }
   ],
   "source": [
    "train_data['label'].value_counts().plot(kind='bar')"
   ]
  },
  {
   "cell_type": "code",
   "execution_count": 21,
   "metadata": {},
   "outputs": [
    {
     "data": {
      "text/plain": [
       "0    2758\n",
       "1      52\n",
       "2       6\n",
       "Name: label, dtype: int64"
      ]
     },
     "execution_count": 21,
     "metadata": {},
     "output_type": "execute_result"
    }
   ],
   "source": [
    "train_data['label'].value_counts().reset_index(drop=True)"
   ]
  },
  {
   "cell_type": "code",
   "execution_count": 22,
   "metadata": {},
   "outputs": [
    {
     "data": {
      "image/png": "[encoded data removed]",
      "text/plain": [
       "<Figure size 432x288 with 1 Axes>"
      ]
     },
     "metadata": {
      "needs_background": "light"
     },
     "output_type": "display_data"
    }
   ],
   "source": [
    "x = np.arange(3)\n",
    "month = ['부정', '긍정', '중립']\n",
    "value = train_data['label'].value_counts().reset_index(drop=True)\n",
    "\n",
    "plt.bar(x, value)\n",
    "plt.xticks(x, month)\n",
    "plt.title('국민청원 감정 빈도 그래프')\n",
    "for i, v in enumerate(x):\n",
    "    plt.text(v, value[i], value[i],                 # 좌표 (x축 = v, y축 = y[0]..y[1], 표시 = y[0]..y[1])\n",
    "             fontsize = 9, \n",
    "             color='blue',\n",
    "             horizontalalignment='center',  # horizontalalignment (left, center, right)\n",
    "             verticalalignment='bottom')\n",
    "\n",
    "plt.show()\n",
    "#plt.savefig('국민청원 월별 청원 수.png')"
   ]
  },
  {
   "cell_type": "code",
   "execution_count": 23,
   "metadata": {},
   "outputs": [
    {
     "data": {
      "text/plain": [
       "-1    2755\n",
       " 1       4\n",
       "Name: label, dtype: int64"
      ]
     },
     "execution_count": 23,
     "metadata": {},
     "output_type": "execute_result"
    }
   ],
   "source": [
    "test_data['label'].value_counts()"
   ]
  },
  {
   "cell_type": "code",
   "execution_count": 24,
   "metadata": {},
   "outputs": [],
   "source": [
    "stopwords = ['의', '가', '이', '은', '들', '는', '좀', '잘', '걍', '과', '도', '를', '으로', '자', '에', '와', '한', '하다']\n",
    "\n",
    "\n",
    "X_train = []\n",
    "for sentence in train_data['content']:\n",
    "    temp_X = [] \n",
    "    temp_X = okt.morphs(sentence, stem=True) # 토큰화 \n",
    "    temp_X = [word for word in temp_X if not word in stopwords] # 불용어 제거 \n",
    "    X_train.append(temp_X)\n",
    "\n",
    "\n",
    "X_test = [] \n",
    "for sentence in test_data['content']: \n",
    "    temp_X = []\n",
    "    temp_X = okt.morphs(sentence, stem=True) # 토큰화 \n",
    "    temp_X = [word for word in temp_X if not word in stopwords] # 불용어 제거 \n",
    "    X_test.append(temp_X)\n"
   ]
  },
  {
   "cell_type": "code",
   "execution_count": 25,
   "metadata": {},
   "outputs": [],
   "source": [
    "from keras.preprocessing.text import Tokenizer\n",
    "max_words = 35000 \n",
    "tokenizer = Tokenizer(num_words = max_words)\n",
    "tokenizer.fit_on_texts(X_train)\n",
    "X_train = tokenizer.texts_to_sequences(X_train)\n",
    "X_test = tokenizer.texts_to_sequences(X_test)"
   ]
  },
  {
   "cell_type": "code",
   "execution_count": 26,
   "metadata": {},
   "outputs": [
    {
     "name": "stdout",
     "output_type": "stream",
     "text": [
      "내용의 최대 길이 :  9102\n",
      "내용의 평균 길이 :  479.3924005681818\n"
     ]
    },
    {
     "data": {
      "image/png": "[encoded data removed]",
      "text/plain": [
       "<Figure size 432x288 with 1 Axes>"
      ]
     },
     "metadata": {
      "needs_background": "light"
     },
     "output_type": "display_data"
    }
   ],
   "source": [
    "print(\"내용의 최대 길이 : \", max(len(l) for l in X_train)) \n",
    "print(\"내용의 평균 길이 : \", sum(map(len, X_train))/ len(X_train))\n",
    "plt.hist([len(s) for s in X_train], bins=50) \n",
    "plt.xlabel('length of Data')\n",
    "plt.ylabel('number of Data')\n",
    "plt.show()\n"
   ]
  },
  {
   "cell_type": "code",
   "execution_count": 27,
   "metadata": {},
   "outputs": [
    {
     "name": "stdout",
     "output_type": "stream",
     "text": [
      "내용의 최대 길이 :  4769\n",
      "내용의 평균 길이 :  413.82384922073214\n"
     ]
    },
    {
     "data": {
      "image/png": "[encoded data removed]",
      "text/plain": [
       "<Figure size 432x288 with 1 Axes>"
      ]
     },
     "metadata": {
      "needs_background": "light"
     },
     "output_type": "display_data"
    }
   ],
   "source": [
    "print(\"내용의 최대 길이 : \", max(len(l) for l in X_test))\n",
    "print(\"내용의 평균 길이 : \", sum(map(len, X_test))/ len(X_test))\n",
    "plt.hist([len(s) for s in X_test], bins=50)\n",
    "plt.xlabel('length of Data')\n",
    "plt.ylabel('number of Data')\n",
    "plt.show()\n"
   ]
  },
  {
   "cell_type": "code",
   "execution_count": 28,
   "metadata": {},
   "outputs": [],
   "source": [
    "import numpy as np \n",
    "y_train = []\n",
    "y_test = []\n",
    "for i in range(len(train_data['label'])):\n",
    "    if train_data['label'].iloc[i] == 1:\n",
    "        y_train.append([0, 0, 1]) \n",
    "    elif train_data['label'].iloc[i] == 0:\n",
    "        y_train.append([0, 1, 0]) \n",
    "    elif train_data['label'].iloc[i] == -1: \n",
    "        y_train.append([1, 0, 0])\n",
    "        \n",
    "for i in range(len(test_data['label'])): \n",
    "    if test_data['label'].iloc[i] == 1: \n",
    "        y_test.append([0, 0, 1]) \n",
    "    elif test_data['label'].iloc[i] == 0: \n",
    "        y_test.append([0, 1, 0]) \n",
    "    elif test_data['label'].iloc[i] == -1:\n",
    "        y_test.append([1, 0, 0]) \n",
    "        \n",
    "        \n",
    "y_train = np.array(y_train) \n",
    "y_test = np.array(y_test)\n"
   ]
  },
  {
   "cell_type": "code",
   "execution_count": 29,
   "metadata": {},
   "outputs": [
    {
     "data": {
      "text/plain": [
       "array([[1, 0, 0],\n",
       "       [1, 0, 0],\n",
       "       [1, 0, 0],\n",
       "       ...,\n",
       "       [1, 0, 0],\n",
       "       [1, 0, 0],\n",
       "       [1, 0, 0]])"
      ]
     },
     "execution_count": 29,
     "metadata": {},
     "output_type": "execute_result"
    }
   ],
   "source": [
    "y_train"
   ]
  },
  {
   "cell_type": "code",
   "execution_count": 30,
   "metadata": {},
   "outputs": [
    {
     "data": {
      "text/plain": [
       "array([[1, 0, 0],\n",
       "       [1, 0, 0],\n",
       "       [1, 0, 0],\n",
       "       ...,\n",
       "       [1, 0, 0],\n",
       "       [1, 0, 0],\n",
       "       [1, 0, 0]])"
      ]
     },
     "execution_count": 30,
     "metadata": {},
     "output_type": "execute_result"
    }
   ],
   "source": [
    "y_test"
   ]
  },
  {
   "cell_type": "code",
   "execution_count": 31,
   "metadata": {},
   "outputs": [
    {
     "data": {
      "text/plain": [
       "2816"
      ]
     },
     "execution_count": 31,
     "metadata": {},
     "output_type": "execute_result"
    }
   ],
   "source": [
    "len(X_train)"
   ]
  },
  {
   "cell_type": "code",
   "execution_count": 32,
   "metadata": {},
   "outputs": [
    {
     "data": {
      "text/plain": [
       "2759"
      ]
     },
     "execution_count": 32,
     "metadata": {},
     "output_type": "execute_result"
    }
   ],
   "source": [
    "len(X_test)"
   ]
  },
  {
   "cell_type": "code",
   "execution_count": 33,
   "metadata": {},
   "outputs": [
    {
     "data": {
      "text/plain": [
       "2816"
      ]
     },
     "execution_count": 33,
     "metadata": {},
     "output_type": "execute_result"
    }
   ],
   "source": [
    "len(y_train)"
   ]
  },
  {
   "cell_type": "code",
   "execution_count": 34,
   "metadata": {},
   "outputs": [
    {
     "data": {
      "text/plain": [
       "2759"
      ]
     },
     "execution_count": 34,
     "metadata": {},
     "output_type": "execute_result"
    }
   ],
   "source": [
    "len(y_test)"
   ]
  },
  {
   "cell_type": "code",
   "execution_count": 35,
   "metadata": {},
   "outputs": [],
   "source": [
    "from keras.layers import Embedding, Dense, LSTM \n",
    "from keras.models import Sequential\n",
    "from keras.preprocessing.sequence import pad_sequences\n",
    "max_len = 40 # 전체 데이터의 길이를 20로 맞춘다 \n",
    "X_train = pad_sequences(X_train, maxlen=max_len) \n",
    "X_test = pad_sequences(X_test, maxlen=max_len)"
   ]
  },
  {
   "cell_type": "code",
   "execution_count": 36,
   "metadata": {},
   "outputs": [
    {
     "name": "stdout",
     "output_type": "stream",
     "text": [
      "Epoch 1/10\n",
      "254/254 [==============================] - 17s 60ms/step - loss: 0.2688 - accuracy: 0.9593 - val_loss: 0.1099 - val_accuracy: 0.9716\n",
      "Epoch 2/10\n",
      "254/254 [==============================] - 17s 66ms/step - loss: 0.0626 - accuracy: 0.9843 - val_loss: 0.1178 - val_accuracy: 0.9716\n",
      "Epoch 3/10\n",
      "254/254 [==============================] - 16s 63ms/step - loss: 0.0347 - accuracy: 0.9937 - val_loss: 0.1479 - val_accuracy: 0.9716\n",
      "Epoch 4/10\n",
      "254/254 [==============================] - 15s 60ms/step - loss: 0.0156 - accuracy: 0.9966 - val_loss: 0.1335 - val_accuracy: 0.9787\n",
      "Epoch 5/10\n",
      "254/254 [==============================] - 15s 60ms/step - loss: 0.0118 - accuracy: 0.9980 - val_loss: 0.1455 - val_accuracy: 0.9716\n",
      "Epoch 6/10\n",
      "254/254 [==============================] - 16s 63ms/step - loss: 0.0108 - accuracy: 0.9966 - val_loss: 0.1987 - val_accuracy: 0.9752\n",
      "Epoch 7/10\n",
      "254/254 [==============================] - 16s 62ms/step - loss: 0.0014 - accuracy: 0.9999 - val_loss: 0.2255 - val_accuracy: 0.9752\n",
      "Epoch 8/10\n",
      "254/254 [==============================] - 16s 64ms/step - loss: 0.0011 - accuracy: 1.0000 - val_loss: 0.2337 - val_accuracy: 0.9716\n",
      "Epoch 9/10\n",
      "254/254 [==============================] - 16s 63ms/step - loss: 3.1110e-04 - accuracy: 1.0000 - val_loss: 0.2468 - val_accuracy: 0.9752\n",
      "Epoch 10/10\n",
      "254/254 [==============================] - 16s 64ms/step - loss: 2.3173e-04 - accuracy: 1.0000 - val_loss: 0.2540 - val_accuracy: 0.9752\n"
     ]
    }
   ],
   "source": [
    "model = Sequential() \n",
    "model.add(Embedding(max_words, 100))\n",
    "model.add(LSTM(128)) \n",
    "model.add(Dense(3, activation='softmax')) \n",
    "\n",
    "\n",
    "model.compile(optimizer='adam', loss='categorical_crossentropy', metrics=['accuracy']) \n",
    "history = model.fit(X_train, y_train, epochs=10, batch_size=10, validation_split = 0.1)\n"
   ]
  },
  {
   "cell_type": "code",
   "execution_count": 37,
   "metadata": {},
   "outputs": [],
   "source": [
    "def model_builder(hp):\n",
    "    model = Sequential()\n",
    "    model.add(Embedding(max_words, 100))\n",
    "\n",
    "  # Tune the number of units in the first Dense layer\n",
    "  # Choose an optimal value between 32-512\n",
    "    hp_units = hp.Int('units', min_value = 64, max_value = 256, step = 64)\n",
    "    model.add(LSTM(units = hp_units))\n",
    "    model.add(Dense(3, activation='softmax')) \n",
    "\n",
    "  # Tune the learning rate for the optimizer \n",
    "  # Choose an optimal value from 0.01, 0.001, or 0.0001\n",
    "    hp_learning_rate = hp.Choice('learning_rate', values = [1e-2, 1e-3, 1e-4]) \n",
    "    \n",
    "    model.compile(optimizer = keras.optimizers.Adam(learning_rate = hp_learning_rate),\n",
    "                loss = keras.losses.CategoricalCrossentropy(from_logits = True), \n",
    "                metrics = ['accuracy'])\n",
    "\n",
    "    return model"
   ]
  },
  {
   "cell_type": "code",
   "execution_count": 38,
   "metadata": {},
   "outputs": [
    {
     "name": "stdout",
     "output_type": "stream",
     "text": [
      "INFO:tensorflow:Reloading Oracle from existing project my_dir\\intro_to_kt2\\oracle.json\n",
      "INFO:tensorflow:Reloading Tuner from my_dir\\intro_to_kt2\\tuner0.json\n"
     ]
    }
   ],
   "source": [
    "tuner = kt.Hyperband(model_builder,\n",
    "                     objective = 'val_accuracy', \n",
    "                     max_epochs = 10,\n",
    "                     factor = 3,\n",
    "                     directory = 'my_dir',\n",
    "                     project_name = 'intro_to_kt2')"
   ]
  },
  {
   "cell_type": "code",
   "execution_count": 39,
   "metadata": {
    "scrolled": true
   },
   "outputs": [
    {
     "name": "stdout",
     "output_type": "stream",
     "text": [
      "INFO:tensorflow:Oracle triggered exit\n"
     ]
    }
   ],
   "source": [
    "a = tuner.search(X_train, y_train, epochs = 10, validation_split = 0.1)"
   ]
  },
  {
   "cell_type": "code",
   "execution_count": 52,
   "metadata": {},
   "outputs": [],
   "source": [
    "best_hps = tuner.get_best_hyperparameters(num_trials = 1)[0]"
   ]
  },
  {
   "cell_type": "code",
   "execution_count": 53,
   "metadata": {},
   "outputs": [],
   "source": [
    "model = tuner.hypermodel.build(best_hps)"
   ]
  },
  {
   "cell_type": "code",
   "execution_count": null,
   "metadata": {},
   "outputs": [
    {
     "name": "stdout",
     "output_type": "stream",
     "text": [
      "Epoch 1/10\n",
      "23/23 [==============================] - 7s 228ms/step - loss: 1.0248 - accuracy: 0.5426 - val_loss: 0.9366 - val_accuracy: 0.5851\n",
      "Epoch 2/10\n",
      "23/23 [==============================] - 4s 186ms/step - loss: 0.8657 - accuracy: 0.6353 - val_loss: 0.8183 - val_accuracy: 0.6330\n",
      "Epoch 3/10\n",
      "23/23 [==============================] - 4s 186ms/step - loss: 0.6451 - accuracy: 0.7538 - val_loss: 0.6925 - val_accuracy: 0.7074\n",
      "Epoch 4/10\n",
      "23/23 [==============================] - 4s 184ms/step - loss: 0.3615 - accuracy: 0.8439 - val_loss: 1.0411 - val_accuracy: 0.7092\n",
      "Epoch 5/10\n",
      "23/23 [==============================] - 4s 184ms/step - loss: 0.1591 - accuracy: 0.9629 - val_loss: 0.8678 - val_accuracy: 0.7216\n",
      "Epoch 6/10\n",
      "23/23 [==============================] - 7s 307ms/step - loss: 0.0862 - accuracy: 0.9865 - val_loss: 1.2889 - val_accuracy: 0.7021\n",
      "Epoch 7/10\n",
      "23/23 [==============================] - 7s 296ms/step - loss: 0.0377 - accuracy: 0.9908 - val_loss: 1.0654 - val_accuracy: 0.7358\n",
      "Epoch 8/10\n",
      "23/23 [==============================] - 6s 271ms/step - loss: 0.0174 - accuracy: 0.9975 - val_loss: 1.2547 - val_accuracy: 0.7216\n"
     ]
    }
   ],
   "source": [
    "history = model.fit(X_train, y_train, epochs = 10, batch_size = 100, validation_split = 0.2)"
   ]
  },
  {
   "cell_type": "code",
   "execution_count": 49,
   "metadata": {},
   "outputs": [
    {
     "name": "stdout",
     "output_type": "stream",
     "text": [
      "87/87 [==============================] - 1s 6ms/step - loss: 2.4863 - accuracy: 0.6441\n"
     ]
    },
    {
     "data": {
      "text/plain": [
       "[2.486314058303833, 0.6440739631652832]"
      ]
     },
     "execution_count": 49,
     "metadata": {},
     "output_type": "execute_result"
    }
   ],
   "source": [
    "model.evaluate(X_test, y_test)"
   ]
  },
  {
   "cell_type": "code",
   "execution_count": 40,
   "metadata": {},
   "outputs": [
    {
     "data": {
      "image/png": "[encoded data removed]",
      "text/plain": [
       "<Figure size 432x288 with 2 Axes>"
      ]
     },
     "metadata": {
      "needs_background": "light"
     },
     "output_type": "display_data"
    }
   ],
   "source": [
    "fig, loss_ax = plt.subplots()\n",
    "\n",
    "acc_ax = loss_ax.twinx()\n",
    "\n",
    "loss_ax.plot(history.history['loss'], 'y', label='train loss')\n",
    "loss_ax.plot(history.history['val_loss'], 'r', label='val loss')\n",
    "\n",
    "acc_ax.plot(history.history['accuracy'], 'b', label='train acc')\n",
    "acc_ax.plot(history.history['val_accuracy'], 'g', label='val acc')\n",
    "\n",
    "loss_ax.set_xlabel('epch')\n",
    "loss_ax.set_ylabel('loss')\n",
    "acc_ax.set_ylabel('accuracy')\n",
    "\n",
    "loss_ax.legend(loc='upper left')\n",
    "acc_ax.legend(loc='lower left')\n",
    "\n",
    "plt.show()"
   ]
  },
  {
   "cell_type": "code",
   "execution_count": 41,
   "metadata": {
    "scrolled": true
   },
   "outputs": [
    {
     "data": {
      "image/png": "[encoded data removed]",
      "text/plain": [
       "<Figure size 432x288 with 1 Axes>"
      ]
     },
     "metadata": {
      "needs_background": "light"
     },
     "output_type": "display_data"
    }
   ],
   "source": [
    "fig, loss_ax = plt.subplots()\n",
    "\n",
    "\n",
    "loss_ax.plot(history.history['loss'], 'y', label='train loss')\n",
    "loss_ax.plot(history.history['val_loss'], 'r', label='val loss')\n",
    "\n",
    "\n",
    "loss_ax.set_xlabel('epch')\n",
    "loss_ax.set_ylabel('loss')\n",
    "loss_ax.set_ylim(0.00000000000000000001,0.5)\n",
    "\n",
    "loss_ax.legend(loc='upper left')\n",
    "\n",
    "plt.show()"
   ]
  },
  {
   "cell_type": "code",
   "execution_count": 42,
   "metadata": {},
   "outputs": [
    {
     "data": {
      "image/png": "[encoded data removed]",
      "text/plain": [
       "<Figure size 432x288 with 1 Axes>"
      ]
     },
     "metadata": {
      "needs_background": "light"
     },
     "output_type": "display_data"
    }
   ],
   "source": [
    "fig, acc_ax = plt.subplots()\n",
    "\n",
    "\n",
    "\n",
    "\n",
    "acc_ax.plot(history.history['accuracy'], 'b', label='train acc')\n",
    "acc_ax.plot(history.history['val_accuracy'], 'g', label='val acc')\n",
    "\n",
    "acc_ax.set_xlabel('epch')\n",
    "acc_ax.set_ylabel('accuracy')\n",
    "\n",
    "acc_ax.legend(loc='lower left')\n",
    "\n",
    "plt.show()"
   ]
  },
  {
   "cell_type": "code",
   "execution_count": 43,
   "metadata": {},
   "outputs": [
    {
     "name": "stdout",
     "output_type": "stream",
     "text": [
      "87/87 [==============================] - 1s 11ms/step - loss: 0.0178 - accuracy: 0.9978\n",
      " \n",
      " 테스트 정확도 : 99.78%\n"
     ]
    }
   ],
   "source": [
    "print(\" \\n 테스트 정확도 : {:.2f}%\".format(model.evaluate(X_test, y_test)[1] * 100))"
   ]
  },
  {
   "cell_type": "code",
   "execution_count": 44,
   "metadata": {},
   "outputs": [],
   "source": [
    "predict = model.predict(X_test)"
   ]
  },
  {
   "cell_type": "code",
   "execution_count": 45,
   "metadata": {},
   "outputs": [],
   "source": [
    "import numpy as np \n",
    "predict_labels = np.argmax(predict, axis=1)\n",
    "original_labels = np.argmax(y_test, axis=1)"
   ]
  },
  {
   "cell_type": "code",
   "execution_count": 46,
   "metadata": {
    "scrolled": true
   },
   "outputs": [
    {
     "name": "stdout",
     "output_type": "stream",
     "text": [
      "기사내용 :  이미지 원본보기    엑스포츠뉴스 황수연 기자    방송인 함소원이 단톡방 회원을 동원해 여론전을 펼치고 있다는 주장이 제기됐다    함소원은 해당 보도가 모두 스토커의 거짓 제보라고 반박했다      일 함소원은 자신의 인스타그램에         캡처 사진은         아내의 맛      톡방이다    이분들은 지난  개월 동안 저를 스토킹했으며 고소 중에도 디스패치에    방송국에 가짜 인터뷰로 저를 괴롭혔다    어제는 마지막 저를 탈탈 털어주겠다고 또 무서운 경고를 보내더니 디스패치가    기사를    썼다     고 주장했다    이어      참고로 우리 팬클럽 사진은 전부 제 사진이다    여러분 디엠   DM   으로      너를 끝내주겠다    손모가지를 걸고 너 끝이다     라고 세상에 처음 들어보는 협박을 매일 들었다    저는 연예인이니 여기서도 제가 잘못한 것이 될 것 같다     며      허위 사실을 기사로    방송으로 내지 말아달라    확인하고 내달라    부탁드린다     고 당부했다    이와 함께 함소원은      스토커     라고 주장하는 악플러의 메시지와      아내의 맛      톡 게시판의 캡처를 첨부했다    이날 디스패치는 이날 함소원이 소수 정예 팬들로 구성된    팬    단톡방에서 항의하기    전화하기    신고하기 등을 요청    여론전을 펼치고 있다고 단독 보도했다    보도에 따르면 함소원은 단톡방 구성원들에게 자신을 비판한 매체의 기자에게 항의 메일을 보내달라고 부탁하고    홈쇼핑 고객센터에 항의를 요청했다    심지어      함소원의 마녀사냥을 멈춰달라     는 청와대 국민청원도 단톡방을 통해서 게재됐다   한편 함소원은 TV조선      아내의 맛      조작 방송으로 불명예 하차했다         아내의 맛      프로그램은 함소원 논란으로 폐지됐다    이미지 원본보기 다음은 함소원 글 전문   여러분 보이십니까 여기는 아내의맛 톡방입니다 이분은들지난  개월동안 저를스토킹했으며 고소중인 중에도 디스패치에 방송국에 가짜인터뷰에저를괴롭히고 어제마지막 저를탈탈 털어주겠다고 또 무서운 경고를 보내더니디스패치가 쓰셨네요    참고로 우리 팬클럽 사진은전부 제사진입니다    여러분매일 디엠으로 너를끝내주겟다손모가지를 걸고 너끝이다 세상에처음들어보는 협박을 전 매일들었습니다 전연예인이니 여기서도 제가잘못한것이되겟지요 기자님 방송국 관계자님들 허위사실 기사로 방송으로내지마세요 확인하고내세요 부탁드립니다    hsy       xportsnews   com       사진     함소원 인스타그램  요즘 핫한 아이돌 공항 직캠 보러가기   기사에 사용된 사진 구입 문의        엑스포츠뉴스    무단 전재 및 재배포 금지 /\t 원래 라벨 :  0 /\t예측한 라벨 :  0\n",
      "기사내용 :  조승래 더불어민주당 의원조승래 더불어민주당 의원   대전 유성구갑   은   일 국회 청원제도의 실효성을 강화하는      국회법      일부개정법률안을 대표발의했다   개정안은 위원장이 의사일정을 정할 때 상임위의 심사기간 내 청원 심사를 마칠 수 있도록 노력해야 한다는 내용이다    국민동의청원이 심사기간 내 심사를 마치지 못한 때에는 회기마다  회 이상 심사될 수 있도록 의사일정을 정하도록 한 것이다   지난   대 국회에서    건의 청원이 접수됐지만    건이 폐기됐다    그 중   만명 이상 동의를 요하는 국민동의청원도  건 포함돼 있었다    하지만  건이 임기만료로 폐기됐다    폐기된 국민동의청원  건은 상임위에 상정조차 되지 못했다   조 의원은      현행 국회청원제도는 국민 청원권을 충분히 보장하지 못하고 있다     며      국회는 헌법상 국민의 권리인 청원권을 실질적으로 보장해야 한다    이번 법안으로 국회청원제도의 실효성을 제고하고    국회는 민의를 적극 반영하는      일하는 국회     로 나아갈 것     이라 말했다   송혜영기자 hybrid   etnews   com  네이버 홈에서    전자신문    구독하기  전자신문 바로가기    Copyright   전자신문     전자신문인터넷    무단전재 및 재배포 금지   /\t 원래 라벨 :  0 /\t예측한 라벨 :  0\n",
      "기사내용 :  사진 청와대 국민청원           강원도가 추진 중인      차이나타운     을 반대하는 청와대 국민청원이   일   만명을 돌파했다         이날 기준 청원      강원도 차이나타운 건설을 철회해주세요     는   만   명을 기록했다    해당 청원은 오는   일에 종료된다         청원인은      대한민국에 왜 작은 중국을 만들어야 하나     라며      국민들은 대체 왜 우리나라 땅에서 중국의 문화체험 빌미를 제공해야 하는지 이해할 수 없으며 단호하게 반대한다     고 주장했다         이어      춘천의 중도선사유적지는 엄청난 유물이 출토된 세계 최대 규모의 유적지     라며      이렇게 가치 있는 곳을 외국인을 위해 없앤다는 것은 도무지 이해할 수 없는 사고이며 우리의 역사가 그대로 묻히게 되는 결과를 낳을 수도 있다     고 지적했다         강원도는 춘천시와 홍천군 인근에     년 준공을 목표로      한중문화타운     을 추진 중이다    한중문화타운은 관광 활성화를 위해 중국 전통거리    한류 영상 테마파크    소림사    중국 전통 정원    중국 음식 푸드존 등으로 조성될 예정이다         홍수민 기자 sumin   joongang   co   kr     소름돋게 잘 맞는 초간단 정치성향테스트  넌 뉴스를 찾아봐    난 뉴스가 찾아와     당신이 궁금한 코로나    여기 다 있습니다 중앙일보   https             joongang   co   kr       무단 전재 및 재배포 금지 /\t 원래 라벨 :  0 /\t예측한 라벨 :  0\n",
      "기사내용 :     나날이 줄어드는 출산율    우리 군은 병력 보충에 큰 차질을 겪고 있어          현대사회에서 병역 의무를 남성에게만 지게 하는 것은 매우 후진적이고 여성비하적인 발상              디지털타임스 권준영 기자         여성 징병     을 두고 정치권에서도 날선 공방이 이어지고 있는 가운데    여성도 남성과 동일하게 징병 대상에 포함시켜 달라는 취지의 청와대 국민청원글이 반향을 일으키고 있다     일 청와대 국민청원 게시판에 따르면    여성도 징병대상에 포함시켜야 한다는 게시물이 올라와 사흘 만인 이날 오후 기준    동의자 수가  만     명을 넘어섰다    사전 동의    명 기준을 충족하면    청와대가 공개 여부를 검토하는데 해당 청원글은 하루 만에 사전 동의  만명을 넘어서는 등 폭발적인 반응을 얻고 있다    아직까지 청와대의 공개 결정 전이기 때문에 현재 국민청원 게시판에서 검색은 불가능한 상태이며    연결주소   URL   로 접속해야만 볼 수 있다   해당 청원글을 작성한 네티즌은      여성도 징병대상에 포함시켜달라     며      나날이 줄어드는 출산율과 함께 우리 군은 병력 보충에 큰 차질을 겪고 있다    이에 따라 남성의 징집률 또한  할에 육박하고 있다     고 주장했다   그는      과거에 비해서 높아진 징집률만큼이나 군 복무에 적절치 못한 인원들마저 억지로 징병대상이 돼버리기 때문에 국군의 전체적인 질적 악화가 우려되는 상황     이라고 우려를 표했다   청원인은      그 대책으로 여성 또한 징집 대상에 포함해 더욱 효율적인 병 구성을 해야 한다     라며      이미 장교나 부사관으로 여군을 모집하는 시점에서 여성의 신체가 군 복무에 적합하지 않다는 이유는 핑계로밖에 들리지 않는다     고 목소리를 높였다   이어      현재는 예전 군대와 달리 현대적이고 선진적인 병영 문화가 자리 잡은 것으로 안다     며      여성들도 인지하고 있으며    많은 커뮤니티를 지켜본 결과 과반수의 여성도 여성 징병을 긍정적으로 바라보고 있음을 확인했다     고 적었다   그러면서      성 평등을 추구하고 여성의 능력이 결코 남성에 비해 떨어지지 않음을 모두가 인지하고 있는 현대사회에서 병역 의무를 남성에게만 지게 하는 것은 매우 후진적이고 여성비하적인 발상     이라며      여자는 보호해야만 하는 존재가 아니라 나라를 지킬 수 있는 듬직한 전우가 될 수 있다     고      여성 징병제 도입     을 강하게 주장했다   최근 정치권에서도      여성 징병      문제를 두고 논쟁을 벌이고 있다    박용진 더불어민주당 의원은      징병제를 폐지하고 모병제로 전환하자              남녀 모두         일간 기초 군사훈련을 실시하고 예비군으로 양성하자     는 취지의 주장을 했다    앞서 같은 당 전용기 의원은      헌법을 개정해서라도 군 가산점제를 부활하자     고 말하기도 했다   반면 진중권 전 동양대학교 교수는      여성 징병     에 대해 다소 회의적인 반응을 보였다    진 전 교수는      모병제는 장기적으로 가야 할 목표이나    현재로서는 실현 가능성이 없지요     라며      모병제     가 현실화되기 힘든 가장 큰 문제로      재정     을 꼽았다   그는      게다가 그리로 가려면 헌법을 개정해야 합니다    실현 가능성 없는 입술 서비스로      표나 좀 얻어보겠다는 포퓰리즘     이라며      나름 진보적이라고 안티 페미니즘의 복용량을 적절히 조절해 내놓은 제안이다    속 들여다 보이네요     라고 비꼬아 비판했다   권준영기자 kjykjy   dt   co   kr      네이버 메인에서 디지털타임스 구독                뉴스스탠드 구독     디지털타임스 홈페이지 바로가기 /\t 원래 라벨 :  0 /\t예측한 라벨 :  0\n",
      "기사내용 :  강원도      한중복합문화관광타운      관련 설명 자료    강원도 제공강원도      한중복합문화관광타운      관련 청와대 국민청원    국민청원 게시판 캡처강원도에 건설될 예정인      한중복합문화관광타운     에 대해      차이나타운 건설 철회     를 주장하는 청와대 국민청원이   만 동의를 얻은 가운데 강원도가 해명에 진땀을 빼고 있다   강원도는   일      강원도에 혈세  조 차이나타운    팩트체크 해봅니다     라는 제목의 설명자료를 내고 Q A 형식으로 청원 내용을 조목조목 반박했다   도는      민간기업 등이 투자 유치 활동을 벌여왔으나 투자가 이뤄지지 않았고 현재 사업추진이 이뤄지지 않고 있다     며      해당 부지는 중도선사유적지에서     떨어진 곳으로 선사유적지가 아니다     라고 설명했다   이어      한류영상테마파크    K     POP 뮤지엄 등 양국 문화를 교류하고 체험하는 복합문화관광단지일 뿐 차이나타운이 아니다     라고 강조했다   도는 또      해당 부지는 민간사업자 소유 땅이고 이 사업인        민자방식으로 강원도 예산투입은  원도 없다     며      민간기업이 국민 정서에 반하는 계획을 수립하지 않을 것이라 믿고 기대하고 있으며    그렇지 않을 시 단호하게 의견을 개진하겠다     고 약속했다   아울러 도는      최문순 지사의      일대일로      발언은 문화적 교류와 이해를 통해 관광    교역까지 협력을 강화하는 취지였으며 당시 정서로는 문제가 없었던 외교적 수사였다     고 덧붙였다   앞서 지난   일 청와대 국민청원 게시판에는      강원도 차이나타운 건설을 철회해주세요     라는제목으로 청원이 올라오면서 논란이 시작됐다   청원인은      강원도에 차이나타운 건설을 강력하게 반대한다    중국문화타운이 착공 속도를 높인다는 소식을 접했는데 한중관계에 있어서 교류와 협력이 중요하다고 해도 이해할 수 없는 사고     라며      왜 대한민국에 작은 중국을 만들어야 하냐     고 주장했다   이어      얼마 전 중국 소속사의 작가가 잘못된 이야기로 한국의 역사를 왜곡해 많은 박탈감과 큰 분노를 샀다     며      계속해서 김치    한복    갓 등 우리 고유의 문화를      약탈     하려는 중국에 이제는 맞서야 한다고 생각한다     고 말했다   또      그런데도 왜 대한민국에 작은 중국을 만들고    우리나라 땅에서 중국의 문화체험 빌미를 제공해야 하는지 이해할 수 없고 중국인 관광객을 위한 호텔 건설도 반대한다     는 의견을 냈다   청원인은 춘천 하중도에 건설 중인 레고랜드 테마파크와 관련해서도      중도는 엄청난 선사 유물 유구가 출토된 세계 최대 규모의 선사유적지     라며      일부의 반대에도 건설을 추진하는 이유가 무엇인가     라고 반문했다   오는   일 마감을 앞둔 해당 청원에는   일 오후  시   분 현재   만여명이 동의했다   이혜진 기자 lhj   imaeil   com  네이버에서 매일신문 구독하기  매일신문 네이버TV 바로가기  나눔의 기적    매일신문 이웃사랑 매일신문       www   imaeil   com /\t 원래 라벨 :  0 /\t예측한 라벨 :  0\n",
      "기사내용 :  최문순 강원지사    강원도 제공역사왜곡 비판을 받으며 일찍 종영한      SBS    드라마    불똥이 춘천 한중문화타운까지 튀었다      일 오전   시 현재 청와대 국민청원 게시판에 올라온      강원도 차이나타운 건설을 철회해주세요     라는 제목의 글에는   만    명이 동의했다    하지만 이 글은 정확한 사실관계에 기반을 두지 않은 채 혐중 감정을 부추긴다는 비판이 나온다   지난달   일 처음으로 이 논란을 제기하며 사업 철회를 요구한 청원인은 이 사업을 국민 혈세  조원이 투입되는      강원도 차이나타운     이라고 말했다    그러나 이 사업은 중국인들이 실제 거주하며 식당이나 상점을 운영하는 차이나타운을 만드는 사업이 아니고 국민 세금이 들어가지도 않는다    갑자기 추진하는 사업 역시 아니다    사업 공식 명칭은      한중문화타운     이다    이 사업은     년부터 코오롱글로벌 이 중심이 된 민간기업 등이 강원도와 업무 협약을 맺고 추진하고 있다    강원도 쪽은      예산이 들어가지 않는다     고 말했다        대한민국에 작은 중국을 만들어야 하느냐    우리 땅에서 중국의 문화체험 빌미를 제공해야 하는지 이해할 수 없다     는 청원인의 주장도 사실과 다르다    이 시설은 거주시설이 아니기 때문이다    한중문화타운은 한류 영상테마파크와 케이팝 박물관 등 중국 관광객을 대상으로 한류 볼거리를 제공하고    한국 관광객도 중국 문화를 체험하며 문화를 교류하는      한국민속촌     과 같은 관광시설이다   청와대 국민청원 게시판에 한중문화타운 사업 철회를 요구하는 글이 올라와   만명 이상이 동의했다      이미지를 누르면 크게 볼 수 있습니다   청와대 국민청원 게시판에 최문순 강원지사 탄핵을 요구하는 글이 올라왔다      이미지를 누르면 크게 볼 수 있습니다   청원인은      중국문화타운   한중문화타운   이 착공 속도를 높인다는 소식을 접했다     고 주장했다    하지만 이 주장도 사실과는 차이가 있다    현재 이 사업은 민간기업 등이 투자 유치 활동을 벌이고 있지만 투자가 제대로 이뤄지지 않아 기본계획 구상 단계에 머물고 있다    정식으로 인허가 협의를 할 단계에도 이르지 못한 것이다    강원도는      이 사업은 강원도가 추진하는 사업이 아니라 민간사업이기 때문에 사업 중단과 추진에 대해 강원도가 강제할 수 없다    민간기업이 국민 정서에 반하는 사업계획을 수립하지 않을 것으로 판단하고 있다     고 말했다   사실에 근거하지 않은 주장이 혐중 감정을 부추긴다는 지적도 나온다    오정열 강원도 온라인수출연합회장   강원화장품산업진흥협회장   은      강원도는 관광과 수출로 먹고사는데 잘못된 정보를 바탕으로 한 국민청원이 논란이 되면서 벌써 도내 다른 기업의 투자 활동까지 위축되고 있다    잘못된 정보를 근거로 한 무분별한 주장에 한 중 양국 간 소통과 우호의 노력이 훼손되지 않기를 바란다     고 말했다   박수혁 기자 psh   hani   co   kr    사진 청와대 누리집 갈무리 더불어 행복한 세상을 만드는 언론    한겨레 구독하세요    esc 기사 보기       재 보궐선거 이후 기사 보기    한겨레신문     무단전재 및 재배포 금지   /\t 원래 라벨 :  0 /\t예측한 라벨 :  0\n",
      "기사내용 :  방송인 김어준씨를 놓고 청와대 국민청원 게시판에는      퇴출           수호      맞대결이 펼쳐지고 있다    퇴출 청원은 지난  일    반대 청원은   일 등장했 다      뉴스    서울   뉴스     박태훈 선임기자     방송인 김어준씨를 교통방송에서 퇴출시켜 달라는 청와대 국민청원에 참여한 이가   만명을 넘어선 가운데 이에 반대하는 국민청원도 등장했지만 동의 속도가 상대적으로 늦다   김어준씨가 진행하는 TBS교통방송      김어준의 뉴스공장     은 시사 관련 라디오 프로그램 중 청취율  위를 달리고 있지만 보수진영이 제기한 정치적 편향성 논란에 시달려 왔다    특히      재보궐 선거 직전 국민의힘측은      교통방송이 아니라 생태탕 방송     이라며 날선 반응을 쏟아냈다   보궐선거에서 오세훈 후보가 압승을 거둔 것을 계기로 지난  일 청와대 국민청원 게시판에      김어준 편파 정치방송인 교통방송에서 퇴출해주세요     라는 글이 올라와   일 오후  시  분 현재   만    명이 동의    청와대 답변기준     일 동안   만명 이상 추천   을 넘어섰다   그러자 지난   일엔      국민의 알권리를 위해 김어준에 대한 탄압과 퇴출을 반대합니다     라는 맞불 성격의 청원도 등장    이날 오후  시  분 현재     명이 참여했다   이 청원자는      기성언론들이 전하지 않거나 왜곡뉴스를 내세울때 국민의 알권리 위해 팩트체크를 해주던 언론인들은 우리나라에서는 정말 소수다     며      그중 한 사람이 김어준이며 우리나라 뉴스중 청취율  위를 하는데는 다 이유가 있는 것     이라고 지적했다   이에 이 청원인은      김어준 등 국민의 알권리를 위해 노력하는 언론인들은 국민입장에서 보면 국가가 육성해야 할 인재들이다     며 퇴출이 아니라 지켜 줄 것을 요청했다   그동안 진보와 보수진영은 몇 몇 인물을 놓고 청와대 국민청원 게시판에서 세 대결을 펼쳤다   조국 전 법무부 장관    추미애 전 장관    윤석열 전 검찰총장    나경원 전 미래통합당 원내대표를 놓고 국민게시판에서 보혁대결이 펼쳐 졌다    대부분 답변기준을 넘어섰으며 청와대는      법질서가 누구에게나 평등하고 공정하게 적용되도록 하겠다              국회가 다뤄야 할 문제      등 원론적인 선에서 답을 내 놓았다   buckbak   news    kr  네이버 메인에서    뉴스     구독하기      뉴스    BBC 한글 뉴스    터닝포인트        뉴스 코리아   news    kr       무단 전재 및 재배포 금지 /\t 원래 라벨 :  0 /\t예측한 라벨 :  0\n",
      "기사내용 :    이데일리 김민정 기자        년 강원 춘천과 홍천에      한중문화타운        당시 명칭 중국복합문화타운   이 들어서는 것을 두고 반대 여론이 거세지면서 최문순 강원도지사의 탄핵을 촉구하는 국민청원까지 올라왔다   지난   일 청와대 국민청원 게시판에는      강원도지사의 탄핵을 촉구합니다     라는 제목의 글이 올라왔다   최문순 강원도지사    사진   연합뉴스   먼저 청원인은      탄핵 사유는 그의 무능함과 독재성 때문     이라며      강원도지사는 국민들이 분노를 만든 장본인     이라고 말문을 열었다   이어 그는      국민들은 우리땅에서 중국의 문화를 알리는 것에 결사반대한다     며      도지사는 국민들을 위해 솔선수범해 자국의 성장을 주도해야 하는 존재인데 최 지사는 제 역할을 다하지도 못하면서      중국몽     만 꾸고 있는 것 아니냐     고 지적했다   청원인은 또         최 지사는    과거 만취 상태로 도의회에 참석해 답변 도중 쓰러지는 부도덕한 행위도 보였다     며      도민들의 강력 반대에도 불구하고 레고랜드를 강행했는데 이제는 중국문화타운까지 강제 건설하려 한다     고 목소리를 높였다   그러면서 청원인은 해당 사업이 무려  조에 달하는      국민들의 세금     으로 추진된다고 주장했다       사진   청와대 국민청원 게시판 캡쳐   청원인은      강원도와 코오롱은 국민의 의사를 절대적으로 반영해야 한다     며      국민이 반대하는 이상 그 누구도 이를 강행할 수 없지만    도지사는 오로지 더 큰 이익을 위해 국민들의 목소리를 외면하고 있다     고 전했다   끝으로 청원인은      대한민국의 민주성에 어긋나는 행위로 국민을 무시하는 도지사를 탄핵시켜달라     고 강조했다    강원도는 지난     년 춘천과 홍천에 있는 라비에벨관광단지에 중국복합문화타운을 조성하는 업무협약을 중국 인민일보 및 인민망 등과 체결했다    이는 인천 차이나타운의   배 규모에 달하며    국내 관광산업을 활성화 취지로 추진됐다   이후 논란이 일자 강원도는 오해라는 입장을 밝히면서 한중문화타운은 중국인 집단거주시설이 아니며    한중 문화를 주제로 한 관광시설 조성이 핵심이라고 강조하고 있다       사진   청와대 국민청원 게시판   이와 관련해 지난달   일에는      강원도 차이나타운 건설을 철회해 달라     는 청원이 올라오기도 했다    이 청원은 현재   만 명이 넘는 국민이 동의했다   논란이 계속되자 지난   일 최 지사는 CBS 라디오      김현정의 뉴스쇼     와의 인터뷰에서      강원도가 주체가 아니다    도 사업이 아니라        민간 기업이 하는 사업이다     면서      차이나타운은 문화관광 콘텐츠 시설이라고 말할 수 있다     고 해명했다   최 지사는      차이나타운이란 말엔 여러 뜻이 있다    우리가 가진 그런 뜻   중국인 집단 거주 단지   은 아니고 골프장     이라며      골프장을 짓고 땅이 좀 많이 남아 있어서 콘도 같은데 가면 여러 놀이 공연시설이 있지 않느냐    그런 것     이라고 설명했다   이어 그는      현장에 가보면 한옥단지로 돼 있다     며      우리나라 관광객 중 가장 많은 게 중국 관광객이다    그분들 모셔서 전통문화를 자랑하고 문화를 교류하자    이런 취지다     라고 강조했다   최 지사는 중국 인민일보 자회사인 인민망과 협약을 맺은 이유에 대해서도      중국에 홍보를 해야하고 가능하면 중국 문화콘텐츠를 중국에서도 동참해주면 좋겠어서 협약을 하게 됐다     고 말했다   또한 도민들의 반대 여론을 묻는 질문에 최 지사는      도민들의 반대가 전혀 없다     며      극단적으로 몇 분 있으실지 몰라도 우리 도에서는 그런 반대가 전혀 없고 도에서는 이게 이슈가 된 적이 없다     고 강조했다   김민정    a        edaily   co   kr          시간 빠른    미리보는 뉴스    eNews     네이버에서      이데일리 뉴스     를 만나보세요  빡침해소    청춘뉘우스      스냅타임       종합 경제정보 미디어 이데일리       무단전재     재배포 금지  /\t 원래 라벨 :  0 /\t예측한 라벨 :  0\n",
      "기사내용 :    스포츠경향    이미지 원본보기 국민청원 홈페이지방송인 함소원에 대한 마녀사냥을 멈춰 달라는 국민청원이 등장해 화제다    지난   알 청와대 국민청원 홈페이지 게시판에는      방송인 함소원에 대한 심각한 악플과 마녀사냥을 그만두게 해주세요     라는 제목의 청원 글이 게재됐다    해당 글의 작성자는      함소원이 학교폭력을 했나    술 마시고 음주운전을 했나    마약을 한 것도 아닌데 대체 왜이렇게 몰아가는 지 이해가 되지 않는다    연예인도 사람이다    제발 마녀사냥을 멈춰달라     고 호소했다    이에 함소원은   일 사회관계망서비스   SNS   를 통해      괜찮다    항상 고맙다     며 청원인 및 지지자들에 감사를 표했다    앞서 함소원은 TV조선 예능 프로그램      세상 어디에도 없는 아내의 맛        이하      아내의 맛        에서 중국 하얼빈 시댁 별장    광저우 신혼집을 단기 렌트해 진화 가족의 소유인 것처럼 방송을 조작했다는 의심을 받았다    이후 그는 지난  일 논란에 대해 인정하며 사과했다         아내의 맛      또한 과장된 연출을 인정하며 지난   일부로 시즌을 종영했다   황채현 온라인기자 hch       kyunghyang   com     스포츠경향 인기 무료만화 보기        지금 옆사람이 보고있는 뉴스    스포츠경향   sports   khan   co   kr       무단전재 및 재배포 금지 /\t 원래 라벨 :  0 /\t예측한 라벨 :  0\n",
      "기사내용 :    이데일리 김민정 기자    방송인 김어준 씨를 TBS   교통방송   에서 퇴출해달라는 국민청원이   만 명 이상의 동의를 받았다     일 오후  시 기준      김어준 편파 정치방송인 교통방송에서 퇴출해주세요     라는 제목의 국민청원은   만 명 이상이 동의했다   청원인은      서울시 교통방송은 말 그대로 서울시의 교통흐름을 실시간 파악해서 혼란을 막고자 존재하는 것     이라며      김어준은 대놓고 특정 정당만 지지하며 그 반대 정당이나 정당인은 대놓고 깎아내리며 선거나 정치에 깊숙히 관여하고 있다     고 지적했다       사진   청와대 국민청원 게시판   이어      교체 여론이 들끓자 차별이라며 맞대응하고 있다     며      교통방송이 특정정당 지지하는 정치방송이 된 지 오래인 건만 변질된 교통방송을 바로잡자는것이 차별이냐     고 비판했다    청와대는   일 동안   만 명 이상의 동의를 얻은 청원에 대해 정부 및 청와대 관계자가   일 내 공식 답변을 내놓도록 하고 있다    뿐만 아니라 현재 김씨의 TBS 출연료를 두고도 논란이 일고 있다    국민의힘에서는 김씨의  회 출연료가    만 원    이에 박원순 전 시장 임기 동안만 출연료로   억 원에 가까운 금액을 수령했을 것이라고 추정했다   여기에 TBS가 김씨와 계약서를 작성하지 않고 구두 계약만으로 출연료를 지급했고    김씨 개인이 아닌 김씨가 만든  인 법인에 출연료를 지급해 세금을 탈루했다는 논란도 불거졌다    이후 TBS 측은 직접 보도자료를 내고 문제가 없다며 반박했다    뿐만 아니라 김씨가 TBS 출연료를 입금받을 목적으로 회사를 설립해 개인 종합소득세가 아닌 법인세율을 적용해 세금을 줄이고 있다는 의혹도 부인했다   이와 관련해 김씨도 방송을 통해      중요한 건 불법 탈루나 최소한 편법적인 절세 시도가 있었냐는 것인데    저는 출연료를 한 푼도 빠짐없이 종합소득세로 신고했으며 탈루 혹은 절세 시도가  원도 없다     고 주장했다    그는 매우 불쾌한 듯      공직자도 아닌데 개인 계좌를 들추나    오버들 하지 말라     며      그 에너지로      내곡동     이나      엘시티      취재를 하시길 부탁드린다     고도 했다   김민정    a        edaily   co   kr          시간 빠른    미리보는 뉴스    eNews     네이버에서      이데일리 뉴스     를 만나보세요  빡침해소    청춘뉘우스      스냅타임       종합 경제정보 미디어 이데일리       무단전재     재배포 금지  /\t 원래 라벨 :  0 /\t예측한 라벨 :  0\n",
      "기사내용 :  최문순 강원도지사를 탄핵해달라는 청와대 국민청원에 나흘 만에  만명이 넘게 참여했다     강원도는 연일 해명에 진땀을 빼고 있다     일 오후  시 현재 청와대 국민청원 게시판에서      강원도지사의 탄핵을 촉구합니다     라는 글은  만    명의 동의를 받았다      일 이 청원이 시작된 지 불과 나흘 만이다    청원인은      중국인들의 거주여부와 관계없이 국민들은 우리땅에서 중국의 문화를 알리는 것에 결사반대한다     라며      한없이 노골적인 동북공정이 국민들의 민심을 반중정서로 통일시켰고 반감은 보다 거세지고 있다     고 주장했다    그러면서      과거 도지사는 본인을 공동 투자자로 칭하며 이 사업을      마음속의 일대일로     라고 표현했다     라면서      일대일로 즉 중국이 꿈꾸는 중화사상을 지지하며 위대한 중국 문화를 알리겠다고 발언한 것     이라고 적었다    또      도지사는 주민들 더 나아가 국민들을 위해 솔선수범하며 자국의 성장을 주도해야 하는 존재인데 최문순 도지사는 제 역할을 다하지도 못하면서 중국몽만을 꾸고 있는 것 아닌가     라고 목소리를 높였다     논란은 강원도 홍천군 일대에 추진중인 한중문화타운 사업에서 비롯됐다    반중 감정이 거세지면서 해당 사업을  철회해달라는 국민청원은 이날 참여인원이   만명을 넘겼다    홍천군 북방면 전치곡리 일원    만  규모로 추진하려던 이 사업은 지난     년   월 강원도 등과 업무협약을 했으며    지난해  월 자본금   억원 규모로 특수목적법인   SPC   이 설립된 상태다    최문순 지사는 지난   일 CBS라디오      김현정의 뉴스쇼     에 출연해      도 사업이 아니고        우리 민간 기업이 하는    중국인 관광객들이 와서 즐길 수 있는 문화관광콘텐츠사업     이라면서      우리 도에서는 반대가 전혀 없다     고 말했다    이날 강원도에서도      한중복합문화관광타운 팩트체크 해봅니다     라는 제목의 해명 자료를 냈다     강원도가 땅을 팔아 중국에 넘긴다    혈세  조원을 들여 무리한 건설을 추진한다 등의 의혹에 대해      해당 부지는 민간사업자 소유의 땅이고    민간사업자가 투자를 유치해오는        민자방식     이라면서      사업 중단이나 추진에 대해 도가 강제할 사안이 아니다     라고 밝혔다    이어      지난     년   월 당시 최문순 지사의      강원도 안에 작은 중국              문화일대일로      발언은 당시 정서로는 문제가 없었던 외교적 수사일 뿐    중화사상을 지지한다거나 중국 일대일로 사업의 일환이라는 온라인상의 주장은 사실과 다르다     라고 설명했다      고득관 매경닷컴 기자 kdk   mk   co   kr          경제  위      매일경제    네이버에서 구독하세요  이 제품은      이렇게 만들죠      영상으로 만나요  부동산의 모든것      매부리TV     가 펼칩니다     매일경제     mk   co   kr    무단전재 및 재배포 금지   /\t 원래 라벨 :  0 /\t예측한 라벨 :  0\n",
      "기사내용 :    경향신문    서울시교통방송 TBS에서      뉴스공장      진행자 김어준을 퇴출시켜달라는 청와대 국민청원이   만명 이상의 동의를 얻었다   지난  일 국민청원 게시판에 게시된      김어준 편파 정치방송인 교통방송에서 퇴출해주세요     라는 제목의 청원은   일   시 기준   만    명의 동의를 얻어 답변 기준인   만명을 넘어섰다   해당 청원에서 청원인은      서울시의 교통흐름을 실시간 파악해서 혼란을 막고자 교통방송이 존재하는 것     이라며      그러나 김어준은 대놓고 특정 정당만 지지하며 그 반대 정당이나 정당인은 대놓고 깍아 내리며 선거나 정치에 깊숙히 관여하고 있다     고 했다   또      이런 국민들의 분노로 김  을 교체하고자 여론이 들끓자 김  은 차별이라며 맞대응을 하고 있다     면서      교통방송이 특정정당 지지하는 정치방송이 된지 오래인건만 변질된 교통방송을 바로잡자는것이 차별인겁니까        라고 반문했다    그러면서      서울시 정치방송인 김  은 교통방송 자리에서 내려오세요              라고 했다   김씨는     년  월부터 TBS에서      김어준의 뉴스공장     을 진행해오고 있다    김씨는 해당 방송에서 위안부 피해자 이용수 할머니의 정의연 비판에 관해      기자회견에 배후가 있다         조국 전 장관의 아내 정경심 동양대 교수 유죄 판결에선      사법이 법복 입고 판결로 정치를 했다         윤석열 전 검찰총장 징계를 무력화한 행정법원의 집행정지 인용 결정에 대해선      행정법원의 일개 판사가 검찰총장 임기를 보장해줬다     는 등의 주장을 한 바 있다    해당 프로그램은     년 이후  건에 달하는 방송통신심의위원회의 법정제재를 받아 단일 프로그램으로는 최다 건수를 기록했다    사유는 모두      객관성 위반     이었다   그러나 당장 TBS가      뉴스공장     을 폐지하거나 김씨를 퇴출하도록 강제하기는 어려운 상황이다    서울시 산하기관이던 TBS는 지난해  월 별도의 재단인      서울시 미디어재단 TBS     로 독립했다    서울시가 직접 인사권이나 편성권을 행사할 수가 없다    재단 수입의      가 서울시의 출연금으로 충당되기는 하지만 출연금 비율 조정이나 지원 중단 결정은 서울시 의회의 의결을 거쳐야 한다    서울시의회 의석은 더불어민주당이 대부분을 차지하고 있다   박용필 기자 phil   kyunghyang   com     인터랙티브    나의 탄소발자국은 얼마     경향신문 바로가기  경향신문 구독신청하기 경향신문   www   khan   co   kr       무단전재 및 재배포 금지 /\t 원래 라벨 :  0 /\t예측한 라벨 :  0\n",
      "기사내용 :  청와대 국민청원 홈페이지 캡처   서울   연합뉴스    임형섭 기자     방송인 김어준 씨를 TBS   교통방송   에서 퇴출해달라는 내용의 청와대 국민청원에 참여한 인원이   일 청와대의 공식 답변 요건인   만명을 넘겼다       김어준 씨는 TBS 라디오에서 시사프로그램      뉴스공장     을 진행하고 있다       청원인은      교통방송은 청취자들이 서울시의 차량 흐름을 실시간으로 파악하도록 돕기 위해 존재하는 것     이라며      그러나 김어준은 대놓고 특정 정당만 지지하고 반대 정당을 깎아내리며 선거와 정치에 깊숙이 관여하고 있다     고 지적했다        이어      그는 교체 여론이 들끓자 오히려 자신이 차별을 당했다고 맞대응하고 있지만    변질된 교통방송을 바로잡자는 것이 차별인가     라며      이제 자리에서 내려오라     고 촉구했다   hysup   yna   co   kr 네이버에서도 뉴스는 연합뉴스   구독 클릭       팩트체크   쿠팡이츠 배민서 주문한 개고기 합법    제보하기  /\t 원래 라벨 :  0 /\t예측한 라벨 :  0\n",
      "기사내용 :  차이나타운 반대 청와대 청원   만 돌파최문순 도지사 탄핵 촉구 청원도 나와최문순 강원도지사   강원도가 오는     년까지 강원 춘천과 홍천에      한중문화타운     을 건립하는 계획을 추진하고 있어 논란이 일고 있다    한중문화타운은 인천 차이나타운의   배 규모로 내년 한중수교   주년을 기념해 추진되고 있다    소요 예산만 약  조원에 달한다    이에 대한 반대 여론이 거센 가운데   일 청와대 국민청원 게시판에는 최문순 강원도지사의 탄핵을 촉구하는 청원까지 올라왔다        강원도지사의 탄핵을 촉구합니다     라는 제목의 청원을 게재한 청원인은      탄핵 사유는 최문순 강원도지사의 무능함과 독재성     이라며      그는 국민들을 분노하게 만든 장본인     이라고 주장했다   청원인은      국민들은 우리 땅에서 중국 문화를 알리는 것에 결사반대한다    노골적인 동북공정이 민심을 반중 정서로 통일시켰다     며      도지사는 본인을      공동 투자자     로 칭하고 이 사업을 일대일로          라고 표현했다    중화사상을 지지하며 중국 문화를 알리겠다고 한 것     이라고 주장했다   청원인은      자국 성장을 주도해야 하는 도지사가 중국몽만을 꾸고 있다     며      그는 과거 만취상태로 도의회에 참석해 답변 도중 쓰러지는 등 부도덕적 행위도 보였다    이젠 강력 반대에도 불구하고 레고랜드를 강행하고 중국문화타운까지 건설하려고 한다     고 비판했다   그러면서      이 사업은  조원에 달하는 국민들 세금으로 추진된다     며      따라서 국민 의사를 절대적으로 반영해야 한다    국민이 반대하는 이상 누구도 이를 강행할 수 없다     고 했다   그는      민주성에 어긋나는 행위로 국민을 무시하는 도지사를 탄핵시켜달라     며      국민과 도민을 존중하지 않는 사람은 필요하지 않다     고 호소했다    앞서 지난달   일자로 청와대 국민청원 게시판에 게재된      강원도 차이나타운 건설을 철회해주세요     라는 제목의 청원글은 게재  주 만인   일 동의자가   만명을 넘어섰다    청원인은      도지사에게 국민 반대에도 건설을 추진하는 이유가 뭔지 묻고 싶다     며      김치    한복    갓 등 우리 고유 문화를 약탈하려고 하는 중국에 맞서야 한다     고 주장했다        한중문화타운     에 대한 반대 목소리가 거센 가운데 강원도는 중국문화 체험공간을 마련해 국내 관광 사업을 활성화시키고 일자리를 창출하려는 목적이라고 사업 취지를 밝혔다   강원도 측은      최근 반중정서와 맞물려 비롯된 춘천홍천 일원에 추진 중인 한중문화타운 조성사업에 대한 오해가 더 이상 확산되지 않기를 바란다     며      본 사업은 강원도가 예산을 투입하여 추진하는 사업이 아니라 민간기업에서 추진하는 것으로 강원도는 순조로운 사업 추진을 위해 인허가 등의 행정지원만을 하고 있다     고 설명했다    이어      한중문화타운은 중국인 집단거주시설인 차이나타운이 아니고    한국과 중국 문화를 테마로 IT 신기술이 접목된 다양한 한류 볼거리를 라비에벨 관광단지 내 일부      만    에 조성하는 관광단지 사업     이라며      최근 반중정서와 맞물려 잘못된 정보로 인해 기업의 투자유치 및 대규모 관광시설 조성이 위축되지는 않을까 안타깝다     고 밝혔다    김명일 한경닷컴 기자 mi      hankyung   com  경제지 네이버 구독 첫    만    한국경제 받아보세요  한국경제앱 다운받고      암호화폐      받아가세요  한국경제신문과 WSJ    모바일한경으로 보세요   한국경제     hankyung   com    무단전재 및 재배포 금지 /\t 원래 라벨 :  0 /\t예측한 라벨 :  0\n",
      "기사내용 :  이미지 원본보기    OSEN   강서정 기자    방송인 함소원이 직접 만난 팬에게 위로를 받았다고 고마운 마음을 전했다    함소원은   일 자신의 SNS에      위로    우연히 방금 마주친 팬님 한참을 위로해주시고 뒤돌아 서시는데 어찌나 맘에 와 닿는지 감사합니다     라는 글을 게재했다    이와 함께 한 팬이      소원 님은 자꾸 신경이 쓰이고 마음이 늘 아프다    주변에 구설수도 그렇고 그러니 혼자라고 생각마세요    이렇게 믿고 지지해주는 우리 팬들이 있으니 꼭 힘내세요     이라고 보낸 DM을 공개하기도 했다    앞서 함소원은   일 자신의 SNS에      여러분      이렇게까지      괜찮습니다 항상 감사하고 항상 고맙습니다    여러분들의 마음에 감사합니다     라며 자신을 향한 국민청원글을 캡처해 올렸다    청원글 제목은      방송인          에 대한 심각한 악플과 마녀사냥을 그만두게 해주세요     이다   함소원은 TV CHOSUN      아내의 맛      조작 방송으로 논란에 휩싸였고 이를 인정하며 프로그램에서 하차했다    또한 제작진도 조작을 인정하며 시즌을 종료했다    한편 함소원은     년 중국인   살 연하 남편 진화와 결혼해 슬하에 딸 혜정 양을 두고 있다         kangsj   osen   co   kr   사진    함소원 SNS /\t 원래 라벨 :  0 /\t예측한 라벨 :  0\n",
      "기사내용 :  인도 여군 신병들이 지난달   일   현지 시각    방갈로르의 헌병단 훈련장에서 교육을 이수하고 있다    모두   명의 여성이 작년  월 입소해   주에 걸친 훈련 과정을 거친다    이들은 이달 중 훈련을 마치고 인도의 첫 여성 헌병대원으로 복무할 예정이다    인도 정부는 헌병단에 모두     명의 여군 인력을 받아들일 예정이다         AFP 연합뉴스               여성도 남성과 같이 징병하라     는 청와대 국민청원이 지난   일 올라와 하루 만에 사전 동의자 수  만    명을 넘어섰다   사전 동의    명 기준만 충족하면 청와대가 공개 여부를 검토하는데    이 청원은 이례적으로 하루 만에 사전 동의  만명을 넘어선 것이다    청와대의 공개 결정 전이기 때문에 현재 국민청원 게시판에서 검색은 불가능하며    해당 글을 바로 볼 수 있는 연결주소   URL   로 접속해야만 볼 수 있다   청원인은 청와대 국민청원 글에서      여성도 징병대상에 포함시켜달라     며      나날이 줄어드는 출산율과 함께 우리 군은 병력 보충에 큰 차질을 겪고 있다    이에 따라 남성의 징집률 또한  할에 육박하고 있다     고 했다    이어      과거에 비해서 높아진 징집률만큼이나 군 복무에 적절치 못한 인원들마저 억지로 징병대상이 돼버리기 때문에 국군의 전체적인 질적 악화가 우려되는 상황     이라고 했다   청원인은      그 대책으로 여성 또한 징집 대상에 포함해 더욱 효율적인 병 구성을 해야 한다     면서      이미 장교나 부사관으로 여군을 모집하는 시점에서 여성의 신체가 군 복무에 적합하지 않다는 이유는 핑계로밖에 들리지 않는다     고 했다   또      현재는 예전 군대와 달리 현대적이고 선진적인 병영 문화가 자리 잡은 것으로 안다     며      여성들도 인지하고 있으며    많은 커뮤니티를 지켜본 결과 과반수의 여성도 여성 징병을 긍정적으로 바라보고 있음을 확인했다     고 했다   한 여군이 미국 조지아주 육군 기지 보병 훈련 센터 포트베닝에서 훈련을 받고 있다         AP 뉴시스          청원인은      성 평등을 추구하고 여성의 능력이 결코 남성에 비해 떨어지지 않음을 모두가 인지하고 있는 현대사회에서 병역 의무를 남성에게만 지게 하는 것은 매우 후진적이고 여성비하적인 발상     이라고도 했다   그러면서      여자는 보호해야만 하는 존재가 아니라 나라를 지킬 수 있는 듬직한 전우가 될 수 있다     며      따라서 정부는 여성 징병제 도입을 검토해달라     고 했다   청와대는 사전 동의    명 이상 청원 글에 대해 내부 검토 절차를 거쳐 게시판에      진행 중 청원     으로 공개한다    이 청원도 조만간 공개할 것으로 보인다   한편 전용기 더불어민주당 의원은 지난   일 공기업 공공기관 승진평가 시 군 경력 반영을 의무화하는 법안   제대군인지원에 관한 법률 일부개정법률안   을 발의하며      군 가산점 재도입 논의도 진행하겠다     고 했다      안준용 기자 jahny   chosun   com        조선일보가 뽑은 뉴스    확인해보세요    최고 기자들의 뉴스레터 받아보세요      등 신문 조선일보    앱으로 편하게 보세요 /\t 원래 라벨 :  0 /\t예측한 라벨 :  0\n",
      "기사내용 :     출연료 서울시민 세금에서 나오니 알 권리 있어     윤한홍    TBS      관례 따른 구두계약      주장에 반박도     KBS EBS    내부 계약서    지침에 따라 계약 체결        서울   뉴시스        김어준의 뉴스공장        사진   누리집 캡처                  photo   newsis   com    재판매 및 DB 금지   서울   뉴시스    문광호 기자     국민의힘은   일 TBS 교통방송 진행자 김어준씨의 출연료에 대해      고용한 서울시민에게 본인의 출연료를 밝히는 것이 당연한 도리     라며      떳떳하다면 출연료를 밝혀라     라고 촉구했다   배준영 국민의힘 대변인은 이날 오전 논평을 통해      김어준씨는      뉴스공장      방송을 총     회 진행했다     회 출연료가    만원 상당이라면 박원순 전 시장 임기 동안만 출연료로   억원에 가까운 금액을 수령했을 것이라는 추정이 나오고 있다     며 이같이 전했다   배 대변인은      김어준씨는 연예인급 사회자     라며      김어준씨의 출연료는 서울시민이 주는 셈이다    그리고 그 출연료는 서울시민의 세금에서 나온다    따라서 서울시민은 내 혈세가 그에게 얼마나 주어지는지 알 권리가 있다     고 강조했다   이어      이와 관련해 TBS 측은      총 지급액    평균 지급액 등 출연료 자료는 민감한 개인소득 정보에 해당돼 개인정보 보호법 제  조에 따라    정보 주체의 동의 없이 공개할 수 없다     고 한다     며      그렇다면 김어준씨는 TBS에 정보 공개를 동의해야 한다    아니라면    본인이 직접 밝혀야 한다     고 주장했다   그러면서      김어준을 TBS에서 하차시키라는 청와대 국민청원이   만 명을 넘어 섰다고 한다     며      서울시가 그 혈세를 정권 홍보와 옹위를 위해 흥청망청 써오지는 않았는지 서울시민은 궁금할 따름     이라고 전했다   이와 관련 TBS가      TBS FM 외부 진행자는 관례에 따른 구두 계약으로 별도의 계약서는 없다     고 밝힌 것에 대해서도 마찬가지로 정부의 지원을 받는 EBS    KBS 등은 계약서를 작성해왔다는 반박도 제기됐다   윤한홍 국민의힘 의원이 EBS와 KBS로부터 제출받은      라디오 외부진행자   MC    직원 외    관련 자료요구 답변서     에 따르면 EBS는      라디오 외부진행자 출연자는 문화체육관광부가 발표한 계약서 양식을 따라 제정된 공사 내부 계약서 양식에 따라 계약을 체결한다     고 밝혔고 KBS도      공사는 고용보험법    예술인복지법 및 문화예술용역운용지침서 가이드라인에 따라 라디오 외부진행자와의 계약을 진행하고 있다     고 전했다   한편 김승수 국민의힘 의원도 이날 보도자료를 통해      TBS 교통방송의 진행자 김어준씨의 회당 출연료는    만원에 달하는 것으로 업계 출연료 평균   만     만원에 비해      배 이상의 금액     이라며      TBS는 라디오 진행자 출연료 상한액을    만원으로 정하고 있는 만큼 김씨의 출연료 논란은 계속될 전망     이라고 의혹을 제기했다    공감언론 뉴시스 moonlit   newsis   com  네이버에서 뉴시스 구독하기  K     Artprice    유명 미술작품 가격 공개  뉴시스 빅데이터 MSI 주가시세표 바로가기  /\t 원래 라벨 :  0 /\t예측한 라벨 :  0\n",
      "기사내용 :  경북 구미시의 한 빌라에서 시신으로 발견된 만  세 보람양 사건과 관련해    당초 보람양의 어머니로 알려졌다가 유전자 검사 결과 언니로 밝혀진 김모씨        의 전 남편 A씨가 청와대 국민청원 게시판에 김씨의 엄벌을 호소하는 글을 올렸다   구미  세 여아 사망 사건과 관련해 숨진 여아의 친모가 아닌 언니로 드러난 김모씨의 첫 재판이 지난  일 대구지방법원 김천지원에서 열렸다    김씨가 법정으로 가고 있는 모습         연합뉴스           A씨는   일 청와대 국민청원 게시판에      쓰레기집에 제 딸을 버리고 도망간 구미 OOO의 엄벌을 청합니다     라는 제목의 글을 올리며      어제 나온 SBS      그것이 알고싶다      방송을 보고 분노하는 마음을 억누를 길이 없어 고민 끝에 글을 올린다     고 했다   A씨는      김씨의 가방에서 모텔 영수증이 나와도 아이를 생각하면서 참았고    신발장에서 임신 테스트기   개를 발견했을 때도 용서했다     며      사랑하는 아이가 저처럼 아빠나 엄마 없이 자라게 하고 싶지 않았기 때문     이라고 했다   A씨는      아이를 옆에 재워둔 채 밤새 집을 나간 김씨를 뜬 눈으로 기다리면서도 이 시간이 언젠가 지나갈 거라 믿었다     며      그런데 다음 날 들어온 김씨가      남자가 있다    아이가 있다는 사실도 안다     고 해 그 남자가 아이를 책임져 주겠다고 했냐 물었더니      그건 모르겠다     고 하더라    김씨에게      엄마 될 자격 없으니까 나가라     고 말한 뒤 아이와 마지막 인사를 하게 하려 했는데 그 순간이 지금도 너무 원망스럽게 기억난다     고 했다   A씨는 글에서 아이를 온전히 책임질 수 있는 아빠가 돼야겠다고 다짐했고    자신이 떳떳한 직장을 얻어 돈을 벌어 올 때까지 김씨에게 잠시만 아이를 키워달라고 부탁했다고 한다    자택 바로 아래층에 김씨의 부모도 거주하고 있어 아이를 돌봐줄 사람이 많을 것이라 판단한 것이다   그는      조금씩 회복하며 일자리를 알아보던 중 김씨가 만나는 남자가 대기업을 다니며 돈도 많다는 이야기를 들었다     며      그 남자가 아이를 예뻐한다는 소식도 들었다    아무것도 모르는 아이가 그 남자를 아빠로 알고 살아간다면 저는 너무 슬프겠지만    저처럼 무능력한 아빠보단 그 남자가 아이를 더 잘 먹이고 좋은 옷을 사 입힐 수 있겠지 싶었다     고 말했다   그러나 A씨는      김씨는 제가 아이 한 번 보러 가겠다고 해도 답이 없었다    이듬해 겨우 한두 번 보러 갈 수 있었다     면서      장인 장모가 돌봐주고 새 남자가 아껴줘 저 없이도 잘 지낸다는데    더 이상 제 자리는 없는 것 같았다     고 했다   A씨는     비가 내리고 찌는 듯 더운 날들이 지나갔던  월    먹을 것도 없고 옷에 똥오줌 묻혀가며 쓰레기 더미에 기대 지쳐갔을 아이를 생각하면 지금도 미칠 것만 같다     며      김씨는 희대의 악마이고 살인마다    어떻게 새 남자와 신혼처럼 밤을 보내기 위해 그 꽃잎보다 고운 아이를 수백일 동안 혼자 내버려 둘 수가 있나    어떻게 인간이 그럴 수가 있나     라고 말했다   그는      힘을 모아달라    A씨가 살인에 응당한 처벌을 받을 수 있도록 재판부를 압박해 달라     며      더불어      그것이 알고싶다     에 나온 귀 접힌 아이가 어딘가 살아있다면    찾을 수 있도록 힘을 모아달라    부탁드린다     고 했다   살인 및 아동복지법 위반 등의 혐의로 기소된 김씨는 지난  일 대구지법 김천지원에서 열린 첫 재판에서 음식물이 제공되지 않으면 아이가 사망할 것을 예견하고도 지난해  월 빌라에 여아를 홀로 남겨둬 기아 등으로 숨지게 했다는 검찰 공소 사실을 인정했다    당초 김씨는 숨진 보람양의 친모로 알려졌지만    국립과학수사연구원과 대검찰청 유전자 검사 결과 김씨의 엄마인 석모씨        가 보람양의 친모인 것으로 확인되면서      아이 바꿔치기      논란이 일고 있다      김승현 기자 mykim      chosun   com        조선일보가 뽑은 뉴스    확인해보세요    최고 기자들의 뉴스레터 받아보세요      등 신문 조선일보    앱으로 편하게 보세요 /\t 원래 라벨 :  0 /\t예측한 라벨 :  0\n",
      "기사내용 :  이틀 만인   일 시민청원에 약  만명 동의     성상품화는 물론 아동 청소년 시설 밀집          아이들에게 어떻게 설명해야 하나      난감용인시 시민청원      두드림      게시판에 올라온      리얼돌 체험방 인허가 취소      청원         두드림      홈페이지 캡처     리얼돌   Real doll    체험방     을 두고 경기 용인지역 온라인 커뮤니티와 사회관계망서비스   SNS   를 중심으로 인허가 취소를 요구하는 목소리가 거세다    리얼돌은 사람의 신체를 본뜬 성인용 인형으로    체험방은 시간당 금액을 정해 리얼돌을 빌려주는 신종 유흥업소다   리얼돌 체험방을 반대하는 이들은      성상품화 문제는 물론이고    적어도 유아교육시설이나 초 중 고교 인근에서의 영업은 허용돼선 안 된다     며 반발하고 있다   용인시 시민청원 사이트      두드림     의      청소년 위해   유해   시설 리얼돌 체험관   체험방    인허가 취소를 요청합니다     라는 청원에는 글이 올라온 지 이틀 만인   일 오후  시  만명이 넘는 인원이 동의했다    지난 한 달간 청원 인원이 가장 많았던 게시글이 약    명의 동의를 얻은 데 비해 압도적으로 많은 숫자다    용인시는 청원 인원이    명을 넘으면 담당 과장이           명을 넘으면 실 국장이 서면으로 청원에 답변하고 있다     일 경기 용인지역의 한 온라인 커뮤니티에      리얼돌 체험방 인허가 취소 청원     을 부탁하는 글이 게재됐다    커뮤니티 게시글 캡처용인지역 온라인 커뮤니티와 SNS상에도 청원을 독려하는 글이 게시되고 있다    용인시민  만여 명이 가입한 한 온라인 커뮤니티에는   일      세상이 어떻게 돌아가는지 모르겠다     며      청원 동의 부탁드려요     라는 내용의 글이 올라왔다    이날까지 청원에 동참하겠다는 댓글은   개 이상 달렸다    해당 청원글은 또 다른 용인지역 커뮤니티에도 게시됐고    트위터에서도 이날까지      리얼돌체험관   체험방        이  만 개 이상 트윗   게시   되는 등 활발히 공유되고 있다        리얼돌 체험방 반대      청원글은   일 또 다른 용인지역 커뮤니티에도 공유됐다    커뮤니티 게시판 캡처     아동 청소년 이용시설 근처라도 제한해야     용인 시민청원      두드림      게시판에      리얼돌 체험방 금지      청원을 올린 작성자는      인근에 아동 청소년 시설이 많다     며 인허가 취소를 주장했다         두드림      홈페이지 캡처리얼돌 체험방을 반대하는 이들은 아동 여성의 성상품화 문제와 더불어 체험방이 들어서는 곳이 아동 청소년 인구 밀집 지역이라는 점을 지적한다   최초 청원 작성자는      시설로부터 반경    m 이내에 유아교육시설   곳    초등학교  곳    중학교  곳    고등학교  곳이 있다     며         청소년    위해   유해    시설인 리얼돌 체험방 인허가는 취소돼야 한다     고 주장했다   청원을 공유한 이들도      여성을 상품화하는 데 나라가 허가하는 건가                 아동 사이즈로도 리얼돌을 만든다고 한다    절대 못하게 막아야 한다      등 성상품화에 반대할 뿐만 아니라      같은 층에 작은 도서관도 있고 아이들과 화장실도 같이 쓸 텐데 무슨 생각으로 인허가를 내주는지 모르겠다     며 아동 청소년 유동 인구가 많은 지역이라는 점을 꼬집는다   사회관계망서비스   SNS   에      리얼돌 체험방      반대 청원과 함께 공유되고 있는 댓글    트위터 캡처한 트위터 사용자가      해당 리얼돌 체험방과 같은 건물에 어린이가 이용하는 작은 도서관이 있다     며 게시한 사진    트위터 캡처     리얼돌 체험방 제한 구역 넓혀야      주장도  월   일 오후 서울에 위치한 리얼돌 수입업체 물류창고에서 관계자가 상품을 정리하고 있다    뉴스 대법원이     년  월 리얼돌의 국내 수입을 허용하는 확정 판결을 내린 후 체인점 형식의 리얼돌 체험방이      합법     의 이름으로 우후죽순 생기고 있다   하지만 리얼돌 체험방은 세무서에 등록만 하면 설치되는      자유업종     이라 단속 사각지대에 있다는 비판이 꾸준히 제기됐다    리얼돌 체험방을 둘러싼 기타 논란리얼돌은 사람이 아니라서 성매매처벌법을 적용할 수 없고    대법원이      리얼돌은 음란물이 아닌 성기구     라고 판단하며 풍속영업규제법으로도 단속하기 어려운 측면이 있다는 한계도 지적된다   그러자 리얼돌 체험방을 규제할 수 없다면 아동 청소년 이용 시설 근처에서의 영업이라도 제한해야 한다는 주장이  월 청와대 국민청원 게시판에도 올랐다    현행 교육환경법 제 조   호는 학교로부터 반경    m 범위 내의 지역   교육환경보호구역   에 리얼돌을 비치한 시설을 설치할 수 없도록 규제한다    그러나 이 청원인은 실효성이 없다며 규제 지역을 확대할 것을 요청한 것이다   그는      수입    제작    사용에 대한 자유권은 개인의 문제지만    이 제품을 대여하고 활용하는 장소를 제공해주는 리얼돌 체험방 사업은 풍속적    교육적 문제가 된다     며      아이를 가진 학부모는 아이들에게 그게 무엇이라고 설명해야 할지 난감해한다     고 주장했다   그러면서 리얼돌 체험방을 규제가 가능한   종 위락   유흥   시설로 지정하고  주택 밀집 지역이나 학교 반경    내에서 영업을 금지하도록 해 달라고 청원했다    그는 또한      사법부는 리얼돌의 수입 자체를 금지할 법적 근거를 찾기 어렵다고 판결했지만    법원이 리얼돌을 활용한 영업까지 판단한 것은 아니다     라며      체험방 영업의 합법 여부에 대해서도 신중히 검토해 달라     고 말했다    윤주영 기자 roza   hankookilbo   com    엄마    학대받은 아이들 품은   년      모두 내 새끼         트랜스젠더    아들이 딸이 되기까지    험난한 여정 한국일보닷컴 바로가기 /\t 원래 라벨 :  0 /\t예측한 라벨 :  0\n",
      "기사내용 :  KBS 시청자권익센터에 제작진 입장 올려     가족의 다양한 시선 보여주는 게 방송 역할     방송인 후지타 사유리와 그가 정자 기증을 받아 낳은 아들 젠    사유리 SNS 캡처자발적 비혼모인 방송인 후지타 사유리        의 KBS  간판 가족 예능프로그램      슈퍼맨이 돌아왔다      출연을 반대하는 시청자 청원에 제작진이      최근 다양해지는 가족 형태의 하나로 사유리의 가족을 보여주려 한다     고 제작 배경을 밝혔다    정자 기증을 받아 출산한 사유리의 방송 출연을 둘러싼 일각의 차가운 시선에 대해      한쪽으로 치우치지 않고 다양한 시선을 보여주는 것이 방송의 역할이라 생각한다     며 제작의 명분도 강조했다    KBS 시청자권익센터는      자발적 비혼모 사유리씨의 출연에 반대합니다     란 청원에 대한 제작진 입장을   일 공개했다    입장문에서 프로그램 제작을 총괄하는 강봉규 책임프로듀서   CP   는      우리나라 한 부모 가구 비율은         로 급증하고 있으며    한 부모 가구에 대한 관심과 함께 기존 기혼 가구에만 지원되던 가족 정책도 다양한 방향으로 확대되고 있다     며      사유리 씨의 가정 역시 이처럼 다양하게 존재하는 가족의 형태 중 하나일 뿐이고    어떤 가족을 미화하는 게 아닌 가족의 성장을 담담하게 바라보고자 한다     고 설명했다         정자 기증을 받아 아이를 출산한 것까지는 개인적인 선택이라고 생각하지만    공영방송인 KBS가 사유리를      슈퍼맨이 돌아왔다     에 출연시키면 자발적 비혼모를 미화하게 된다     며 출연 반대를 요구한 시청자 청원에 대한 답변이다    KBS 시청자권익센터는 한 달 동안        명 이상이 동의한 청원은 프로그램 책임자의 답변을 받아 공개한다    사유리 출연 반대 청원엔        명이 동의해 답변 대상이었다    제작진은 사유리가 한부모 가정을 꾸리게 된 배경도 덧붙여 설명했다    사유리는      산부인과에서 난소 나이가   세라 자연 임신이 어렵고    지금 당장 시험관 시술을 하더라도 성공 확률이 높지 않다는 이야기를 듣고 세상이 무너지는 것 같았다     며      사랑하지 않는 사람을 급하게 찾아 결혼하는 게 어려웠다     고 비혼으로 임신을 결심한 계기를 밝혔다    강 CP는      사유리는 이제 막 아이를 키우는 부모의 길로 들어섰다    아들 젠에 대해 알아가며 본인도 함께 성장 중     이라며      시청자 여러분이 그녀의 선택을 지켜봐 주시면 감사하겠다     고 당부했다    지난해   월 아들을 출산한 사유리는 최근      슈퍼맨이 돌아왔다      촬영을 했다    남편이자 아이의 아빠는 없다    사유리의 육아 예능 출연 소식이 알려진 뒤 온라인과 오프라인에선 갑론을박이 벌어졌다    청와대 국민청원 등에      KBS가      비정상적      비혼모 출산을 부추긴다     는 글이 올라오자    한국한부모연합    정치하는 엄마들 등 시민단체를 비롯해 이재명 경기도지사 등은      한부모가정에게 가장 필요한 것은 낙인을 없애는 것     이라며 사유리의 육아 예능 출연을 지지했다    사유리 출연 반대 청원에 대한 제작진 입장 안녕하세요         슈퍼맨이 돌아왔다     를 사랑해 주셔서 감사합니다   부모가 되는 것이 꿈이었던 사유리 씨는 산부인과에서      난소 나이가   세라 자연 임신이 어렵고    지금 당장 시험관 시술을 하더라도 성공 확률이 높지 않다는 이야기를 듣고 세상이 무너지는 것 같았다     라며      사랑하지 않는 사람을 급하게 찾아 결혼하는 게 어려웠다     라고 비혼 상태에서 임신을 결심한 계기를 밝혔습니다    그리고 그녀는 출산 사실을 알리기로 한 것에 대해      거짓말하는 엄마가 아닌 아이에게 당당한 엄마가 되고 싶었다     라고 했습니다   사유리 씨는 이제 막 아이를 키우는 부모의 길로 들어섰습니다   아들 젠에 대해 알아가며 본인도 함께 성장 중입니다    우리나라 한 부모 가구 비율은         로 급증하고 있으며 한 부모 가구에 대한 관심과 함께 기존 기혼 가구에만 지원되던 가족 정책도 다양한 방향으로 확대되고 있습니다    사유리 씨의 가정 역시 이처럼 다양하게 존재하는 가족의 형태 중 하나일 뿐이며   여느 가정과 마찬가지로 많은 사람들의 축복과 응원을 받고 있습니다    따라서 최근 다양해지는 가족의 형태의 하나로 사유리 씨의 가족을 보여주고자 합니다    한쪽으로 치우치지 않고 다양한 시선을 보여주는 것이 방송의 역할이라고 생각합니다   또한      슈퍼맨이 돌아왔다     는 어떤 가족을 미화하는 프로그램이 아닌 가족의 성장을 담담하게 바라보는 프로그램입니다    슈퍼맨이 된 사유리 씨의 육아 일상도 있는 그대로 보여주고자 합니다    시청자 여러분이 함께 그녀의 선택을 지켜봐주시면 감사하겠습니다   예능제작센터 예능 CP 강봉규양승준 기자 comeon   hankookilbo   com    화해    남편이 정한      며느리 도리      지켜야 하나    제로웨이스트    코팅 종이 재활용되는데 그냥 버려라    한국일보닷컴 바로가기 /\t 원래 라벨 :  0 /\t예측한 라벨 :  0\n",
      "기사내용 :  경기도 용인에 생기는      리얼돌 체험관      인허가를 취소해달라는 청원이 올라왔다   지난   일 용인시 시민청원 사이트      두드림     에 올라온      리얼돌 체험관      인허가 취소 청원은   일 현재  만        명이 넘는 시민이 동의했다   청원인은      리얼돌 체험관 시설 반경    m 내에   개 유아교육시설과 초등학교  곳    중학교  곳    고등학교  곳이 있어 수천 명의 학생이 거주하고 있으며 이들이 인근 학원과 병원 등 상업시설을 이용하고 있다     고 주장했다   용인지역 온라인 커뮤니티에도      위해 시설은 학교나 유아교육시설 반경    m 내에 들어설 수 없는데도 불구하고 이런 시설이 대로변에 들어선다는 소식에 걱정이 된다     는 반응과 함께 청원을 독려하는 글들이 올라오고 있다   특히         리얼돌 체험관     이 들어설 건물에는 도서관도 있어 아이들이 공용화장실에서 리얼돌 체험관 이용자와 마주치게 될 것을 걱정하는 목소리도 나온다   문제는      리얼돌     이 사람이 아니라 성매매처벌법을 적용할 수 없고    대법원이      리얼돌은 음란물이 아닌 성기구     로 판단한 바 있어 단속에도 한계가 있다는 점이다   현행법상 일반 성인용품점으로 사업자 등록을 하는 리얼돌 체험관은 지자체의 허가나 영업증이 필요 없다        리얼돌 체험관     은 지난  월에도 국민청원으로 올라왔다    당시 청원인은      리얼돌과 같은 성인용품점이 유흥단란주점이나 성인오락실 등 허가업종이 아닌 자유업종이라면    리얼돌 체험방을  종 위락시설   유흥   로 지정해달라     고 요구했다   용인시는 청원인이    명을 넘으면 담당 과장이           명이 넘으면 실 국장이 서면으로 청원에 답변한다   YTN PLUS 최가영 기자   weeping     ytnplus   co   kr      저작권자   c    YTN     YTN plus 무단전재 및 재배포 금지      이 시각 코로나   확진자 현황을 확인하세요       대한민국 대표 뉴스 채널 YTN 생방송보기    매주 공개되는 YTN 알쓸퀴즈쇼    추첨을 통해 에어팟    갤럭시 버즈를 드려요   /\t 원래 라벨 :  0 /\t예측한 라벨 :  0\n",
      "기사내용 :     선거 정치에 깊숙이 관여     내로남불도          퇴출하라      국민청원   만명 동의 넘어서     가짜뉴스 더이상 안돼      퇴출 처벌 청원글 잇따라청와대 국민청원게시판 캡처방송인 김어준씨 퇴출을 촉구하는 청와대 국민청원 동의자가   만 명을 넘어섰다    청원인은 김씨에 대해      대놓고 특정 정당만 지지한다     며 TBS가 교통방송이라는 본연의 임무로 돌아갈 것을 요구했다     일 청와대 국민청원 게시판에 올라온      김어준 편파 정치방송인 교통방송에서 퇴출해주세요      청원은   일 오후  시 기준    만 명 이상의 동의를 받았다    국민청원은   만 건 이상의 동의를 받을 경우 청와대 공식 답변 대상이 된다    앞서      김어준의 뉴스공장     은  일 재보궐선거를 앞두고 국민의힘 후보 관련 의혹을 제기하는 익명 제보자  명을 방송에 내보내면서 상대방의 반박 내용 보도는 하지 않아 정치적 편향성 논란에 휩싸였다   청원인은      서울시 교통방송은 말 그대로 서울시 교통 흐름을 실시간 파악해서 혼란을 막고자 존재한다     면서      김어준은 대놓고 특정 정당만 지지한다     고 운을 뗐다    이어      그 반대 정당이나 정당인은 대놓고 깎아내리고 선거나 정치에 깊숙이 관여하고 있다     고 설명했다   청원인은 이어      내로남불     도 퇴출 요구 배경으로 들었다    그는      이것은 국민 모두가 다 아는 사실이지만 이런 국민들 분노로 김어준을 교체하고자 여론이 들끓자 김씨는 차별이라며 맞대응하고 있다     며      교통방송이 특정 정당 지지하는 정치방송이 된 지 오래이건만 변질된 교통방송을 바로잡자는 게 차별이냐     고 했다    교통방송의 본래 기능인 교통 정보 전달에 집중하라는 요구다   동의자들도 청원인 입장에 공감하고 있다    한 동의자는      교통방송이 본분을 찾으려면 김어준은 퇴출돼야 한다     고 했다    또 다른 동의자는      서울시민 세금으로 운영되는 방송은 정치적 중립을 지켜야 하는 건 상식     이라고 지적했다   김어준 처벌 청원도 잇달아TBS 김어준의 뉴스공장 홈페이지 캡처해당 청원 외에도 김씨의 퇴출이나 처벌을 촉구하는 청원이 잇따르고 있다     일에는      교통방송 장악한 김어준 교통방송에서 퇴출시키자     는 청원이 올라 이날까지  만       명이 동의했다    청원인은      서울시 교통 흐름을 원활하게 하고 교통정보를 시민들에게 알리기 위해 만들어진 교통방송이 김어준이 꿰차면서부터 좌파 정권 앞잡이 나팔수가 됐다     며      온갖 가짜뉴스를 만들어 좌편향된 방향으로 몰아가는 나팔수가 돼 얼마나 국민을 선동질했나     라고 되물었다    그러면서      김어준은 비참한 최후를 맞기 전에 스스로 물러남이 현명한 판단일 줄로 안다     고 꼬집었다    월에도      세월호 고의 침몰설로 국민을 우롱한 김어준씨를 처벌해주세요     라는 청원이 올라와 지난달   일까지        명이 동의했다    청원인은      세월호 고의 침몰설을 주장한 김씨의 주장이 허위로 드러났다     며      김씨를 퇴출시키고 처벌해야 한다    더 이상 가짜뉴스로 피해 보는 국민이 없길 바란다     고 주장했다   한편 김씨는     년  월부터 TBS에서 라디오 시사 프로그램      김어준의 뉴스공장     을 진행하고 있다    평일 오전  시부터  시간 방송되는 해당 프로그램은 지난해 서울 수도권 라디오 청취율 조사에서  위를 차지할 정도로 인기가 높다    하지만 방송 출범 당시부터 정치적 편향성 논란이 일었고    방송통신심의위원회로부터 여러 차례 제재를 받기도 했다    손효숙 기자 shs   hankookilbo   com    엄마    학대받은 아이들 품은   년      모두 내 새끼         트랜스젠더    아들이 딸이 되기까지    험난한 여정 한국일보닷컴 바로가기 /\t 원래 라벨 :  0 /\t예측한 라벨 :  0\n",
      "기사내용 :     사이더    정치인    방송인         김어준 TBS 퇴출청원   만연합뉴스    서울시교통방송 TBS에서      뉴스공장      진행자 김어준을 퇴출시켜달라는 청와대 국민청원이 빠른 속도로 동의를 얻어 주목이 되고 있습니다    김어준 대놓고 특정정당 지지정치방송인 교통방송서 내려오라         청와대 홈페이지 캡쳐    지난  일 국민청원 게시판에 게시된      김어준 편파 정치방송인 교통방송에서 퇴출해주세요     라는 제목의 청원은   일 오전   시 기준   만    명의 동의를 얻어 이미 답변 기준인   만명을 훌쩍 넘어섰습니다   청원인은 TBS 라디오에서 시사프로그램      뉴스공장     을 진행하고 있는 김어준 씨를 겨냥         교통방송은 청취자들이 서울시의 차량 흐름을 실시간으로 파악하도록 돕기 위해 존재하는 것이다    그러나 김어준은 대놓고 특정 정당만 지지하고 반대 정당을 깎아내리며 선거와 정치에 깊숙이 관여하고 있다     고 지적했습니다    그러면서      서울시 정치방송인 김어준은 교통방송 자리에서 내려오세요              라고 촉구했는데요   딴지일보 총수부터나꼼수 흥행돌풍까지나무위키    김씨는 대한민국에서 좌파로 알려진 인물입니다    인터넷 미디어 딴지일보를 창간하였으며 이후 주진우    김용민 등과 팟캐스트 나는 꼼수다를 진행하며 대중적 인기 얻었고 대한민국 팟캐스트 붐을 열었다고 평가받기도 합니다    그 뒤     년부터 TBS에서      김어준의 뉴스공장     을 진행해오고 있는데요    김씨는 이 방송에서 위안부 피해자 이용수 할머니의 정의연 비판에 관해      기자회견에 배후가 있다         조국 전 장관의 아내 정경심 동양대 교수 유죄 판결에선      사법이 법복 입고 판결로 정치를 했다      등의 주장을 한 바 있습니다    뉴스공장은     년 이후  건에 달하는 방송통신심의위원회의 법정제재를 받아 단일 프로그램으로는 최다 건수를 기록했는데요    사유는 모두      객관성 위반     이라고 합니다    또한 김씨는     재보권 선거에서 오세훈 시장 처가의 내곡동 땅      셀프 보상      의혹과 관련해 오 시장이 과거 내곡동 땅 측량 당일 들렀다고 주장한 생태탕집 주인과의 인터뷰 방송을 내보내는 등 야권에만 집중 공세를 편 바 있습니다   청원 동의   만명 훌쩍청와대 답변에 이목집중아이클릭아트         김어준의 뉴스공장     을 진행중인 김씨를 퇴출해달라는 청와대 국민청원에 대한 동의자가 답변기준인   만명을 넘은 만큼 정부나 청와대 관계자가 어떤 답변을 내놓을지 이목이 쏠리고 있는데요    다만 일각에선 TBS가 서울시 산하 출연기관이라 할지라도 서울시장의 인사권 행사가 어렵고    서울시의회 의원 대부분이 민주당인 상황에서 해당 국민청원이 성사될 가능성은 거의 없다는 의견이 지배적입니다   혈세 먹는 기생충vs뉴스공장 응원이번 김씨 퇴출 국민청원과 관련해 온라인에서의 설전도 뜨거운데요   아이디 kang          등은      우리세금으로 운영하는 교통방송    교통방송에 적합한 전문가가 진행해야 좋을 듯 합니다              지식인인 척 하며 혼란한 사회에 기생하며 시민들의 혈세를 빨아먹는 기생충           이런 방송은 하루 빨리 없어져야 한다     고 목소리를 모았습니다    반면 아이디 choc          등은      뉴스 공장 응원합니다    청취율  위쭉              김어준 방송 계속해야 합니다           수구 언론 폐간도 허용하라     등의 의견을 내놓기도 했습니다    김효순기자 soon       dt   co   kr      네이버 메인에서 디지털타임스 구독                뉴스스탠드 구독     디지털타임스 홈페이지 바로가기 /\t 원래 라벨 :  0 /\t예측한 라벨 :  0\n",
      "기사내용 :  방송인 김어준 씨를 TBS 교통방송에서 퇴출해달라는 청와대 국민청원이 확산되는 것에 대해 김남국 더불어민주당 의원이      오세훈 서울시장의 거짓말을 파헤치는 노력을 해서 그런 것     이라고 주장했습니다    김 의원은 오늘     일    YTN 라디오      황보선의 출발 새아침     에서         김어준 씨가    오세훈 서울시장의 거짓말을 파헤치는 노력을 하다 보니 불편하고 아프게 생각했던 것     이라고 말했습니다         주로 메이저 언론사    종편 방송사들에서 생태탕 의혹과 관련한 인터뷰를 다루지 않았었는데         김어준의 뉴스공장     에서 내곡동 땅 의혹    오 시장의 거짓말 의혹 등에 대해 집중적으로 인터뷰를 했다     며 이같이 말했습니다   앞서 방송인 김어준 씨를 TBS   교통방송   에서 퇴출해달라는 내용의 청와대 국민청원에 참여한 인원이 청와대의 공식 답변 요건인   만명을 넘긴 바 있습니다    김어준의 뉴스공장 청원인은      교통방송은 청취자들이 서울시의 차량 흐름을 실시간으로 파악하도록돕기 위해 존재하는 것     이라며      그러나 김어준은 대놓고 특정 정당만 지지하고 반대정당을 깎아내리며 선거와 정치에 깊숙이 관여하고 있다     고 지적했습니다    이어      김어준은 교체 여론이 들끓자 오히려 자신이 차별을 당했다고 맞대응하고 있지만    변질된 교통방송을 바로잡자는 것이 차별인가     라며      이제 자리에서 내려오라     고 촉구한 바 있습니다   이에 대해 김남국 의원은      언론의 자유가 보장될 때    여러 정치권    권력을 건강하게 비판할 수가 있다     며      오 시장이 가진 예산 편성권으로 개입하려고 하거나 권력자가 압력이나 힘을넣게 되어버리면 결국 언론이 망가진다     고 주장했습니다   오세훈 서울시장을 향해서는      법률가인 시장님께서 잘 아시기 때문에 시정에 집중하시고    TBS 김어준 씨의 방송과 관련된 부분은 언론의 자유와 독립을 지켜주실 것이라 믿는다     고 말했습니다   이에 대해 누리꾼들은      그동안 편파방송만 일삼으며 국민을 분열시키고 선동시켜왔는데    이제와서 언론의 자유를 논한다     며 분노를 표출했습니다   누리꾼들은 또      서울시민 세금으로 운영되는 방송국이 어떻게 이토록 오래 특정 정당 대변인 역할을 하도록 방치될 수 있냐     며 성토했습니다        이상은 디지털뉴스부 기자       leestellaaz   gmail   com      네이버에서      MBN뉴스     를 구독하세요     김주하 앵커      MBN 종합뉴스      저녁  시   분 진행  MBN 무료 고화질 온에어 서비스 GO     /\t 원래 라벨 :  0 /\t예측한 라벨 :  0\n",
      "기사내용 :  검찰    징역  년 구형     윤창호법 적용유족들      관료적으로 선고 말아달라        서울   뉴시스    지난해   월   일 청와대 국민청원 게시판에 올라 있는      횡단보도 보행 중 음주운전자의 사고로   살 청년이 사망했습니다     라는 제목의 청원글       사진   청와대 국민청원 게시판 갈무리       photo   newsis   com   서울   뉴시스    류인선 기자     음주운전 중 사고를 내 대만인 유학생을 사망하게 한 혐의로 재판에 넘겨진   대 운전자의  심 선고가   일 내려진다   서울중앙지법 형사  단독 민수연 판사는 이날 오후  시  분 특정범죄 가중처벌 등에 관한 법률 위반   위험운전치사    등 혐의로 기소된 A        씨의 선고 공판을 진행한다   A씨는 지난해   월 일 서울 강남구 논현동 인근에서 혈중알콜농도           의 음주 상태로 차량을 몰다가   대 대만인 여성 B씨를 치어 숨지게 한 혐의로 재판에 넘겨졌다   같은달   일 청와대 국민청원 게시판에는      횡단보도 보행 중 음주운전자의 사고로   살 청년이 사망했습니다     라는 제목의 청원이 올라왔고 해당 청원은 열흘도 채 되지 않아 청와대 답변 기준인   만명 이상의 동의를 얻었다   B씨의 유족들도 최근 법원에 엄벌을 요구하는 탄원서를 제출했다   B씨 아버지는 지난달  일자 탄원서에서      제발 피해자와 피해자 가족에게 동정심을 가져주고 법 태두리 안에서 관료적이고 무관심하게 접근하지 말라     며      자식을 잃은 부모가 견뎌낸 상상할 수 없는 아픔과 고통을 느겼으면 좋겠다     고 말했다   이어      재판장님께서 법과 국민이 준 힘을 발휘해 살인자에게 최고의 형벌을 내려서 한국 사람들에게 더 안전한 거리를 만들어 달라     고 호소했다   B씨 어머니도      이번 판결에서 우리의 억울함을 풀어주길 간청한다     며      이번에는 엄벌해 윤창호법의 최고 형벌인 무기징역 판결을 내려주길 바란다     고 밝혔다    검찰은 지난달  일 열린 결심 공판에서 A씨에게 징역  년을 구형했다  공감언론 뉴시스 ryu   newsis   com  네이버에서 뉴시스 구독하기  K     Artprice    유명 미술작품 가격 공개  뉴시스 빅데이터 MSI 주가시세표 바로가기  /\t 원래 라벨 :  0 /\t예측한 라벨 :  0\n",
      "기사내용 :     김어준 TBS 퇴출       국민청원 동의      만명 돌파방송인 김어준 씨       TBS   교통방송    라디오      김어준의 뉴스공장     을 진행 중인 김어준 씨를 퇴출해 달라는 청와대 국민청원에 대한 동의자가   만명을 돌파했다    청와대 국민청원은 공개 시점부터   일 이내에 청원 답변기준인   만 명 이상이 동의하면 정부나 청와대 관계자가 공식답변하게 된다   이에 따라 청와대가 해당 국민청원에 어떤 답변을 내놓을지에 이목이 쏠린다    다만 일각에선 TBS가 서울시 산하 출연기관이라 할지라도 서울시장의 인사권 행사가 어렵고    서울시의회 의원 대부분이 민주당인 상황에서 해당 국민청원이 성사될 가능성은 거의 없다는 의견이 지배적이다   지난  일 청와대 청원게시판에      김어준 편파 정치방송인 교통방송에서 퇴출해주세요     라는 제목의 청원글에는   일 오전   시   분 현재   만    명이 동의하며      만명을 돌파했다   청원인은      서울시 교통방송은 말 그대로 서울시의 교통 흐름을 실시간 파악해서 혼란을 막기 위해 존재하는 것     이라며      그러나 김어준은 대놓고 특정 정당만 지지하며 그 반대 정당이나 정당인은 대놓고 깎아내리며 선거나 정치에 깊숙이 관여하고 있다     고 했다    이어      이것은 국민 모두가 다 아는 사실이다    이런 국민의 분노로 김어준을 교체하고자 여론이 들끓자 김어준은 차별이라며 맞대응을 하고 있다     며      교통방송이 특정정당 지지하는 정치방송이 된 지 오래이건만 변질된 교통방송을 바로잡자는 것이 차별인 건가     라고 적었다   김씨는     년  월   일부터 매주 월   금요일 오전  시에 자신의 이름을 딴      김어준의 뉴스공장     이란 시사 프로그램을 진행 중이다    하지만 이 프로그램은 쉴 새 없이 정치적 편향성 논란에 휩싸였다    이번 서울시장 보궐선거에서도 국민의힘 오세훈 서울시장 후보와 박형준 부산시장 후보 관련 의혹을 제기하는 익명 제보자  명의 인터뷰를 일방적으로 내보내 논란을 키웠다   선거 출구조사 발표 뒤      편파방송      지적을 받자         뉴스공장은    선거기간 동안 오세훈    박형준 후보를 한번도 인터뷰 못한 유일한 방송일 것     이라며      끊임없이 연락했는데 안 되더라    차별 당했다     고 주장했다   최근 서울시청 본청 및 사업소 직원들만 이용하는 내부 게시판에는      TBS에 들어가는 예산은 눈먼 돈이냐    왜 헛소리하는 사람들을 데려다가 비싼 방송료를 지불해야 하는지 이해가 안 된다     는 글이 올라왔다    또      선거기간에 생태탕 증언만 계속 내보내는 등 너무 노골적으로 민주당 선거운동을 하고 있다     며      제도권 안에서 지원을 받으면서 한쪽 편을 드는 것은 반칙이다    특정 정당 선전방송에 시민의 세금이 낭비돼선 안된다     는 내용의 글도 올랐다    TBS는 서울시 산하 출연기관인      미디어재단 TBS     라는 독립법인이다    독립법인이라 서울시장의 인사권 영역 밖에 있다    TBS 이사회가 동의하지 않는 한 김씨에 대한 인사를 마음대로 할 수 없는 상황이다    그러나 일각에선 김 씨의 퇴출을 주장하느니 차라리 방송을 계속 진행할 수 있도록 하는 게 정치적으로 야당에 유리할 것이란 의견도 있다   한편 오세훈 서울시장은 후보 시절인 지난달   일      TBS 설립 목적이 있다    교통 생활 정보를 제공하는 것     이라며      내가 시장에 당선돼도 김어준씨가 계속 진행해도 좋다    다만 교통정보를 제공하시라     고 했다    임재섭기자 yjs   dt   co   kr      네이버 메인에서 디지털타임스 구독                뉴스스탠드 구독     디지털타임스 홈페이지 바로가기 /\t 원래 라벨 :  0 /\t예측한 라벨 :  0\n",
      "기사내용 :    이데일리 김민정 기자    거세진 반중 감정이 강원도가 추진 중이던      차이나타운 건설     으로 불똥이 튄 가운데 이를 반대한다는 내용의 청와대 국민청원 동의자가 결국   만 명 선을 뚫었다   지난달   일      강원도 차이나타운 건설을 철회해주세요     라는 제목의 게시물은   일 오전   시 기준   만 명 이상이 지지를 보냈다    해당 글을 올린 청원인은      한중관계에 있어 교류와 협력이 중요하다고 해도 이해할 수 없는 사고     라며      왜 대한민국에 작은 중국을 만드는가    중국에 한국 땅을 주지 말라     고 촉구했다   이어 그는      국민들은 날이 갈수록 심해지는 중국의 동북공정에 자국 문화를 잃을까 불안감을 느끼고 있다     며      얼마 전에는 중국 소속사 작가가 잘못된 이야기로 한국의 역사를 왜곡해 큰 분노를 샀다     고 비판했다   그러면서 청원인은      최문순    강원도    도지사님    국민들과 강원도 주민들의 반대에도 건설을 추진하는 이유가 무엇인지 여쭙고 싶다    혹여나 중국자본이 투입되었더라도 이는 절대적으로 정당화될 수 없으며      용납 불가능한 행위          라고 목소리를 높였다      사진   청와대 국민청원 게시판   강원도는 지난     년 춘천과 홍천에 있는 라비에벨관광단지에 중국복합문화타운을 조성하는 업무협약을 중국 인민일보 및 인민망 등과 체결했다    이는 인천 차이나타운의   배 규모에 달하며    국내 관광산업을 활성화 취지로 추진됐다   이후 논란이 일자 강원도는 차이나타운 관련 의혹에 대해      이 사업은 중국인이 집단 거주하는 곳이 아니라 한류와 K     POP 등을 홍보하는      한중문화타운     이다     라며      최근 반중 정서와 맞물려 비롯된 한중문화타운 조성사업에 대해 오해가 확산되지 않기를 바란다     고 해명했다   뿐만 아니라 한중문화와 IT 신기술이 접목된 이 사업의 순조로운 추진을 위해 도는 인허가 등의 행정지원만 할뿐 일체 도비 투입은 없다는 입장이다   이에 대해 이준석 전 국민의힘   당시 미래통합당    최고위원은 지난   일 페이스북을 통해      도대체 왜 강원도지사가 중국에 꽂힌 건가     라며      무슨 차이나타운을 만들겠다고 하고    그걸 또 일대일로라고 아첨까지 해야 하나     라고 날을 세웠다    최근 국민의힘 춘천시당원협의회   위원장 김진태   도 성명서를 통해      최문순 지사가 춘천에   만 평 규모의 중국복합문화타운을 건설하려고 한다     며      가뜩이나 코로나   로 중국인 유입에 대한 우려가 깊은 가운데 청정강원도 안방을 중국인에게 내줄 순 없다     고 주장했다   이어      중국문화를 체험하고 싶으면 중국에 가면 되지 강원도에서 굳이 중국을 체험하고 싶은 사람이 어딨냐     고 말했다   그러면서      강원도에 차이나타운이 건설될 경우 치안문제 등으로 자칫 강원도민의 생활터전이 위협받을 수 있다     며      이미 국내에 조성된 차이나타운도 문제가 되는 마당에 새로 조성한다는 발상이 어처구니없다     고 덧붙였다   해당 청원은 청와대 관계자 공식 답변 요건인   만 명은 일찍이 넘어섰다    과연 청와대가 어떤 입장을 밝힐지 이목이 집중되고 있다   김민정    a        edaily   co   kr          시간 빠른    미리보는 뉴스    eNews     네이버에서      이데일리 뉴스     를 만나보세요  빡침해소    청춘뉘우스      스냅타임       종합 경제정보 미디어 이데일리       무단전재     재배포 금지  /\t 원래 라벨 :  0 /\t예측한 라벨 :  0\n",
      "기사내용 :  핵심 조직원  명 검거     빼돌린 돈으로  서 호화생활금융기관 검찰 사칭해 피해자 속여    억 상당 편취위조한 검사증과 명함      부산경찰청 제공     뉴스    부산   뉴스     박세진 기자          검사 김민수     를 사칭한 보이스피싱 범죄를 벌여   대 취업준비생을 극단적 선택으로 몰아간 핵심 조직원들이 검거됐다   이 사건은     년  월 한 아버지가 청와대 국민청원 게시판에      내 아들 죽인 얼굴없는 검사 김민수를 잡을 수 있을까요     라는 글을 올리고 전북 순창에 사는   대 취업준비생 아들이 보이스피싱에 속아 극단적 선택을 한 피해 사례를 알리면서 공분을 샀다     일 부산경찰청 강력범죄수사대는 사기    범죄단체 가입활동 혐의로 보이스피싱 핵심 조직원   대 남성 A씨 등  명을 구속하고  명을 불구속 수사하고 있다고 밝혔다   경찰에 따르면 해당 조직은     년  월께 중국 현지에 콜센터 등을 두고 국내에 발신번호 변작 중계기를 설치한 후     년   월까지 보이스피싱 범죄를 벌였다   이 기간 검찰과 금융기관을 사칭해 피해자들에게 접근    사건에 연루된 것처럼 속이거나 저금리 대환대출을 제시하는 수법으로    억원 상당을 편취한 것으로 조사됐다   경찰은 전북지역 조직폭력배 A씨가 국내 조직폭력배를 중국으로 불러들여 보이스피싱 조직을 운영하고 있다는 첩보를 입수하고 수사를 벌여왔다    지난해 경찰은 조직원   명을 붙잡아   명을 구속한 이후 핵심 조직원을 추적해왔다   이들은 콜센터를 운영하면서 대포통장을 이용해 피해자들로부터 돈을 송금받거나    국내 조직원들이 피해자를 직접 만나 현금을 건네받은 뒤 이를 조직에 송금하는 방식으로 범행을 벌인 것으로 드러났다   국내 조직원들은 금융감독원 신분증을 보여주거나 물품보관함에 돈을 두고 가도록 요청하는 등의 수법을 썼다    또 범행이 발각되는 것을 피하기 위해 주기적으로 역할을 교체했다    핵심 조직원들은 이렇게 빼돌린 돈으로 중국에서 호화생활을 한 것으로 조사됐다   경찰은      A씨가 유튜브에서   대 취업준비생 소식을 접하고 양심의 가책을 느껴 한달 뒤에 국내로 들어온 뒤 숨어지내다 검거됐다     고 설명했다   검거 소식을 접한 아버지는      평생 한이 맺힐 뻔 했다    김민수 검사 사칭범을 평생 못 잡을 줄 알았다     고 경찰에 고마움을 전했다   그는      공판 과정에도 참여해 피의자의 강력한 처벌을 원하는 탄원서를    법원에    제출하겠다     고 밝혔다   경찰은      수사기관에서는 절대 송금을 요구하지 않으며 검사를 사칭해 안전계좌로의 송금이나 직접 전달을 유도하는 전화    금융기관의 저금리 대환대출 전화는 보이스피싱 범죄 수법이다     고 강조했다   이어      보이스피싱 범죄는 주범을 검거하더라도 피해 회복이 어려우므로 피해를 당하지 않도록 주의해야 한다     며      특히 김민수나 이도현 검사와 수사관을 사칭한 전화를 받은 시민분들은 신고해달라     고 당부했다   sjpark   news    kr  네이버 메인에서    뉴스     구독하기      뉴스    BBC 한글 뉴스    터닝포인트        뉴스 코리아   news    kr       무단 전재 및 재배포 금지 /\t 원래 라벨 :  0 /\t예측한 라벨 :  0\n",
      "기사내용 :     친여         편파 방송      논란에 휩싸인 방송인 김어준씨를 TBS 교통방송에서 퇴출해 달라는 청와대 국민청원에 대한 동의자가 이틀 만에   만명을 넘어섰다    청와대 국민청원은 공개 시점부터   일 이내에   만 명 이상이 동의하면 정부나 청와대 관계자가 공식답변하게 된다   방송인 김어준씨         TBS          지난  일 청와대 청원게시판에      김어준 편파 정치방송인 교통방송에서 퇴출해주세요     라는 제목의 청원이 올라왔다    청원인은      서울시 교통방송은 말 그대로 서울시의 교통 흐름을 실시간 파악해서 혼란을 막기 위해 존재하는 것     이라며      그러나 김어준은 대놓고 특정 정당만 지지하며 그 반대 정당이나 정당인은 대놓고 깎아내리며 선거나 정치에 깊숙이 관여하고 있다     고 했다   이어      이런 국민의 분노로 김어준을 교체하고자 여론이 들끓자 김어준은 차별이라며 맞대응을 하고 있다     며      교통방송이 특정정당 지지하는 정치방송이 된 지 오래이건만 변질된 교통방송을 바로잡자는 것이 차별이냐     고 적었다    네티즌들은 김씨 퇴출 청원에      서울에 민주당 지지자만 사느냐    시 세금으로 운영하면서 방송을 그렇게 하면 안 된다           좌파라서 문제인 게 아니라 음모론으로 사회를 어지럽힌 것이 문제     라는 반응을 보였다             이 국민청원은   일 오후  시   분 현재   만    여 명이 동의한 상태다   김씨는     년  월   일부터 TBS에서 자신의 이름을 딴      뉴스공장     이라는 라디오 시사 프로그램을 진행하고 있다    매주 월요일부터 금요일까지 오전  시부터  시간 가까이 방송된다    지난해 서울 수도권 라디오 청취율 조사에서  위를 차지할 정도로 인기가 많다   하지만      김어준의 뉴스공장     을 두고 정치적 편향성에 대한 논란이 계속됐다        서울시장 보궐선거를 앞두고 야권에서는      김어준 퇴출론     이 나오자 여권에선      방송 탄압     이라고 맞받았다   오세훈 서울시장은 후보 시절인 지난달   일 언론 인터뷰에서      TBS 설립 목적이 있다    교통 생활 정보를 제공하는 것     이라며      내가 시장에 당선해도 김어준씨가 계속 진행해도 좋다    다만 교통정보를 제공하시라     고 했다   특히 선거 막판      김어준의 뉴스공장     은 야당 측 반론없이 국민의힘 오세훈 서울시장 후보와 박형준 부산시장 후보 관련 의혹을 제기하는 익명 제보자  명을 잇따라 내보내 논란은 더욱 커졌다    당시 국민의힘 측은      여당이 불리한 이슈에는      여당 해명방송     으로    야당을 공격하는 이슈에는      네거티브 특집방송     으로 쓰이는 방송    이게 방송이냐     고 했다    오 시장 측은 이 프로그램이 본래 기능인 교통 정보 전달에 집중하도록 요구할 것으로 알려졌다    김씨에 대한 거취보다는      교통방송 제자리 찾기     에 주력한다는 것이다        청와대   김명진 기자 cccv   chosun   com        조선일보가 뽑은 뉴스    확인해보세요    최고 기자들의 뉴스레터 받아보세요      등 신문 조선일보    앱으로 편하게 보세요 /\t 원래 라벨 :  0 /\t예측한 라벨 :  0\n",
      "기사내용 :     터미널 사익위한 공익 불편은 이해할 수 없어      시장의 잘못된 행정사항    감사원에 조사 요청   청주   뉴시스    조성현 기자     충북 청주고속버스터미널 개발사업과 관련해 교통정책을 바로잡아 달라는 국민청원이 올라왔다     일 청와대 국민청원 게시판에는      청주시청 교통정책 바로잡아달라    고속버스 걸거리 승하차장 반대     라는 게시글이 게재됐다   청원인은      청주고속버스터미널을 시내버스처럼 길거리 승하차장에서 이용한다는 게 이해할 수 없다     며      청주시는 고속터미널 사익을 위해 공익의 불편함은 신경쓰지 않는 것 같다     고 말했다   그러면서      전국 터미널 현대화 사업 사례를 보면 대전    대구    전주    서울 센트럴 등 터미널 건축허가 시 기존  터미널 운영에 지장을 초래하지 않고 주민 불편이 없도록 시설을 유지하며 개발했다     며      하지만 청주시는 왜 이러는지 모르겠다    시민이 모르는 특혜나 배임 등의 의혹이 사실인지 의문     이라고 주장했다   이어      청주시의 이번 시정 업무를 가만히 지켜볼 수 없다     며      시민을 봉으로 알고 대중교통 이용에 불편을 겪든 말던 신경 쓰지 않는 시장의 잘못된 행정사항에 면밀히 감사원 조사를 요청한다     고 요구했다   청원인은 이와 함께 교통 관련 여객자동차운수사업법 터미널운수사업 법령과 국토의 계획 및 이용에 관한 법률 위법성 여부도 함께 조사해달라고 했다   해당 청원의 마감일은 내달  일까지다    이날 오전   시 기준    명이 동의했다   청주고속버스터미널 현대화사업은 청주시 흥덕구 가경동 고속버스터미널을 헐고    그 일대에 터미널 대합실을 낀 공연장과 주상복합 판매시설을 짓는     억원대 대규모 개발사업이다   터미널 운영자인  청주고속터미널과 특수관계회사인  우민은 지난해  월 청주시에서 건축허가와 실시계획인가를 받았다       년  월 청주고속버스터미널 매입을 하고    같은 해  월 청주시와 현대화사업 협약을 한 지  년 만이다   사업자는 청주시 흥덕구 가경동 고속버스터미널을 헐고    그 일대에 고속버스 승 하차장과 아웃렛 공연장 등이 들어서는   층 복합건물을 지을 계획이다    기존 매입한 업무시설   현 주차장   은 상업용지로 변경해 주상복합아파트  개동을 올린다   현 터미널 부지의 박차장   버스 차고지   은 공간 부족에 따라 편도        거리의 외부   흥덕구 비하동            외  필지   로 이전한다    개발 사업을 위해 고속버스 박차장을 통째로 옮기는 사례는 전국에서 청주시가 유일하다   앞서 청주시는 지난  일 청주고속버스터미널 측에 임시터미널 위치변경 인가를 내줬다   현 고속버스터미널 도로 건너편에 매표소와 승차장   띠녹지 지역   을 두고    터미널 앞 도로에 하차장을 조성한 뒤 이를 연결하는 횡단보도를 신설하는 방안이 통과됐다   터미널 사업자는 지난해  월 청주시로부터 터미널 개발사업에 대한 건축허가와 실시계획인가를 받은 뒤 금융권 프로젝트 파이낸싱   PF    조달과 시공사 선정 작업에 나선 것으로 전해졌다   사업 기간은  년    사업비는     억       억원이다   국민의힘 중앙당은 지난해  월 사업 추진과정에서의 특혜 의혹을 제기하며 사업자와 청주시 공무원을 배임    업무상비밀누설 혐의 등으로 검찰에 고발했다      청주   뉴시스    조성현 기자     청와대 국민청원 게시판에 게재된 청주고속버스터미널 길거리 승하차장 반대 청원글       사진   청와대 국민청원 캡처                      photo   newsis   com    재판매 및 DB 금지 공감언론 뉴시스 jsh       newsis   com  네이버에서 뉴시스 구독하기  K     Artprice    유명 미술작품 가격 공개  뉴시스 빅데이터 MSI 주가시세표 바로가기  /\t 원래 라벨 :  0 /\t예측한 라벨 :  0\n"
     ]
    }
   ],
   "source": [
    "for i in range(30): \n",
    "    print(\"기사내용 : \", test_data['content'].iloc[i], \"/\\t 원래 라벨 : \", original_labels[i], \"/\\t예측한 라벨 : \", predict_labels[i])\n"
   ]
  },
  {
   "cell_type": "code",
   "execution_count": 47,
   "metadata": {},
   "outputs": [
    {
     "data": {
      "text/plain": [
       "array([0, 0, 0, ..., 0, 0, 0], dtype=int64)"
      ]
     },
     "execution_count": 47,
     "metadata": {},
     "output_type": "execute_result"
    }
   ],
   "source": [
    "original_labels"
   ]
  },
  {
   "cell_type": "code",
   "execution_count": 48,
   "metadata": {},
   "outputs": [
    {
     "data": {
      "text/html": [
       "<div>\n",
       "<style scoped>\n",
       "    .dataframe tbody tr th:only-of-type {\n",
       "        vertical-align: middle;\n",
       "    }\n",
       "\n",
       "    .dataframe tbody tr th {\n",
       "        vertical-align: top;\n",
       "    }\n",
       "\n",
       "    .dataframe thead th {\n",
       "        text-align: right;\n",
       "    }\n",
       "</style>\n",
       "<table border=\"1\" class=\"dataframe\">\n",
       "  <thead>\n",
       "    <tr style=\"text-align: right;\">\n",
       "      <th></th>\n",
       "      <th>original</th>\n",
       "      <th>predict</th>\n",
       "    </tr>\n",
       "  </thead>\n",
       "  <tbody>\n",
       "    <tr>\n",
       "      <th>0</th>\n",
       "      <td>0</td>\n",
       "      <td>0</td>\n",
       "    </tr>\n",
       "    <tr>\n",
       "      <th>1</th>\n",
       "      <td>0</td>\n",
       "      <td>0</td>\n",
       "    </tr>\n",
       "    <tr>\n",
       "      <th>2</th>\n",
       "      <td>0</td>\n",
       "      <td>0</td>\n",
       "    </tr>\n",
       "    <tr>\n",
       "      <th>3</th>\n",
       "      <td>0</td>\n",
       "      <td>0</td>\n",
       "    </tr>\n",
       "    <tr>\n",
       "      <th>4</th>\n",
       "      <td>0</td>\n",
       "      <td>0</td>\n",
       "    </tr>\n",
       "    <tr>\n",
       "      <th>...</th>\n",
       "      <td>...</td>\n",
       "      <td>...</td>\n",
       "    </tr>\n",
       "    <tr>\n",
       "      <th>2754</th>\n",
       "      <td>0</td>\n",
       "      <td>0</td>\n",
       "    </tr>\n",
       "    <tr>\n",
       "      <th>2755</th>\n",
       "      <td>0</td>\n",
       "      <td>0</td>\n",
       "    </tr>\n",
       "    <tr>\n",
       "      <th>2756</th>\n",
       "      <td>0</td>\n",
       "      <td>0</td>\n",
       "    </tr>\n",
       "    <tr>\n",
       "      <th>2757</th>\n",
       "      <td>0</td>\n",
       "      <td>0</td>\n",
       "    </tr>\n",
       "    <tr>\n",
       "      <th>2758</th>\n",
       "      <td>0</td>\n",
       "      <td>0</td>\n",
       "    </tr>\n",
       "  </tbody>\n",
       "</table>\n",
       "<p>2759 rows × 2 columns</p>\n",
       "</div>"
      ],
      "text/plain": [
       "      original  predict\n",
       "0            0        0\n",
       "1            0        0\n",
       "2            0        0\n",
       "3            0        0\n",
       "4            0        0\n",
       "...        ...      ...\n",
       "2754         0        0\n",
       "2755         0        0\n",
       "2756         0        0\n",
       "2757         0        0\n",
       "2758         0        0\n",
       "\n",
       "[2759 rows x 2 columns]"
      ]
     },
     "execution_count": 48,
     "metadata": {},
     "output_type": "execute_result"
    }
   ],
   "source": [
    "labels_res = pd.DataFrame()\n",
    "\n",
    "labels_res['original'] = pd.Series(original_labels)\n",
    "labels_res['predict'] = pd.Series(predict_labels)\n",
    "labels_res"
   ]
  },
  {
   "cell_type": "code",
   "execution_count": 49,
   "metadata": {},
   "outputs": [
    {
     "data": {
      "text/plain": [
       "<AxesSubplot:>"
      ]
     },
     "execution_count": 49,
     "metadata": {},
     "output_type": "execute_result"
    },
    {
     "data": {
      "image/png": "[encoded data removed]",
      "text/plain": [
       "<Figure size 432x288 with 1 Axes>"
      ]
     },
     "metadata": {
      "needs_background": "light"
     },
     "output_type": "display_data"
    }
   ],
   "source": [
    "labels_res['original'].value_counts().plot(kind='bar')"
   ]
  },
  {
   "cell_type": "code",
   "execution_count": 50,
   "metadata": {},
   "outputs": [],
   "source": [
    "original = labels_res['original'].value_counts().reset_index(drop=True)"
   ]
  },
  {
   "cell_type": "code",
   "execution_count": 51,
   "metadata": {},
   "outputs": [],
   "source": [
    "x = np.arange(2)\n",
    "month = ['부정', '긍정']\n",
    "value = original.sort_index(ascending=True)"
   ]
  },
  {
   "cell_type": "code",
   "execution_count": 52,
   "metadata": {},
   "outputs": [
    {
     "data": {
      "image/png": "[encoded data removed]",
      "text/plain": [
       "<Figure size 432x288 with 1 Axes>"
      ]
     },
     "metadata": {
      "needs_background": "light"
     },
     "output_type": "display_data"
    }
   ],
   "source": [
    "plt.bar(x, value)\n",
    "plt.xticks(x, month)\n",
    "for i, v in enumerate(x):\n",
    "    plt.text(v, value[i], value[i],                 # 좌표 (x축 = v, y축 = y[0]..y[1], 표시 = y[0]..y[1])\n",
    "             fontsize = 9, \n",
    "             color='blue',\n",
    "             horizontalalignment='center',  # horizontalalignment (left, center, right)\n",
    "             verticalalignment='bottom')\n",
    "\n",
    "plt.show()\n",
    "#plt.savefig('국민청원 월별 청원 수.png')"
   ]
  },
  {
   "cell_type": "code",
   "execution_count": 53,
   "metadata": {},
   "outputs": [
    {
     "data": {
      "text/plain": [
       "0    2757\n",
       "2       2\n",
       "Name: predict, dtype: int64"
      ]
     },
     "execution_count": 53,
     "metadata": {},
     "output_type": "execute_result"
    }
   ],
   "source": [
    "labels_res['predict'].value_counts()"
   ]
  },
  {
   "cell_type": "code",
   "execution_count": 54,
   "metadata": {},
   "outputs": [],
   "source": [
    "x = np.arange(1)\n",
    "month = ['부정']\n",
    "value = labels_res['predict'].value_counts()"
   ]
  },
  {
   "cell_type": "code",
   "execution_count": 55,
   "metadata": {},
   "outputs": [
    {
     "data": {
      "image/png": "[encoded data removed]",
      "text/plain": [
       "<Figure size 432x288 with 1 Axes>"
      ]
     },
     "metadata": {
      "needs_background": "light"
     },
     "output_type": "display_data"
    }
   ],
   "source": [
    "plt.bar(x, value, width = 0.4)\n",
    "plt.xticks(x, month)\n",
    "for i, v in enumerate(x):\n",
    "    plt.text(v, value[i], value[i],                 # 좌표 (x축 = v, y축 = y[0]..y[1], 표시 = y[0]..y[1])\n",
    "             fontsize = 9, \n",
    "             color='blue',\n",
    "             horizontalalignment='center',  # horizontalalignment (left, center, right)\n",
    "             verticalalignment='bottom')\n",
    "\n",
    "plt.show()\n",
    "#plt.savefig('국민청원 월별 청원 수.png')"
   ]
  },
  {
   "cell_type": "code",
   "execution_count": 56,
   "metadata": {},
   "outputs": [
    {
     "data": {
      "text/plain": [
       "0    2757\n",
       "2       2\n",
       "Name: predict, dtype: int64"
      ]
     },
     "execution_count": 56,
     "metadata": {},
     "output_type": "execute_result"
    }
   ],
   "source": [
    "labels_res['predict'].value_counts()"
   ]
  },
  {
   "cell_type": "code",
   "execution_count": 64,
   "metadata": {},
   "outputs": [],
   "source": [
    "test2_data = my_content_df_2"
   ]
  },
  {
   "cell_type": "code",
   "execution_count": 65,
   "metadata": {},
   "outputs": [
    {
     "data": {
      "text/plain": [
       "<AxesSubplot:>"
      ]
     },
     "execution_count": 65,
     "metadata": {},
     "output_type": "execute_result"
    },
    {
     "data": {
      "image/png": "[encoded data removed]",
      "text/plain": [
       "<Figure size 432x288 with 1 Axes>"
      ]
     },
     "metadata": {
      "needs_background": "light"
     },
     "output_type": "display_data"
    }
   ],
   "source": [
    "train_data['label'].value_counts().plot(kind='bar')"
   ]
  },
  {
   "cell_type": "code",
   "execution_count": 66,
   "metadata": {},
   "outputs": [
    {
     "data": {
      "text/plain": [
       "<AxesSubplot:>"
      ]
     },
     "execution_count": 66,
     "metadata": {},
     "output_type": "execute_result"
    },
    {
     "data": {
      "image/png": "[encoded data removed]",
      "text/plain": [
       "<Figure size 432x288 with 1 Axes>"
      ]
     },
     "metadata": {
      "needs_background": "light"
     },
     "output_type": "display_data"
    }
   ],
   "source": [
    "test2_data['label'].value_counts().plot(kind='bar')"
   ]
  },
  {
   "cell_type": "code",
   "execution_count": 68,
   "metadata": {},
   "outputs": [],
   "source": [
    "stopwords = ['의', '가', '이', '은', '들', '는', '좀', '잘', '걍', '과', '도', '를', '으로', '자', '에', '와', '한', '하다']\n",
    "\n",
    "X_train = []\n",
    "for sentence in train_data['content']:\n",
    "    temp_X = [] \n",
    "    temp_X = okt.morphs(sentence, stem=True) # 토큰화 \n",
    "    temp_X = [word for word in temp_X if not word in stopwords] # 불용어 제거 \n",
    "    X_train.append(temp_X)\n",
    "\n",
    "X_test_2 = [] \n",
    "for sentence in test2_data['content']: \n",
    "    temp_X = []\n",
    "    temp_X = okt.morphs(sentence, stem=True) # 토큰화 \n",
    "    temp_X = [word for word in temp_X if not word in stopwords] # 불용어 제거 \n",
    "    X_test_2.append(temp_X)\n"
   ]
  },
  {
   "cell_type": "code",
   "execution_count": 69,
   "metadata": {},
   "outputs": [],
   "source": [
    "from keras.preprocessing.text import Tokenizer\n",
    "max_words = 35000 \n",
    "tokenizer = Tokenizer(num_words = max_words)\n",
    "tokenizer.fit_on_texts(X_train)\n",
    "X_train = tokenizer.texts_to_sequences(X_train)\n",
    "X_test_2 = tokenizer.texts_to_sequences(X_test_2)"
   ]
  },
  {
   "cell_type": "code",
   "execution_count": 82,
   "metadata": {},
   "outputs": [
    {
     "name": "stdout",
     "output_type": "stream",
     "text": [
      "내용의 최대 길이 :  40\n",
      "내용의 평균 길이 :  40.0\n"
     ]
    },
    {
     "data": {
      "image/png": "[encoded data removed]",
      "text/plain": [
       "<Figure size 432x288 with 1 Axes>"
      ]
     },
     "metadata": {
      "needs_background": "light"
     },
     "output_type": "display_data"
    }
   ],
   "source": [
    "print(\"내용의 최대 길이 : \", max(len(l) for l in X_test_2))\n",
    "print(\"내용의 평균 길이 : \", sum(map(len, X_test_2))/ len(X_test_2))\n",
    "plt.hist([len(s) for s in X_test_2], bins=50)\n",
    "plt.xlabel('length of Data')\n",
    "plt.ylabel('number of Data')\n",
    "plt.show()\n"
   ]
  },
  {
   "cell_type": "code",
   "execution_count": 71,
   "metadata": {},
   "outputs": [],
   "source": [
    "y_test_2 = []\n",
    "\n",
    "        \n",
    "for i in range(len(test2_data['label'])): \n",
    "    if test_data['label'].iloc[i] == 1: \n",
    "        y_test_2.append([0, 0, 1]) \n",
    "    elif test_data['label'].iloc[i] == 0: \n",
    "        y_test_2.append([0, 1, 0]) \n",
    "    elif test_data['label'].iloc[i] == -1:\n",
    "        y_test_2.append([1, 0, 0]) \n",
    "        \n",
    "        \n",
    "y_test_2 = np.array(y_test)"
   ]
  },
  {
   "cell_type": "code",
   "execution_count": 72,
   "metadata": {},
   "outputs": [],
   "source": [
    "from keras.layers import Embedding, Dense, LSTM \n",
    "from keras.models import Sequential\n",
    "from keras.preprocessing.sequence import pad_sequences\n",
    "X_test_2 = pad_sequences(X_test, maxlen=max_len)"
   ]
  },
  {
   "cell_type": "code",
   "execution_count": 73,
   "metadata": {},
   "outputs": [
    {
     "name": "stdout",
     "output_type": "stream",
     "text": [
      "87/87 [==============================] - 1s 10ms/step - loss: 0.0178 - accuracy: 0.9978\n",
      " \n",
      " 테스트 정확도 : 99.78%\n"
     ]
    }
   ],
   "source": [
    "print(\" \\n 테스트 정확도 : {:.2f}%\".format(model.evaluate(X_test_2, y_test_2)[1] * 100))"
   ]
  },
  {
   "cell_type": "code",
   "execution_count": 74,
   "metadata": {},
   "outputs": [],
   "source": [
    "predict = model.predict(X_test_2)"
   ]
  },
  {
   "cell_type": "code",
   "execution_count": 75,
   "metadata": {},
   "outputs": [],
   "source": [
    "import numpy as np \n",
    "predict_labels = np.argmax(predict, axis=1)\n",
    "original_labels = np.argmax(y_test_2, axis=1)"
   ]
  },
  {
   "cell_type": "code",
   "execution_count": 76,
   "metadata": {},
   "outputs": [
    {
     "name": "stdout",
     "output_type": "stream",
     "text": [
      "기사내용 :  이미지 원본보기    엑스포츠뉴스 황수연 기자    방송인 함소원이 단톡방 회원을 동원해 여론전을 펼치고 있다는 주장이 제기됐다    함소원은 해당 보도가 모두 스토커의 거짓 제보라고 반박했다      일 함소원은 자신의 인스타그램에         캡처 사진은         아내의 맛      톡방이다    이분들은 지난  개월 동안 저를 스토킹했으며 고소 중에도 디스패치에    방송국에 가짜 인터뷰로 저를 괴롭혔다    어제는 마지막 저를 탈탈 털어주겠다고 또 무서운 경고를 보내더니 디스패치가    기사를    썼다     고 주장했다    이어      참고로 우리 팬클럽 사진은 전부 제 사진이다    여러분 디엠   DM   으로      너를 끝내주겠다    손모가지를 걸고 너 끝이다     라고 세상에 처음 들어보는 협박을 매일 들었다    저는 연예인이니 여기서도 제가 잘못한 것이 될 것 같다     며      허위 사실을 기사로    방송으로 내지 말아달라    확인하고 내달라    부탁드린다     고 당부했다    이와 함께 함소원은      스토커     라고 주장하는 악플러의 메시지와      아내의 맛      톡 게시판의 캡처를 첨부했다    이날 디스패치는 이날 함소원이 소수 정예 팬들로 구성된    팬    단톡방에서 항의하기    전화하기    신고하기 등을 요청    여론전을 펼치고 있다고 단독 보도했다    보도에 따르면 함소원은 단톡방 구성원들에게 자신을 비판한 매체의 기자에게 항의 메일을 보내달라고 부탁하고    홈쇼핑 고객센터에 항의를 요청했다    심지어      함소원의 마녀사냥을 멈춰달라     는 청와대 국민청원도 단톡방을 통해서 게재됐다   한편 함소원은 TV조선      아내의 맛      조작 방송으로 불명예 하차했다         아내의 맛      프로그램은 함소원 논란으로 폐지됐다    이미지 원본보기 다음은 함소원 글 전문   여러분 보이십니까 여기는 아내의맛 톡방입니다 이분은들지난  개월동안 저를스토킹했으며 고소중인 중에도 디스패치에 방송국에 가짜인터뷰에저를괴롭히고 어제마지막 저를탈탈 털어주겠다고 또 무서운 경고를 보내더니디스패치가 쓰셨네요    참고로 우리 팬클럽 사진은전부 제사진입니다    여러분매일 디엠으로 너를끝내주겟다손모가지를 걸고 너끝이다 세상에처음들어보는 협박을 전 매일들었습니다 전연예인이니 여기서도 제가잘못한것이되겟지요 기자님 방송국 관계자님들 허위사실 기사로 방송으로내지마세요 확인하고내세요 부탁드립니다    hsy       xportsnews   com       사진     함소원 인스타그램  요즘 핫한 아이돌 공항 직캠 보러가기   기사에 사용된 사진 구입 문의        엑스포츠뉴스    무단 전재 및 재배포 금지 /\t 원래 라벨 :  0 /\t예측한 라벨 :  0\n",
      "기사내용 :  조승래 더불어민주당 의원조승래 더불어민주당 의원   대전 유성구갑   은   일 국회 청원제도의 실효성을 강화하는      국회법      일부개정법률안을 대표발의했다   개정안은 위원장이 의사일정을 정할 때 상임위의 심사기간 내 청원 심사를 마칠 수 있도록 노력해야 한다는 내용이다    국민동의청원이 심사기간 내 심사를 마치지 못한 때에는 회기마다  회 이상 심사될 수 있도록 의사일정을 정하도록 한 것이다   지난   대 국회에서    건의 청원이 접수됐지만    건이 폐기됐다    그 중   만명 이상 동의를 요하는 국민동의청원도  건 포함돼 있었다    하지만  건이 임기만료로 폐기됐다    폐기된 국민동의청원  건은 상임위에 상정조차 되지 못했다   조 의원은      현행 국회청원제도는 국민 청원권을 충분히 보장하지 못하고 있다     며      국회는 헌법상 국민의 권리인 청원권을 실질적으로 보장해야 한다    이번 법안으로 국회청원제도의 실효성을 제고하고    국회는 민의를 적극 반영하는      일하는 국회     로 나아갈 것     이라 말했다   송혜영기자 hybrid   etnews   com  네이버 홈에서    전자신문    구독하기  전자신문 바로가기    Copyright   전자신문     전자신문인터넷    무단전재 및 재배포 금지   /\t 원래 라벨 :  0 /\t예측한 라벨 :  0\n",
      "기사내용 :  사진 청와대 국민청원           강원도가 추진 중인      차이나타운     을 반대하는 청와대 국민청원이   일   만명을 돌파했다         이날 기준 청원      강원도 차이나타운 건설을 철회해주세요     는   만   명을 기록했다    해당 청원은 오는   일에 종료된다         청원인은      대한민국에 왜 작은 중국을 만들어야 하나     라며      국민들은 대체 왜 우리나라 땅에서 중국의 문화체험 빌미를 제공해야 하는지 이해할 수 없으며 단호하게 반대한다     고 주장했다         이어      춘천의 중도선사유적지는 엄청난 유물이 출토된 세계 최대 규모의 유적지     라며      이렇게 가치 있는 곳을 외국인을 위해 없앤다는 것은 도무지 이해할 수 없는 사고이며 우리의 역사가 그대로 묻히게 되는 결과를 낳을 수도 있다     고 지적했다         강원도는 춘천시와 홍천군 인근에     년 준공을 목표로      한중문화타운     을 추진 중이다    한중문화타운은 관광 활성화를 위해 중국 전통거리    한류 영상 테마파크    소림사    중국 전통 정원    중국 음식 푸드존 등으로 조성될 예정이다         홍수민 기자 sumin   joongang   co   kr     소름돋게 잘 맞는 초간단 정치성향테스트  넌 뉴스를 찾아봐    난 뉴스가 찾아와     당신이 궁금한 코로나    여기 다 있습니다 중앙일보   https             joongang   co   kr       무단 전재 및 재배포 금지 /\t 원래 라벨 :  0 /\t예측한 라벨 :  0\n",
      "기사내용 :     나날이 줄어드는 출산율    우리 군은 병력 보충에 큰 차질을 겪고 있어          현대사회에서 병역 의무를 남성에게만 지게 하는 것은 매우 후진적이고 여성비하적인 발상              디지털타임스 권준영 기자         여성 징병     을 두고 정치권에서도 날선 공방이 이어지고 있는 가운데    여성도 남성과 동일하게 징병 대상에 포함시켜 달라는 취지의 청와대 국민청원글이 반향을 일으키고 있다     일 청와대 국민청원 게시판에 따르면    여성도 징병대상에 포함시켜야 한다는 게시물이 올라와 사흘 만인 이날 오후 기준    동의자 수가  만     명을 넘어섰다    사전 동의    명 기준을 충족하면    청와대가 공개 여부를 검토하는데 해당 청원글은 하루 만에 사전 동의  만명을 넘어서는 등 폭발적인 반응을 얻고 있다    아직까지 청와대의 공개 결정 전이기 때문에 현재 국민청원 게시판에서 검색은 불가능한 상태이며    연결주소   URL   로 접속해야만 볼 수 있다   해당 청원글을 작성한 네티즌은      여성도 징병대상에 포함시켜달라     며      나날이 줄어드는 출산율과 함께 우리 군은 병력 보충에 큰 차질을 겪고 있다    이에 따라 남성의 징집률 또한  할에 육박하고 있다     고 주장했다   그는      과거에 비해서 높아진 징집률만큼이나 군 복무에 적절치 못한 인원들마저 억지로 징병대상이 돼버리기 때문에 국군의 전체적인 질적 악화가 우려되는 상황     이라고 우려를 표했다   청원인은      그 대책으로 여성 또한 징집 대상에 포함해 더욱 효율적인 병 구성을 해야 한다     라며      이미 장교나 부사관으로 여군을 모집하는 시점에서 여성의 신체가 군 복무에 적합하지 않다는 이유는 핑계로밖에 들리지 않는다     고 목소리를 높였다   이어      현재는 예전 군대와 달리 현대적이고 선진적인 병영 문화가 자리 잡은 것으로 안다     며      여성들도 인지하고 있으며    많은 커뮤니티를 지켜본 결과 과반수의 여성도 여성 징병을 긍정적으로 바라보고 있음을 확인했다     고 적었다   그러면서      성 평등을 추구하고 여성의 능력이 결코 남성에 비해 떨어지지 않음을 모두가 인지하고 있는 현대사회에서 병역 의무를 남성에게만 지게 하는 것은 매우 후진적이고 여성비하적인 발상     이라며      여자는 보호해야만 하는 존재가 아니라 나라를 지킬 수 있는 듬직한 전우가 될 수 있다     고      여성 징병제 도입     을 강하게 주장했다   최근 정치권에서도      여성 징병      문제를 두고 논쟁을 벌이고 있다    박용진 더불어민주당 의원은      징병제를 폐지하고 모병제로 전환하자              남녀 모두         일간 기초 군사훈련을 실시하고 예비군으로 양성하자     는 취지의 주장을 했다    앞서 같은 당 전용기 의원은      헌법을 개정해서라도 군 가산점제를 부활하자     고 말하기도 했다   반면 진중권 전 동양대학교 교수는      여성 징병     에 대해 다소 회의적인 반응을 보였다    진 전 교수는      모병제는 장기적으로 가야 할 목표이나    현재로서는 실현 가능성이 없지요     라며      모병제     가 현실화되기 힘든 가장 큰 문제로      재정     을 꼽았다   그는      게다가 그리로 가려면 헌법을 개정해야 합니다    실현 가능성 없는 입술 서비스로      표나 좀 얻어보겠다는 포퓰리즘     이라며      나름 진보적이라고 안티 페미니즘의 복용량을 적절히 조절해 내놓은 제안이다    속 들여다 보이네요     라고 비꼬아 비판했다   권준영기자 kjykjy   dt   co   kr      네이버 메인에서 디지털타임스 구독                뉴스스탠드 구독     디지털타임스 홈페이지 바로가기 /\t 원래 라벨 :  0 /\t예측한 라벨 :  0\n",
      "기사내용 :  강원도      한중복합문화관광타운      관련 설명 자료    강원도 제공강원도      한중복합문화관광타운      관련 청와대 국민청원    국민청원 게시판 캡처강원도에 건설될 예정인      한중복합문화관광타운     에 대해      차이나타운 건설 철회     를 주장하는 청와대 국민청원이   만 동의를 얻은 가운데 강원도가 해명에 진땀을 빼고 있다   강원도는   일      강원도에 혈세  조 차이나타운    팩트체크 해봅니다     라는 제목의 설명자료를 내고 Q A 형식으로 청원 내용을 조목조목 반박했다   도는      민간기업 등이 투자 유치 활동을 벌여왔으나 투자가 이뤄지지 않았고 현재 사업추진이 이뤄지지 않고 있다     며      해당 부지는 중도선사유적지에서     떨어진 곳으로 선사유적지가 아니다     라고 설명했다   이어      한류영상테마파크    K     POP 뮤지엄 등 양국 문화를 교류하고 체험하는 복합문화관광단지일 뿐 차이나타운이 아니다     라고 강조했다   도는 또      해당 부지는 민간사업자 소유 땅이고 이 사업인        민자방식으로 강원도 예산투입은  원도 없다     며      민간기업이 국민 정서에 반하는 계획을 수립하지 않을 것이라 믿고 기대하고 있으며    그렇지 않을 시 단호하게 의견을 개진하겠다     고 약속했다   아울러 도는      최문순 지사의      일대일로      발언은 문화적 교류와 이해를 통해 관광    교역까지 협력을 강화하는 취지였으며 당시 정서로는 문제가 없었던 외교적 수사였다     고 덧붙였다   앞서 지난   일 청와대 국민청원 게시판에는      강원도 차이나타운 건설을 철회해주세요     라는제목으로 청원이 올라오면서 논란이 시작됐다   청원인은      강원도에 차이나타운 건설을 강력하게 반대한다    중국문화타운이 착공 속도를 높인다는 소식을 접했는데 한중관계에 있어서 교류와 협력이 중요하다고 해도 이해할 수 없는 사고     라며      왜 대한민국에 작은 중국을 만들어야 하냐     고 주장했다   이어      얼마 전 중국 소속사의 작가가 잘못된 이야기로 한국의 역사를 왜곡해 많은 박탈감과 큰 분노를 샀다     며      계속해서 김치    한복    갓 등 우리 고유의 문화를      약탈     하려는 중국에 이제는 맞서야 한다고 생각한다     고 말했다   또      그런데도 왜 대한민국에 작은 중국을 만들고    우리나라 땅에서 중국의 문화체험 빌미를 제공해야 하는지 이해할 수 없고 중국인 관광객을 위한 호텔 건설도 반대한다     는 의견을 냈다   청원인은 춘천 하중도에 건설 중인 레고랜드 테마파크와 관련해서도      중도는 엄청난 선사 유물 유구가 출토된 세계 최대 규모의 선사유적지     라며      일부의 반대에도 건설을 추진하는 이유가 무엇인가     라고 반문했다   오는   일 마감을 앞둔 해당 청원에는   일 오후  시   분 현재   만여명이 동의했다   이혜진 기자 lhj   imaeil   com  네이버에서 매일신문 구독하기  매일신문 네이버TV 바로가기  나눔의 기적    매일신문 이웃사랑 매일신문       www   imaeil   com /\t 원래 라벨 :  0 /\t예측한 라벨 :  0\n",
      "기사내용 :  최문순 강원지사    강원도 제공역사왜곡 비판을 받으며 일찍 종영한      SBS    드라마    불똥이 춘천 한중문화타운까지 튀었다      일 오전   시 현재 청와대 국민청원 게시판에 올라온      강원도 차이나타운 건설을 철회해주세요     라는 제목의 글에는   만    명이 동의했다    하지만 이 글은 정확한 사실관계에 기반을 두지 않은 채 혐중 감정을 부추긴다는 비판이 나온다   지난달   일 처음으로 이 논란을 제기하며 사업 철회를 요구한 청원인은 이 사업을 국민 혈세  조원이 투입되는      강원도 차이나타운     이라고 말했다    그러나 이 사업은 중국인들이 실제 거주하며 식당이나 상점을 운영하는 차이나타운을 만드는 사업이 아니고 국민 세금이 들어가지도 않는다    갑자기 추진하는 사업 역시 아니다    사업 공식 명칭은      한중문화타운     이다    이 사업은     년부터 코오롱글로벌 이 중심이 된 민간기업 등이 강원도와 업무 협약을 맺고 추진하고 있다    강원도 쪽은      예산이 들어가지 않는다     고 말했다        대한민국에 작은 중국을 만들어야 하느냐    우리 땅에서 중국의 문화체험 빌미를 제공해야 하는지 이해할 수 없다     는 청원인의 주장도 사실과 다르다    이 시설은 거주시설이 아니기 때문이다    한중문화타운은 한류 영상테마파크와 케이팝 박물관 등 중국 관광객을 대상으로 한류 볼거리를 제공하고    한국 관광객도 중국 문화를 체험하며 문화를 교류하는      한국민속촌     과 같은 관광시설이다   청와대 국민청원 게시판에 한중문화타운 사업 철회를 요구하는 글이 올라와   만명 이상이 동의했다      이미지를 누르면 크게 볼 수 있습니다   청와대 국민청원 게시판에 최문순 강원지사 탄핵을 요구하는 글이 올라왔다      이미지를 누르면 크게 볼 수 있습니다   청원인은      중국문화타운   한중문화타운   이 착공 속도를 높인다는 소식을 접했다     고 주장했다    하지만 이 주장도 사실과는 차이가 있다    현재 이 사업은 민간기업 등이 투자 유치 활동을 벌이고 있지만 투자가 제대로 이뤄지지 않아 기본계획 구상 단계에 머물고 있다    정식으로 인허가 협의를 할 단계에도 이르지 못한 것이다    강원도는      이 사업은 강원도가 추진하는 사업이 아니라 민간사업이기 때문에 사업 중단과 추진에 대해 강원도가 강제할 수 없다    민간기업이 국민 정서에 반하는 사업계획을 수립하지 않을 것으로 판단하고 있다     고 말했다   사실에 근거하지 않은 주장이 혐중 감정을 부추긴다는 지적도 나온다    오정열 강원도 온라인수출연합회장   강원화장품산업진흥협회장   은      강원도는 관광과 수출로 먹고사는데 잘못된 정보를 바탕으로 한 국민청원이 논란이 되면서 벌써 도내 다른 기업의 투자 활동까지 위축되고 있다    잘못된 정보를 근거로 한 무분별한 주장에 한 중 양국 간 소통과 우호의 노력이 훼손되지 않기를 바란다     고 말했다   박수혁 기자 psh   hani   co   kr    사진 청와대 누리집 갈무리 더불어 행복한 세상을 만드는 언론    한겨레 구독하세요    esc 기사 보기       재 보궐선거 이후 기사 보기    한겨레신문     무단전재 및 재배포 금지   /\t 원래 라벨 :  0 /\t예측한 라벨 :  0\n",
      "기사내용 :  방송인 김어준씨를 놓고 청와대 국민청원 게시판에는      퇴출           수호      맞대결이 펼쳐지고 있다    퇴출 청원은 지난  일    반대 청원은   일 등장했 다      뉴스    서울   뉴스     박태훈 선임기자     방송인 김어준씨를 교통방송에서 퇴출시켜 달라는 청와대 국민청원에 참여한 이가   만명을 넘어선 가운데 이에 반대하는 국민청원도 등장했지만 동의 속도가 상대적으로 늦다   김어준씨가 진행하는 TBS교통방송      김어준의 뉴스공장     은 시사 관련 라디오 프로그램 중 청취율  위를 달리고 있지만 보수진영이 제기한 정치적 편향성 논란에 시달려 왔다    특히      재보궐 선거 직전 국민의힘측은      교통방송이 아니라 생태탕 방송     이라며 날선 반응을 쏟아냈다   보궐선거에서 오세훈 후보가 압승을 거둔 것을 계기로 지난  일 청와대 국민청원 게시판에      김어준 편파 정치방송인 교통방송에서 퇴출해주세요     라는 글이 올라와   일 오후  시  분 현재   만    명이 동의    청와대 답변기준     일 동안   만명 이상 추천   을 넘어섰다   그러자 지난   일엔      국민의 알권리를 위해 김어준에 대한 탄압과 퇴출을 반대합니다     라는 맞불 성격의 청원도 등장    이날 오후  시  분 현재     명이 참여했다   이 청원자는      기성언론들이 전하지 않거나 왜곡뉴스를 내세울때 국민의 알권리 위해 팩트체크를 해주던 언론인들은 우리나라에서는 정말 소수다     며      그중 한 사람이 김어준이며 우리나라 뉴스중 청취율  위를 하는데는 다 이유가 있는 것     이라고 지적했다   이에 이 청원인은      김어준 등 국민의 알권리를 위해 노력하는 언론인들은 국민입장에서 보면 국가가 육성해야 할 인재들이다     며 퇴출이 아니라 지켜 줄 것을 요청했다   그동안 진보와 보수진영은 몇 몇 인물을 놓고 청와대 국민청원 게시판에서 세 대결을 펼쳤다   조국 전 법무부 장관    추미애 전 장관    윤석열 전 검찰총장    나경원 전 미래통합당 원내대표를 놓고 국민게시판에서 보혁대결이 펼쳐 졌다    대부분 답변기준을 넘어섰으며 청와대는      법질서가 누구에게나 평등하고 공정하게 적용되도록 하겠다              국회가 다뤄야 할 문제      등 원론적인 선에서 답을 내 놓았다   buckbak   news    kr  네이버 메인에서    뉴스     구독하기      뉴스    BBC 한글 뉴스    터닝포인트        뉴스 코리아   news    kr       무단 전재 및 재배포 금지 /\t 원래 라벨 :  0 /\t예측한 라벨 :  0\n",
      "기사내용 :    이데일리 김민정 기자        년 강원 춘천과 홍천에      한중문화타운        당시 명칭 중국복합문화타운   이 들어서는 것을 두고 반대 여론이 거세지면서 최문순 강원도지사의 탄핵을 촉구하는 국민청원까지 올라왔다   지난   일 청와대 국민청원 게시판에는      강원도지사의 탄핵을 촉구합니다     라는 제목의 글이 올라왔다   최문순 강원도지사    사진   연합뉴스   먼저 청원인은      탄핵 사유는 그의 무능함과 독재성 때문     이라며      강원도지사는 국민들이 분노를 만든 장본인     이라고 말문을 열었다   이어 그는      국민들은 우리땅에서 중국의 문화를 알리는 것에 결사반대한다     며      도지사는 국민들을 위해 솔선수범해 자국의 성장을 주도해야 하는 존재인데 최 지사는 제 역할을 다하지도 못하면서      중국몽     만 꾸고 있는 것 아니냐     고 지적했다   청원인은 또         최 지사는    과거 만취 상태로 도의회에 참석해 답변 도중 쓰러지는 부도덕한 행위도 보였다     며      도민들의 강력 반대에도 불구하고 레고랜드를 강행했는데 이제는 중국문화타운까지 강제 건설하려 한다     고 목소리를 높였다   그러면서 청원인은 해당 사업이 무려  조에 달하는      국민들의 세금     으로 추진된다고 주장했다       사진   청와대 국민청원 게시판 캡쳐   청원인은      강원도와 코오롱은 국민의 의사를 절대적으로 반영해야 한다     며      국민이 반대하는 이상 그 누구도 이를 강행할 수 없지만    도지사는 오로지 더 큰 이익을 위해 국민들의 목소리를 외면하고 있다     고 전했다   끝으로 청원인은      대한민국의 민주성에 어긋나는 행위로 국민을 무시하는 도지사를 탄핵시켜달라     고 강조했다    강원도는 지난     년 춘천과 홍천에 있는 라비에벨관광단지에 중국복합문화타운을 조성하는 업무협약을 중국 인민일보 및 인민망 등과 체결했다    이는 인천 차이나타운의   배 규모에 달하며    국내 관광산업을 활성화 취지로 추진됐다   이후 논란이 일자 강원도는 오해라는 입장을 밝히면서 한중문화타운은 중국인 집단거주시설이 아니며    한중 문화를 주제로 한 관광시설 조성이 핵심이라고 강조하고 있다       사진   청와대 국민청원 게시판   이와 관련해 지난달   일에는      강원도 차이나타운 건설을 철회해 달라     는 청원이 올라오기도 했다    이 청원은 현재   만 명이 넘는 국민이 동의했다   논란이 계속되자 지난   일 최 지사는 CBS 라디오      김현정의 뉴스쇼     와의 인터뷰에서      강원도가 주체가 아니다    도 사업이 아니라        민간 기업이 하는 사업이다     면서      차이나타운은 문화관광 콘텐츠 시설이라고 말할 수 있다     고 해명했다   최 지사는      차이나타운이란 말엔 여러 뜻이 있다    우리가 가진 그런 뜻   중국인 집단 거주 단지   은 아니고 골프장     이라며      골프장을 짓고 땅이 좀 많이 남아 있어서 콘도 같은데 가면 여러 놀이 공연시설이 있지 않느냐    그런 것     이라고 설명했다   이어 그는      현장에 가보면 한옥단지로 돼 있다     며      우리나라 관광객 중 가장 많은 게 중국 관광객이다    그분들 모셔서 전통문화를 자랑하고 문화를 교류하자    이런 취지다     라고 강조했다   최 지사는 중국 인민일보 자회사인 인민망과 협약을 맺은 이유에 대해서도      중국에 홍보를 해야하고 가능하면 중국 문화콘텐츠를 중국에서도 동참해주면 좋겠어서 협약을 하게 됐다     고 말했다   또한 도민들의 반대 여론을 묻는 질문에 최 지사는      도민들의 반대가 전혀 없다     며      극단적으로 몇 분 있으실지 몰라도 우리 도에서는 그런 반대가 전혀 없고 도에서는 이게 이슈가 된 적이 없다     고 강조했다   김민정    a        edaily   co   kr          시간 빠른    미리보는 뉴스    eNews     네이버에서      이데일리 뉴스     를 만나보세요  빡침해소    청춘뉘우스      스냅타임       종합 경제정보 미디어 이데일리       무단전재     재배포 금지  /\t 원래 라벨 :  0 /\t예측한 라벨 :  0\n",
      "기사내용 :    스포츠경향    이미지 원본보기 국민청원 홈페이지방송인 함소원에 대한 마녀사냥을 멈춰 달라는 국민청원이 등장해 화제다    지난   알 청와대 국민청원 홈페이지 게시판에는      방송인 함소원에 대한 심각한 악플과 마녀사냥을 그만두게 해주세요     라는 제목의 청원 글이 게재됐다    해당 글의 작성자는      함소원이 학교폭력을 했나    술 마시고 음주운전을 했나    마약을 한 것도 아닌데 대체 왜이렇게 몰아가는 지 이해가 되지 않는다    연예인도 사람이다    제발 마녀사냥을 멈춰달라     고 호소했다    이에 함소원은   일 사회관계망서비스   SNS   를 통해      괜찮다    항상 고맙다     며 청원인 및 지지자들에 감사를 표했다    앞서 함소원은 TV조선 예능 프로그램      세상 어디에도 없는 아내의 맛        이하      아내의 맛        에서 중국 하얼빈 시댁 별장    광저우 신혼집을 단기 렌트해 진화 가족의 소유인 것처럼 방송을 조작했다는 의심을 받았다    이후 그는 지난  일 논란에 대해 인정하며 사과했다         아내의 맛      또한 과장된 연출을 인정하며 지난   일부로 시즌을 종영했다   황채현 온라인기자 hch       kyunghyang   com     스포츠경향 인기 무료만화 보기        지금 옆사람이 보고있는 뉴스    스포츠경향   sports   khan   co   kr       무단전재 및 재배포 금지 /\t 원래 라벨 :  0 /\t예측한 라벨 :  0\n",
      "기사내용 :    이데일리 김민정 기자    방송인 김어준 씨를 TBS   교통방송   에서 퇴출해달라는 국민청원이   만 명 이상의 동의를 받았다     일 오후  시 기준      김어준 편파 정치방송인 교통방송에서 퇴출해주세요     라는 제목의 국민청원은   만 명 이상이 동의했다   청원인은      서울시 교통방송은 말 그대로 서울시의 교통흐름을 실시간 파악해서 혼란을 막고자 존재하는 것     이라며      김어준은 대놓고 특정 정당만 지지하며 그 반대 정당이나 정당인은 대놓고 깎아내리며 선거나 정치에 깊숙히 관여하고 있다     고 지적했다       사진   청와대 국민청원 게시판   이어      교체 여론이 들끓자 차별이라며 맞대응하고 있다     며      교통방송이 특정정당 지지하는 정치방송이 된 지 오래인 건만 변질된 교통방송을 바로잡자는것이 차별이냐     고 비판했다    청와대는   일 동안   만 명 이상의 동의를 얻은 청원에 대해 정부 및 청와대 관계자가   일 내 공식 답변을 내놓도록 하고 있다    뿐만 아니라 현재 김씨의 TBS 출연료를 두고도 논란이 일고 있다    국민의힘에서는 김씨의  회 출연료가    만 원    이에 박원순 전 시장 임기 동안만 출연료로   억 원에 가까운 금액을 수령했을 것이라고 추정했다   여기에 TBS가 김씨와 계약서를 작성하지 않고 구두 계약만으로 출연료를 지급했고    김씨 개인이 아닌 김씨가 만든  인 법인에 출연료를 지급해 세금을 탈루했다는 논란도 불거졌다    이후 TBS 측은 직접 보도자료를 내고 문제가 없다며 반박했다    뿐만 아니라 김씨가 TBS 출연료를 입금받을 목적으로 회사를 설립해 개인 종합소득세가 아닌 법인세율을 적용해 세금을 줄이고 있다는 의혹도 부인했다   이와 관련해 김씨도 방송을 통해      중요한 건 불법 탈루나 최소한 편법적인 절세 시도가 있었냐는 것인데    저는 출연료를 한 푼도 빠짐없이 종합소득세로 신고했으며 탈루 혹은 절세 시도가  원도 없다     고 주장했다    그는 매우 불쾌한 듯      공직자도 아닌데 개인 계좌를 들추나    오버들 하지 말라     며      그 에너지로      내곡동     이나      엘시티      취재를 하시길 부탁드린다     고도 했다   김민정    a        edaily   co   kr          시간 빠른    미리보는 뉴스    eNews     네이버에서      이데일리 뉴스     를 만나보세요  빡침해소    청춘뉘우스      스냅타임       종합 경제정보 미디어 이데일리       무단전재     재배포 금지  /\t 원래 라벨 :  0 /\t예측한 라벨 :  0\n",
      "기사내용 :  최문순 강원도지사를 탄핵해달라는 청와대 국민청원에 나흘 만에  만명이 넘게 참여했다     강원도는 연일 해명에 진땀을 빼고 있다     일 오후  시 현재 청와대 국민청원 게시판에서      강원도지사의 탄핵을 촉구합니다     라는 글은  만    명의 동의를 받았다      일 이 청원이 시작된 지 불과 나흘 만이다    청원인은      중국인들의 거주여부와 관계없이 국민들은 우리땅에서 중국의 문화를 알리는 것에 결사반대한다     라며      한없이 노골적인 동북공정이 국민들의 민심을 반중정서로 통일시켰고 반감은 보다 거세지고 있다     고 주장했다    그러면서      과거 도지사는 본인을 공동 투자자로 칭하며 이 사업을      마음속의 일대일로     라고 표현했다     라면서      일대일로 즉 중국이 꿈꾸는 중화사상을 지지하며 위대한 중국 문화를 알리겠다고 발언한 것     이라고 적었다    또      도지사는 주민들 더 나아가 국민들을 위해 솔선수범하며 자국의 성장을 주도해야 하는 존재인데 최문순 도지사는 제 역할을 다하지도 못하면서 중국몽만을 꾸고 있는 것 아닌가     라고 목소리를 높였다     논란은 강원도 홍천군 일대에 추진중인 한중문화타운 사업에서 비롯됐다    반중 감정이 거세지면서 해당 사업을  철회해달라는 국민청원은 이날 참여인원이   만명을 넘겼다    홍천군 북방면 전치곡리 일원    만  규모로 추진하려던 이 사업은 지난     년   월 강원도 등과 업무협약을 했으며    지난해  월 자본금   억원 규모로 특수목적법인   SPC   이 설립된 상태다    최문순 지사는 지난   일 CBS라디오      김현정의 뉴스쇼     에 출연해      도 사업이 아니고        우리 민간 기업이 하는    중국인 관광객들이 와서 즐길 수 있는 문화관광콘텐츠사업     이라면서      우리 도에서는 반대가 전혀 없다     고 말했다    이날 강원도에서도      한중복합문화관광타운 팩트체크 해봅니다     라는 제목의 해명 자료를 냈다     강원도가 땅을 팔아 중국에 넘긴다    혈세  조원을 들여 무리한 건설을 추진한다 등의 의혹에 대해      해당 부지는 민간사업자 소유의 땅이고    민간사업자가 투자를 유치해오는        민자방식     이라면서      사업 중단이나 추진에 대해 도가 강제할 사안이 아니다     라고 밝혔다    이어      지난     년   월 당시 최문순 지사의      강원도 안에 작은 중국              문화일대일로      발언은 당시 정서로는 문제가 없었던 외교적 수사일 뿐    중화사상을 지지한다거나 중국 일대일로 사업의 일환이라는 온라인상의 주장은 사실과 다르다     라고 설명했다      고득관 매경닷컴 기자 kdk   mk   co   kr          경제  위      매일경제    네이버에서 구독하세요  이 제품은      이렇게 만들죠      영상으로 만나요  부동산의 모든것      매부리TV     가 펼칩니다     매일경제     mk   co   kr    무단전재 및 재배포 금지   /\t 원래 라벨 :  0 /\t예측한 라벨 :  0\n",
      "기사내용 :    경향신문    서울시교통방송 TBS에서      뉴스공장      진행자 김어준을 퇴출시켜달라는 청와대 국민청원이   만명 이상의 동의를 얻었다   지난  일 국민청원 게시판에 게시된      김어준 편파 정치방송인 교통방송에서 퇴출해주세요     라는 제목의 청원은   일   시 기준   만    명의 동의를 얻어 답변 기준인   만명을 넘어섰다   해당 청원에서 청원인은      서울시의 교통흐름을 실시간 파악해서 혼란을 막고자 교통방송이 존재하는 것     이라며      그러나 김어준은 대놓고 특정 정당만 지지하며 그 반대 정당이나 정당인은 대놓고 깍아 내리며 선거나 정치에 깊숙히 관여하고 있다     고 했다   또      이런 국민들의 분노로 김  을 교체하고자 여론이 들끓자 김  은 차별이라며 맞대응을 하고 있다     면서      교통방송이 특정정당 지지하는 정치방송이 된지 오래인건만 변질된 교통방송을 바로잡자는것이 차별인겁니까        라고 반문했다    그러면서      서울시 정치방송인 김  은 교통방송 자리에서 내려오세요              라고 했다   김씨는     년  월부터 TBS에서      김어준의 뉴스공장     을 진행해오고 있다    김씨는 해당 방송에서 위안부 피해자 이용수 할머니의 정의연 비판에 관해      기자회견에 배후가 있다         조국 전 장관의 아내 정경심 동양대 교수 유죄 판결에선      사법이 법복 입고 판결로 정치를 했다         윤석열 전 검찰총장 징계를 무력화한 행정법원의 집행정지 인용 결정에 대해선      행정법원의 일개 판사가 검찰총장 임기를 보장해줬다     는 등의 주장을 한 바 있다    해당 프로그램은     년 이후  건에 달하는 방송통신심의위원회의 법정제재를 받아 단일 프로그램으로는 최다 건수를 기록했다    사유는 모두      객관성 위반     이었다   그러나 당장 TBS가      뉴스공장     을 폐지하거나 김씨를 퇴출하도록 강제하기는 어려운 상황이다    서울시 산하기관이던 TBS는 지난해  월 별도의 재단인      서울시 미디어재단 TBS     로 독립했다    서울시가 직접 인사권이나 편성권을 행사할 수가 없다    재단 수입의      가 서울시의 출연금으로 충당되기는 하지만 출연금 비율 조정이나 지원 중단 결정은 서울시 의회의 의결을 거쳐야 한다    서울시의회 의석은 더불어민주당이 대부분을 차지하고 있다   박용필 기자 phil   kyunghyang   com     인터랙티브    나의 탄소발자국은 얼마     경향신문 바로가기  경향신문 구독신청하기 경향신문   www   khan   co   kr       무단전재 및 재배포 금지 /\t 원래 라벨 :  0 /\t예측한 라벨 :  0\n",
      "기사내용 :  청와대 국민청원 홈페이지 캡처   서울   연합뉴스    임형섭 기자     방송인 김어준 씨를 TBS   교통방송   에서 퇴출해달라는 내용의 청와대 국민청원에 참여한 인원이   일 청와대의 공식 답변 요건인   만명을 넘겼다       김어준 씨는 TBS 라디오에서 시사프로그램      뉴스공장     을 진행하고 있다       청원인은      교통방송은 청취자들이 서울시의 차량 흐름을 실시간으로 파악하도록 돕기 위해 존재하는 것     이라며      그러나 김어준은 대놓고 특정 정당만 지지하고 반대 정당을 깎아내리며 선거와 정치에 깊숙이 관여하고 있다     고 지적했다        이어      그는 교체 여론이 들끓자 오히려 자신이 차별을 당했다고 맞대응하고 있지만    변질된 교통방송을 바로잡자는 것이 차별인가     라며      이제 자리에서 내려오라     고 촉구했다   hysup   yna   co   kr 네이버에서도 뉴스는 연합뉴스   구독 클릭       팩트체크   쿠팡이츠 배민서 주문한 개고기 합법    제보하기  /\t 원래 라벨 :  0 /\t예측한 라벨 :  0\n",
      "기사내용 :  차이나타운 반대 청와대 청원   만 돌파최문순 도지사 탄핵 촉구 청원도 나와최문순 강원도지사   강원도가 오는     년까지 강원 춘천과 홍천에      한중문화타운     을 건립하는 계획을 추진하고 있어 논란이 일고 있다    한중문화타운은 인천 차이나타운의   배 규모로 내년 한중수교   주년을 기념해 추진되고 있다    소요 예산만 약  조원에 달한다    이에 대한 반대 여론이 거센 가운데   일 청와대 국민청원 게시판에는 최문순 강원도지사의 탄핵을 촉구하는 청원까지 올라왔다        강원도지사의 탄핵을 촉구합니다     라는 제목의 청원을 게재한 청원인은      탄핵 사유는 최문순 강원도지사의 무능함과 독재성     이라며      그는 국민들을 분노하게 만든 장본인     이라고 주장했다   청원인은      국민들은 우리 땅에서 중국 문화를 알리는 것에 결사반대한다    노골적인 동북공정이 민심을 반중 정서로 통일시켰다     며      도지사는 본인을      공동 투자자     로 칭하고 이 사업을 일대일로          라고 표현했다    중화사상을 지지하며 중국 문화를 알리겠다고 한 것     이라고 주장했다   청원인은      자국 성장을 주도해야 하는 도지사가 중국몽만을 꾸고 있다     며      그는 과거 만취상태로 도의회에 참석해 답변 도중 쓰러지는 등 부도덕적 행위도 보였다    이젠 강력 반대에도 불구하고 레고랜드를 강행하고 중국문화타운까지 건설하려고 한다     고 비판했다   그러면서      이 사업은  조원에 달하는 국민들 세금으로 추진된다     며      따라서 국민 의사를 절대적으로 반영해야 한다    국민이 반대하는 이상 누구도 이를 강행할 수 없다     고 했다   그는      민주성에 어긋나는 행위로 국민을 무시하는 도지사를 탄핵시켜달라     며      국민과 도민을 존중하지 않는 사람은 필요하지 않다     고 호소했다    앞서 지난달   일자로 청와대 국민청원 게시판에 게재된      강원도 차이나타운 건설을 철회해주세요     라는 제목의 청원글은 게재  주 만인   일 동의자가   만명을 넘어섰다    청원인은      도지사에게 국민 반대에도 건설을 추진하는 이유가 뭔지 묻고 싶다     며      김치    한복    갓 등 우리 고유 문화를 약탈하려고 하는 중국에 맞서야 한다     고 주장했다        한중문화타운     에 대한 반대 목소리가 거센 가운데 강원도는 중국문화 체험공간을 마련해 국내 관광 사업을 활성화시키고 일자리를 창출하려는 목적이라고 사업 취지를 밝혔다   강원도 측은      최근 반중정서와 맞물려 비롯된 춘천홍천 일원에 추진 중인 한중문화타운 조성사업에 대한 오해가 더 이상 확산되지 않기를 바란다     며      본 사업은 강원도가 예산을 투입하여 추진하는 사업이 아니라 민간기업에서 추진하는 것으로 강원도는 순조로운 사업 추진을 위해 인허가 등의 행정지원만을 하고 있다     고 설명했다    이어      한중문화타운은 중국인 집단거주시설인 차이나타운이 아니고    한국과 중국 문화를 테마로 IT 신기술이 접목된 다양한 한류 볼거리를 라비에벨 관광단지 내 일부      만    에 조성하는 관광단지 사업     이라며      최근 반중정서와 맞물려 잘못된 정보로 인해 기업의 투자유치 및 대규모 관광시설 조성이 위축되지는 않을까 안타깝다     고 밝혔다    김명일 한경닷컴 기자 mi      hankyung   com  경제지 네이버 구독 첫    만    한국경제 받아보세요  한국경제앱 다운받고      암호화폐      받아가세요  한국경제신문과 WSJ    모바일한경으로 보세요   한국경제     hankyung   com    무단전재 및 재배포 금지 /\t 원래 라벨 :  0 /\t예측한 라벨 :  0\n",
      "기사내용 :  이미지 원본보기    OSEN   강서정 기자    방송인 함소원이 직접 만난 팬에게 위로를 받았다고 고마운 마음을 전했다    함소원은   일 자신의 SNS에      위로    우연히 방금 마주친 팬님 한참을 위로해주시고 뒤돌아 서시는데 어찌나 맘에 와 닿는지 감사합니다     라는 글을 게재했다    이와 함께 한 팬이      소원 님은 자꾸 신경이 쓰이고 마음이 늘 아프다    주변에 구설수도 그렇고 그러니 혼자라고 생각마세요    이렇게 믿고 지지해주는 우리 팬들이 있으니 꼭 힘내세요     이라고 보낸 DM을 공개하기도 했다    앞서 함소원은   일 자신의 SNS에      여러분      이렇게까지      괜찮습니다 항상 감사하고 항상 고맙습니다    여러분들의 마음에 감사합니다     라며 자신을 향한 국민청원글을 캡처해 올렸다    청원글 제목은      방송인          에 대한 심각한 악플과 마녀사냥을 그만두게 해주세요     이다   함소원은 TV CHOSUN      아내의 맛      조작 방송으로 논란에 휩싸였고 이를 인정하며 프로그램에서 하차했다    또한 제작진도 조작을 인정하며 시즌을 종료했다    한편 함소원은     년 중국인   살 연하 남편 진화와 결혼해 슬하에 딸 혜정 양을 두고 있다         kangsj   osen   co   kr   사진    함소원 SNS /\t 원래 라벨 :  0 /\t예측한 라벨 :  0\n",
      "기사내용 :  인도 여군 신병들이 지난달   일   현지 시각    방갈로르의 헌병단 훈련장에서 교육을 이수하고 있다    모두   명의 여성이 작년  월 입소해   주에 걸친 훈련 과정을 거친다    이들은 이달 중 훈련을 마치고 인도의 첫 여성 헌병대원으로 복무할 예정이다    인도 정부는 헌병단에 모두     명의 여군 인력을 받아들일 예정이다         AFP 연합뉴스               여성도 남성과 같이 징병하라     는 청와대 국민청원이 지난   일 올라와 하루 만에 사전 동의자 수  만    명을 넘어섰다   사전 동의    명 기준만 충족하면 청와대가 공개 여부를 검토하는데    이 청원은 이례적으로 하루 만에 사전 동의  만명을 넘어선 것이다    청와대의 공개 결정 전이기 때문에 현재 국민청원 게시판에서 검색은 불가능하며    해당 글을 바로 볼 수 있는 연결주소   URL   로 접속해야만 볼 수 있다   청원인은 청와대 국민청원 글에서      여성도 징병대상에 포함시켜달라     며      나날이 줄어드는 출산율과 함께 우리 군은 병력 보충에 큰 차질을 겪고 있다    이에 따라 남성의 징집률 또한  할에 육박하고 있다     고 했다    이어      과거에 비해서 높아진 징집률만큼이나 군 복무에 적절치 못한 인원들마저 억지로 징병대상이 돼버리기 때문에 국군의 전체적인 질적 악화가 우려되는 상황     이라고 했다   청원인은      그 대책으로 여성 또한 징집 대상에 포함해 더욱 효율적인 병 구성을 해야 한다     면서      이미 장교나 부사관으로 여군을 모집하는 시점에서 여성의 신체가 군 복무에 적합하지 않다는 이유는 핑계로밖에 들리지 않는다     고 했다   또      현재는 예전 군대와 달리 현대적이고 선진적인 병영 문화가 자리 잡은 것으로 안다     며      여성들도 인지하고 있으며    많은 커뮤니티를 지켜본 결과 과반수의 여성도 여성 징병을 긍정적으로 바라보고 있음을 확인했다     고 했다   한 여군이 미국 조지아주 육군 기지 보병 훈련 센터 포트베닝에서 훈련을 받고 있다         AP 뉴시스          청원인은      성 평등을 추구하고 여성의 능력이 결코 남성에 비해 떨어지지 않음을 모두가 인지하고 있는 현대사회에서 병역 의무를 남성에게만 지게 하는 것은 매우 후진적이고 여성비하적인 발상     이라고도 했다   그러면서      여자는 보호해야만 하는 존재가 아니라 나라를 지킬 수 있는 듬직한 전우가 될 수 있다     며      따라서 정부는 여성 징병제 도입을 검토해달라     고 했다   청와대는 사전 동의    명 이상 청원 글에 대해 내부 검토 절차를 거쳐 게시판에      진행 중 청원     으로 공개한다    이 청원도 조만간 공개할 것으로 보인다   한편 전용기 더불어민주당 의원은 지난   일 공기업 공공기관 승진평가 시 군 경력 반영을 의무화하는 법안   제대군인지원에 관한 법률 일부개정법률안   을 발의하며      군 가산점 재도입 논의도 진행하겠다     고 했다      안준용 기자 jahny   chosun   com        조선일보가 뽑은 뉴스    확인해보세요    최고 기자들의 뉴스레터 받아보세요      등 신문 조선일보    앱으로 편하게 보세요 /\t 원래 라벨 :  0 /\t예측한 라벨 :  0\n",
      "기사내용 :     출연료 서울시민 세금에서 나오니 알 권리 있어     윤한홍    TBS      관례 따른 구두계약      주장에 반박도     KBS EBS    내부 계약서    지침에 따라 계약 체결        서울   뉴시스        김어준의 뉴스공장        사진   누리집 캡처                  photo   newsis   com    재판매 및 DB 금지   서울   뉴시스    문광호 기자     국민의힘은   일 TBS 교통방송 진행자 김어준씨의 출연료에 대해      고용한 서울시민에게 본인의 출연료를 밝히는 것이 당연한 도리     라며      떳떳하다면 출연료를 밝혀라     라고 촉구했다   배준영 국민의힘 대변인은 이날 오전 논평을 통해      김어준씨는      뉴스공장      방송을 총     회 진행했다     회 출연료가    만원 상당이라면 박원순 전 시장 임기 동안만 출연료로   억원에 가까운 금액을 수령했을 것이라는 추정이 나오고 있다     며 이같이 전했다   배 대변인은      김어준씨는 연예인급 사회자     라며      김어준씨의 출연료는 서울시민이 주는 셈이다    그리고 그 출연료는 서울시민의 세금에서 나온다    따라서 서울시민은 내 혈세가 그에게 얼마나 주어지는지 알 권리가 있다     고 강조했다   이어      이와 관련해 TBS 측은      총 지급액    평균 지급액 등 출연료 자료는 민감한 개인소득 정보에 해당돼 개인정보 보호법 제  조에 따라    정보 주체의 동의 없이 공개할 수 없다     고 한다     며      그렇다면 김어준씨는 TBS에 정보 공개를 동의해야 한다    아니라면    본인이 직접 밝혀야 한다     고 주장했다   그러면서      김어준을 TBS에서 하차시키라는 청와대 국민청원이   만 명을 넘어 섰다고 한다     며      서울시가 그 혈세를 정권 홍보와 옹위를 위해 흥청망청 써오지는 않았는지 서울시민은 궁금할 따름     이라고 전했다   이와 관련 TBS가      TBS FM 외부 진행자는 관례에 따른 구두 계약으로 별도의 계약서는 없다     고 밝힌 것에 대해서도 마찬가지로 정부의 지원을 받는 EBS    KBS 등은 계약서를 작성해왔다는 반박도 제기됐다   윤한홍 국민의힘 의원이 EBS와 KBS로부터 제출받은      라디오 외부진행자   MC    직원 외    관련 자료요구 답변서     에 따르면 EBS는      라디오 외부진행자 출연자는 문화체육관광부가 발표한 계약서 양식을 따라 제정된 공사 내부 계약서 양식에 따라 계약을 체결한다     고 밝혔고 KBS도      공사는 고용보험법    예술인복지법 및 문화예술용역운용지침서 가이드라인에 따라 라디오 외부진행자와의 계약을 진행하고 있다     고 전했다   한편 김승수 국민의힘 의원도 이날 보도자료를 통해      TBS 교통방송의 진행자 김어준씨의 회당 출연료는    만원에 달하는 것으로 업계 출연료 평균   만     만원에 비해      배 이상의 금액     이라며      TBS는 라디오 진행자 출연료 상한액을    만원으로 정하고 있는 만큼 김씨의 출연료 논란은 계속될 전망     이라고 의혹을 제기했다    공감언론 뉴시스 moonlit   newsis   com  네이버에서 뉴시스 구독하기  K     Artprice    유명 미술작품 가격 공개  뉴시스 빅데이터 MSI 주가시세표 바로가기  /\t 원래 라벨 :  0 /\t예측한 라벨 :  0\n",
      "기사내용 :  경북 구미시의 한 빌라에서 시신으로 발견된 만  세 보람양 사건과 관련해    당초 보람양의 어머니로 알려졌다가 유전자 검사 결과 언니로 밝혀진 김모씨        의 전 남편 A씨가 청와대 국민청원 게시판에 김씨의 엄벌을 호소하는 글을 올렸다   구미  세 여아 사망 사건과 관련해 숨진 여아의 친모가 아닌 언니로 드러난 김모씨의 첫 재판이 지난  일 대구지방법원 김천지원에서 열렸다    김씨가 법정으로 가고 있는 모습         연합뉴스           A씨는   일 청와대 국민청원 게시판에      쓰레기집에 제 딸을 버리고 도망간 구미 OOO의 엄벌을 청합니다     라는 제목의 글을 올리며      어제 나온 SBS      그것이 알고싶다      방송을 보고 분노하는 마음을 억누를 길이 없어 고민 끝에 글을 올린다     고 했다   A씨는      김씨의 가방에서 모텔 영수증이 나와도 아이를 생각하면서 참았고    신발장에서 임신 테스트기   개를 발견했을 때도 용서했다     며      사랑하는 아이가 저처럼 아빠나 엄마 없이 자라게 하고 싶지 않았기 때문     이라고 했다   A씨는      아이를 옆에 재워둔 채 밤새 집을 나간 김씨를 뜬 눈으로 기다리면서도 이 시간이 언젠가 지나갈 거라 믿었다     며      그런데 다음 날 들어온 김씨가      남자가 있다    아이가 있다는 사실도 안다     고 해 그 남자가 아이를 책임져 주겠다고 했냐 물었더니      그건 모르겠다     고 하더라    김씨에게      엄마 될 자격 없으니까 나가라     고 말한 뒤 아이와 마지막 인사를 하게 하려 했는데 그 순간이 지금도 너무 원망스럽게 기억난다     고 했다   A씨는 글에서 아이를 온전히 책임질 수 있는 아빠가 돼야겠다고 다짐했고    자신이 떳떳한 직장을 얻어 돈을 벌어 올 때까지 김씨에게 잠시만 아이를 키워달라고 부탁했다고 한다    자택 바로 아래층에 김씨의 부모도 거주하고 있어 아이를 돌봐줄 사람이 많을 것이라 판단한 것이다   그는      조금씩 회복하며 일자리를 알아보던 중 김씨가 만나는 남자가 대기업을 다니며 돈도 많다는 이야기를 들었다     며      그 남자가 아이를 예뻐한다는 소식도 들었다    아무것도 모르는 아이가 그 남자를 아빠로 알고 살아간다면 저는 너무 슬프겠지만    저처럼 무능력한 아빠보단 그 남자가 아이를 더 잘 먹이고 좋은 옷을 사 입힐 수 있겠지 싶었다     고 말했다   그러나 A씨는      김씨는 제가 아이 한 번 보러 가겠다고 해도 답이 없었다    이듬해 겨우 한두 번 보러 갈 수 있었다     면서      장인 장모가 돌봐주고 새 남자가 아껴줘 저 없이도 잘 지낸다는데    더 이상 제 자리는 없는 것 같았다     고 했다   A씨는     비가 내리고 찌는 듯 더운 날들이 지나갔던  월    먹을 것도 없고 옷에 똥오줌 묻혀가며 쓰레기 더미에 기대 지쳐갔을 아이를 생각하면 지금도 미칠 것만 같다     며      김씨는 희대의 악마이고 살인마다    어떻게 새 남자와 신혼처럼 밤을 보내기 위해 그 꽃잎보다 고운 아이를 수백일 동안 혼자 내버려 둘 수가 있나    어떻게 인간이 그럴 수가 있나     라고 말했다   그는      힘을 모아달라    A씨가 살인에 응당한 처벌을 받을 수 있도록 재판부를 압박해 달라     며      더불어      그것이 알고싶다     에 나온 귀 접힌 아이가 어딘가 살아있다면    찾을 수 있도록 힘을 모아달라    부탁드린다     고 했다   살인 및 아동복지법 위반 등의 혐의로 기소된 김씨는 지난  일 대구지법 김천지원에서 열린 첫 재판에서 음식물이 제공되지 않으면 아이가 사망할 것을 예견하고도 지난해  월 빌라에 여아를 홀로 남겨둬 기아 등으로 숨지게 했다는 검찰 공소 사실을 인정했다    당초 김씨는 숨진 보람양의 친모로 알려졌지만    국립과학수사연구원과 대검찰청 유전자 검사 결과 김씨의 엄마인 석모씨        가 보람양의 친모인 것으로 확인되면서      아이 바꿔치기      논란이 일고 있다      김승현 기자 mykim      chosun   com        조선일보가 뽑은 뉴스    확인해보세요    최고 기자들의 뉴스레터 받아보세요      등 신문 조선일보    앱으로 편하게 보세요 /\t 원래 라벨 :  0 /\t예측한 라벨 :  0\n",
      "기사내용 :  이틀 만인   일 시민청원에 약  만명 동의     성상품화는 물론 아동 청소년 시설 밀집          아이들에게 어떻게 설명해야 하나      난감용인시 시민청원      두드림      게시판에 올라온      리얼돌 체험방 인허가 취소      청원         두드림      홈페이지 캡처     리얼돌   Real doll    체험방     을 두고 경기 용인지역 온라인 커뮤니티와 사회관계망서비스   SNS   를 중심으로 인허가 취소를 요구하는 목소리가 거세다    리얼돌은 사람의 신체를 본뜬 성인용 인형으로    체험방은 시간당 금액을 정해 리얼돌을 빌려주는 신종 유흥업소다   리얼돌 체험방을 반대하는 이들은      성상품화 문제는 물론이고    적어도 유아교육시설이나 초 중 고교 인근에서의 영업은 허용돼선 안 된다     며 반발하고 있다   용인시 시민청원 사이트      두드림     의      청소년 위해   유해   시설 리얼돌 체험관   체험방    인허가 취소를 요청합니다     라는 청원에는 글이 올라온 지 이틀 만인   일 오후  시  만명이 넘는 인원이 동의했다    지난 한 달간 청원 인원이 가장 많았던 게시글이 약    명의 동의를 얻은 데 비해 압도적으로 많은 숫자다    용인시는 청원 인원이    명을 넘으면 담당 과장이           명을 넘으면 실 국장이 서면으로 청원에 답변하고 있다     일 경기 용인지역의 한 온라인 커뮤니티에      리얼돌 체험방 인허가 취소 청원     을 부탁하는 글이 게재됐다    커뮤니티 게시글 캡처용인지역 온라인 커뮤니티와 SNS상에도 청원을 독려하는 글이 게시되고 있다    용인시민  만여 명이 가입한 한 온라인 커뮤니티에는   일      세상이 어떻게 돌아가는지 모르겠다     며      청원 동의 부탁드려요     라는 내용의 글이 올라왔다    이날까지 청원에 동참하겠다는 댓글은   개 이상 달렸다    해당 청원글은 또 다른 용인지역 커뮤니티에도 게시됐고    트위터에서도 이날까지      리얼돌체험관   체험방        이  만 개 이상 트윗   게시   되는 등 활발히 공유되고 있다        리얼돌 체험방 반대      청원글은   일 또 다른 용인지역 커뮤니티에도 공유됐다    커뮤니티 게시판 캡처     아동 청소년 이용시설 근처라도 제한해야     용인 시민청원      두드림      게시판에      리얼돌 체험방 금지      청원을 올린 작성자는      인근에 아동 청소년 시설이 많다     며 인허가 취소를 주장했다         두드림      홈페이지 캡처리얼돌 체험방을 반대하는 이들은 아동 여성의 성상품화 문제와 더불어 체험방이 들어서는 곳이 아동 청소년 인구 밀집 지역이라는 점을 지적한다   최초 청원 작성자는      시설로부터 반경    m 이내에 유아교육시설   곳    초등학교  곳    중학교  곳    고등학교  곳이 있다     며         청소년    위해   유해    시설인 리얼돌 체험방 인허가는 취소돼야 한다     고 주장했다   청원을 공유한 이들도      여성을 상품화하는 데 나라가 허가하는 건가                 아동 사이즈로도 리얼돌을 만든다고 한다    절대 못하게 막아야 한다      등 성상품화에 반대할 뿐만 아니라      같은 층에 작은 도서관도 있고 아이들과 화장실도 같이 쓸 텐데 무슨 생각으로 인허가를 내주는지 모르겠다     며 아동 청소년 유동 인구가 많은 지역이라는 점을 꼬집는다   사회관계망서비스   SNS   에      리얼돌 체험방      반대 청원과 함께 공유되고 있는 댓글    트위터 캡처한 트위터 사용자가      해당 리얼돌 체험방과 같은 건물에 어린이가 이용하는 작은 도서관이 있다     며 게시한 사진    트위터 캡처     리얼돌 체험방 제한 구역 넓혀야      주장도  월   일 오후 서울에 위치한 리얼돌 수입업체 물류창고에서 관계자가 상품을 정리하고 있다    뉴스 대법원이     년  월 리얼돌의 국내 수입을 허용하는 확정 판결을 내린 후 체인점 형식의 리얼돌 체험방이      합법     의 이름으로 우후죽순 생기고 있다   하지만 리얼돌 체험방은 세무서에 등록만 하면 설치되는      자유업종     이라 단속 사각지대에 있다는 비판이 꾸준히 제기됐다    리얼돌 체험방을 둘러싼 기타 논란리얼돌은 사람이 아니라서 성매매처벌법을 적용할 수 없고    대법원이      리얼돌은 음란물이 아닌 성기구     라고 판단하며 풍속영업규제법으로도 단속하기 어려운 측면이 있다는 한계도 지적된다   그러자 리얼돌 체험방을 규제할 수 없다면 아동 청소년 이용 시설 근처에서의 영업이라도 제한해야 한다는 주장이  월 청와대 국민청원 게시판에도 올랐다    현행 교육환경법 제 조   호는 학교로부터 반경    m 범위 내의 지역   교육환경보호구역   에 리얼돌을 비치한 시설을 설치할 수 없도록 규제한다    그러나 이 청원인은 실효성이 없다며 규제 지역을 확대할 것을 요청한 것이다   그는      수입    제작    사용에 대한 자유권은 개인의 문제지만    이 제품을 대여하고 활용하는 장소를 제공해주는 리얼돌 체험방 사업은 풍속적    교육적 문제가 된다     며      아이를 가진 학부모는 아이들에게 그게 무엇이라고 설명해야 할지 난감해한다     고 주장했다   그러면서 리얼돌 체험방을 규제가 가능한   종 위락   유흥   시설로 지정하고  주택 밀집 지역이나 학교 반경    내에서 영업을 금지하도록 해 달라고 청원했다    그는 또한      사법부는 리얼돌의 수입 자체를 금지할 법적 근거를 찾기 어렵다고 판결했지만    법원이 리얼돌을 활용한 영업까지 판단한 것은 아니다     라며      체험방 영업의 합법 여부에 대해서도 신중히 검토해 달라     고 말했다    윤주영 기자 roza   hankookilbo   com    엄마    학대받은 아이들 품은   년      모두 내 새끼         트랜스젠더    아들이 딸이 되기까지    험난한 여정 한국일보닷컴 바로가기 /\t 원래 라벨 :  0 /\t예측한 라벨 :  0\n",
      "기사내용 :  KBS 시청자권익센터에 제작진 입장 올려     가족의 다양한 시선 보여주는 게 방송 역할     방송인 후지타 사유리와 그가 정자 기증을 받아 낳은 아들 젠    사유리 SNS 캡처자발적 비혼모인 방송인 후지타 사유리        의 KBS  간판 가족 예능프로그램      슈퍼맨이 돌아왔다      출연을 반대하는 시청자 청원에 제작진이      최근 다양해지는 가족 형태의 하나로 사유리의 가족을 보여주려 한다     고 제작 배경을 밝혔다    정자 기증을 받아 출산한 사유리의 방송 출연을 둘러싼 일각의 차가운 시선에 대해      한쪽으로 치우치지 않고 다양한 시선을 보여주는 것이 방송의 역할이라 생각한다     며 제작의 명분도 강조했다    KBS 시청자권익센터는      자발적 비혼모 사유리씨의 출연에 반대합니다     란 청원에 대한 제작진 입장을   일 공개했다    입장문에서 프로그램 제작을 총괄하는 강봉규 책임프로듀서   CP   는      우리나라 한 부모 가구 비율은         로 급증하고 있으며    한 부모 가구에 대한 관심과 함께 기존 기혼 가구에만 지원되던 가족 정책도 다양한 방향으로 확대되고 있다     며      사유리 씨의 가정 역시 이처럼 다양하게 존재하는 가족의 형태 중 하나일 뿐이고    어떤 가족을 미화하는 게 아닌 가족의 성장을 담담하게 바라보고자 한다     고 설명했다         정자 기증을 받아 아이를 출산한 것까지는 개인적인 선택이라고 생각하지만    공영방송인 KBS가 사유리를      슈퍼맨이 돌아왔다     에 출연시키면 자발적 비혼모를 미화하게 된다     며 출연 반대를 요구한 시청자 청원에 대한 답변이다    KBS 시청자권익센터는 한 달 동안        명 이상이 동의한 청원은 프로그램 책임자의 답변을 받아 공개한다    사유리 출연 반대 청원엔        명이 동의해 답변 대상이었다    제작진은 사유리가 한부모 가정을 꾸리게 된 배경도 덧붙여 설명했다    사유리는      산부인과에서 난소 나이가   세라 자연 임신이 어렵고    지금 당장 시험관 시술을 하더라도 성공 확률이 높지 않다는 이야기를 듣고 세상이 무너지는 것 같았다     며      사랑하지 않는 사람을 급하게 찾아 결혼하는 게 어려웠다     고 비혼으로 임신을 결심한 계기를 밝혔다    강 CP는      사유리는 이제 막 아이를 키우는 부모의 길로 들어섰다    아들 젠에 대해 알아가며 본인도 함께 성장 중     이라며      시청자 여러분이 그녀의 선택을 지켜봐 주시면 감사하겠다     고 당부했다    지난해   월 아들을 출산한 사유리는 최근      슈퍼맨이 돌아왔다      촬영을 했다    남편이자 아이의 아빠는 없다    사유리의 육아 예능 출연 소식이 알려진 뒤 온라인과 오프라인에선 갑론을박이 벌어졌다    청와대 국민청원 등에      KBS가      비정상적      비혼모 출산을 부추긴다     는 글이 올라오자    한국한부모연합    정치하는 엄마들 등 시민단체를 비롯해 이재명 경기도지사 등은      한부모가정에게 가장 필요한 것은 낙인을 없애는 것     이라며 사유리의 육아 예능 출연을 지지했다    사유리 출연 반대 청원에 대한 제작진 입장 안녕하세요         슈퍼맨이 돌아왔다     를 사랑해 주셔서 감사합니다   부모가 되는 것이 꿈이었던 사유리 씨는 산부인과에서      난소 나이가   세라 자연 임신이 어렵고    지금 당장 시험관 시술을 하더라도 성공 확률이 높지 않다는 이야기를 듣고 세상이 무너지는 것 같았다     라며      사랑하지 않는 사람을 급하게 찾아 결혼하는 게 어려웠다     라고 비혼 상태에서 임신을 결심한 계기를 밝혔습니다    그리고 그녀는 출산 사실을 알리기로 한 것에 대해      거짓말하는 엄마가 아닌 아이에게 당당한 엄마가 되고 싶었다     라고 했습니다   사유리 씨는 이제 막 아이를 키우는 부모의 길로 들어섰습니다   아들 젠에 대해 알아가며 본인도 함께 성장 중입니다    우리나라 한 부모 가구 비율은         로 급증하고 있으며 한 부모 가구에 대한 관심과 함께 기존 기혼 가구에만 지원되던 가족 정책도 다양한 방향으로 확대되고 있습니다    사유리 씨의 가정 역시 이처럼 다양하게 존재하는 가족의 형태 중 하나일 뿐이며   여느 가정과 마찬가지로 많은 사람들의 축복과 응원을 받고 있습니다    따라서 최근 다양해지는 가족의 형태의 하나로 사유리 씨의 가족을 보여주고자 합니다    한쪽으로 치우치지 않고 다양한 시선을 보여주는 것이 방송의 역할이라고 생각합니다   또한      슈퍼맨이 돌아왔다     는 어떤 가족을 미화하는 프로그램이 아닌 가족의 성장을 담담하게 바라보는 프로그램입니다    슈퍼맨이 된 사유리 씨의 육아 일상도 있는 그대로 보여주고자 합니다    시청자 여러분이 함께 그녀의 선택을 지켜봐주시면 감사하겠습니다   예능제작센터 예능 CP 강봉규양승준 기자 comeon   hankookilbo   com    화해    남편이 정한      며느리 도리      지켜야 하나    제로웨이스트    코팅 종이 재활용되는데 그냥 버려라    한국일보닷컴 바로가기 /\t 원래 라벨 :  0 /\t예측한 라벨 :  0\n",
      "기사내용 :  경기도 용인에 생기는      리얼돌 체험관      인허가를 취소해달라는 청원이 올라왔다   지난   일 용인시 시민청원 사이트      두드림     에 올라온      리얼돌 체험관      인허가 취소 청원은   일 현재  만        명이 넘는 시민이 동의했다   청원인은      리얼돌 체험관 시설 반경    m 내에   개 유아교육시설과 초등학교  곳    중학교  곳    고등학교  곳이 있어 수천 명의 학생이 거주하고 있으며 이들이 인근 학원과 병원 등 상업시설을 이용하고 있다     고 주장했다   용인지역 온라인 커뮤니티에도      위해 시설은 학교나 유아교육시설 반경    m 내에 들어설 수 없는데도 불구하고 이런 시설이 대로변에 들어선다는 소식에 걱정이 된다     는 반응과 함께 청원을 독려하는 글들이 올라오고 있다   특히         리얼돌 체험관     이 들어설 건물에는 도서관도 있어 아이들이 공용화장실에서 리얼돌 체험관 이용자와 마주치게 될 것을 걱정하는 목소리도 나온다   문제는      리얼돌     이 사람이 아니라 성매매처벌법을 적용할 수 없고    대법원이      리얼돌은 음란물이 아닌 성기구     로 판단한 바 있어 단속에도 한계가 있다는 점이다   현행법상 일반 성인용품점으로 사업자 등록을 하는 리얼돌 체험관은 지자체의 허가나 영업증이 필요 없다        리얼돌 체험관     은 지난  월에도 국민청원으로 올라왔다    당시 청원인은      리얼돌과 같은 성인용품점이 유흥단란주점이나 성인오락실 등 허가업종이 아닌 자유업종이라면    리얼돌 체험방을  종 위락시설   유흥   로 지정해달라     고 요구했다   용인시는 청원인이    명을 넘으면 담당 과장이           명이 넘으면 실 국장이 서면으로 청원에 답변한다   YTN PLUS 최가영 기자   weeping     ytnplus   co   kr      저작권자   c    YTN     YTN plus 무단전재 및 재배포 금지      이 시각 코로나   확진자 현황을 확인하세요       대한민국 대표 뉴스 채널 YTN 생방송보기    매주 공개되는 YTN 알쓸퀴즈쇼    추첨을 통해 에어팟    갤럭시 버즈를 드려요   /\t 원래 라벨 :  0 /\t예측한 라벨 :  0\n",
      "기사내용 :     선거 정치에 깊숙이 관여     내로남불도          퇴출하라      국민청원   만명 동의 넘어서     가짜뉴스 더이상 안돼      퇴출 처벌 청원글 잇따라청와대 국민청원게시판 캡처방송인 김어준씨 퇴출을 촉구하는 청와대 국민청원 동의자가   만 명을 넘어섰다    청원인은 김씨에 대해      대놓고 특정 정당만 지지한다     며 TBS가 교통방송이라는 본연의 임무로 돌아갈 것을 요구했다     일 청와대 국민청원 게시판에 올라온      김어준 편파 정치방송인 교통방송에서 퇴출해주세요      청원은   일 오후  시 기준    만 명 이상의 동의를 받았다    국민청원은   만 건 이상의 동의를 받을 경우 청와대 공식 답변 대상이 된다    앞서      김어준의 뉴스공장     은  일 재보궐선거를 앞두고 국민의힘 후보 관련 의혹을 제기하는 익명 제보자  명을 방송에 내보내면서 상대방의 반박 내용 보도는 하지 않아 정치적 편향성 논란에 휩싸였다   청원인은      서울시 교통방송은 말 그대로 서울시 교통 흐름을 실시간 파악해서 혼란을 막고자 존재한다     면서      김어준은 대놓고 특정 정당만 지지한다     고 운을 뗐다    이어      그 반대 정당이나 정당인은 대놓고 깎아내리고 선거나 정치에 깊숙이 관여하고 있다     고 설명했다   청원인은 이어      내로남불     도 퇴출 요구 배경으로 들었다    그는      이것은 국민 모두가 다 아는 사실이지만 이런 국민들 분노로 김어준을 교체하고자 여론이 들끓자 김씨는 차별이라며 맞대응하고 있다     며      교통방송이 특정 정당 지지하는 정치방송이 된 지 오래이건만 변질된 교통방송을 바로잡자는 게 차별이냐     고 했다    교통방송의 본래 기능인 교통 정보 전달에 집중하라는 요구다   동의자들도 청원인 입장에 공감하고 있다    한 동의자는      교통방송이 본분을 찾으려면 김어준은 퇴출돼야 한다     고 했다    또 다른 동의자는      서울시민 세금으로 운영되는 방송은 정치적 중립을 지켜야 하는 건 상식     이라고 지적했다   김어준 처벌 청원도 잇달아TBS 김어준의 뉴스공장 홈페이지 캡처해당 청원 외에도 김씨의 퇴출이나 처벌을 촉구하는 청원이 잇따르고 있다     일에는      교통방송 장악한 김어준 교통방송에서 퇴출시키자     는 청원이 올라 이날까지  만       명이 동의했다    청원인은      서울시 교통 흐름을 원활하게 하고 교통정보를 시민들에게 알리기 위해 만들어진 교통방송이 김어준이 꿰차면서부터 좌파 정권 앞잡이 나팔수가 됐다     며      온갖 가짜뉴스를 만들어 좌편향된 방향으로 몰아가는 나팔수가 돼 얼마나 국민을 선동질했나     라고 되물었다    그러면서      김어준은 비참한 최후를 맞기 전에 스스로 물러남이 현명한 판단일 줄로 안다     고 꼬집었다    월에도      세월호 고의 침몰설로 국민을 우롱한 김어준씨를 처벌해주세요     라는 청원이 올라와 지난달   일까지        명이 동의했다    청원인은      세월호 고의 침몰설을 주장한 김씨의 주장이 허위로 드러났다     며      김씨를 퇴출시키고 처벌해야 한다    더 이상 가짜뉴스로 피해 보는 국민이 없길 바란다     고 주장했다   한편 김씨는     년  월부터 TBS에서 라디오 시사 프로그램      김어준의 뉴스공장     을 진행하고 있다    평일 오전  시부터  시간 방송되는 해당 프로그램은 지난해 서울 수도권 라디오 청취율 조사에서  위를 차지할 정도로 인기가 높다    하지만 방송 출범 당시부터 정치적 편향성 논란이 일었고    방송통신심의위원회로부터 여러 차례 제재를 받기도 했다    손효숙 기자 shs   hankookilbo   com    엄마    학대받은 아이들 품은   년      모두 내 새끼         트랜스젠더    아들이 딸이 되기까지    험난한 여정 한국일보닷컴 바로가기 /\t 원래 라벨 :  0 /\t예측한 라벨 :  0\n",
      "기사내용 :     사이더    정치인    방송인         김어준 TBS 퇴출청원   만연합뉴스    서울시교통방송 TBS에서      뉴스공장      진행자 김어준을 퇴출시켜달라는 청와대 국민청원이 빠른 속도로 동의를 얻어 주목이 되고 있습니다    김어준 대놓고 특정정당 지지정치방송인 교통방송서 내려오라         청와대 홈페이지 캡쳐    지난  일 국민청원 게시판에 게시된      김어준 편파 정치방송인 교통방송에서 퇴출해주세요     라는 제목의 청원은   일 오전   시 기준   만    명의 동의를 얻어 이미 답변 기준인   만명을 훌쩍 넘어섰습니다   청원인은 TBS 라디오에서 시사프로그램      뉴스공장     을 진행하고 있는 김어준 씨를 겨냥         교통방송은 청취자들이 서울시의 차량 흐름을 실시간으로 파악하도록 돕기 위해 존재하는 것이다    그러나 김어준은 대놓고 특정 정당만 지지하고 반대 정당을 깎아내리며 선거와 정치에 깊숙이 관여하고 있다     고 지적했습니다    그러면서      서울시 정치방송인 김어준은 교통방송 자리에서 내려오세요              라고 촉구했는데요   딴지일보 총수부터나꼼수 흥행돌풍까지나무위키    김씨는 대한민국에서 좌파로 알려진 인물입니다    인터넷 미디어 딴지일보를 창간하였으며 이후 주진우    김용민 등과 팟캐스트 나는 꼼수다를 진행하며 대중적 인기 얻었고 대한민국 팟캐스트 붐을 열었다고 평가받기도 합니다    그 뒤     년부터 TBS에서      김어준의 뉴스공장     을 진행해오고 있는데요    김씨는 이 방송에서 위안부 피해자 이용수 할머니의 정의연 비판에 관해      기자회견에 배후가 있다         조국 전 장관의 아내 정경심 동양대 교수 유죄 판결에선      사법이 법복 입고 판결로 정치를 했다      등의 주장을 한 바 있습니다    뉴스공장은     년 이후  건에 달하는 방송통신심의위원회의 법정제재를 받아 단일 프로그램으로는 최다 건수를 기록했는데요    사유는 모두      객관성 위반     이라고 합니다    또한 김씨는     재보권 선거에서 오세훈 시장 처가의 내곡동 땅      셀프 보상      의혹과 관련해 오 시장이 과거 내곡동 땅 측량 당일 들렀다고 주장한 생태탕집 주인과의 인터뷰 방송을 내보내는 등 야권에만 집중 공세를 편 바 있습니다   청원 동의   만명 훌쩍청와대 답변에 이목집중아이클릭아트         김어준의 뉴스공장     을 진행중인 김씨를 퇴출해달라는 청와대 국민청원에 대한 동의자가 답변기준인   만명을 넘은 만큼 정부나 청와대 관계자가 어떤 답변을 내놓을지 이목이 쏠리고 있는데요    다만 일각에선 TBS가 서울시 산하 출연기관이라 할지라도 서울시장의 인사권 행사가 어렵고    서울시의회 의원 대부분이 민주당인 상황에서 해당 국민청원이 성사될 가능성은 거의 없다는 의견이 지배적입니다   혈세 먹는 기생충vs뉴스공장 응원이번 김씨 퇴출 국민청원과 관련해 온라인에서의 설전도 뜨거운데요   아이디 kang          등은      우리세금으로 운영하는 교통방송    교통방송에 적합한 전문가가 진행해야 좋을 듯 합니다              지식인인 척 하며 혼란한 사회에 기생하며 시민들의 혈세를 빨아먹는 기생충           이런 방송은 하루 빨리 없어져야 한다     고 목소리를 모았습니다    반면 아이디 choc          등은      뉴스 공장 응원합니다    청취율  위쭉              김어준 방송 계속해야 합니다           수구 언론 폐간도 허용하라     등의 의견을 내놓기도 했습니다    김효순기자 soon       dt   co   kr      네이버 메인에서 디지털타임스 구독                뉴스스탠드 구독     디지털타임스 홈페이지 바로가기 /\t 원래 라벨 :  0 /\t예측한 라벨 :  0\n",
      "기사내용 :  방송인 김어준 씨를 TBS 교통방송에서 퇴출해달라는 청와대 국민청원이 확산되는 것에 대해 김남국 더불어민주당 의원이      오세훈 서울시장의 거짓말을 파헤치는 노력을 해서 그런 것     이라고 주장했습니다    김 의원은 오늘     일    YTN 라디오      황보선의 출발 새아침     에서         김어준 씨가    오세훈 서울시장의 거짓말을 파헤치는 노력을 하다 보니 불편하고 아프게 생각했던 것     이라고 말했습니다         주로 메이저 언론사    종편 방송사들에서 생태탕 의혹과 관련한 인터뷰를 다루지 않았었는데         김어준의 뉴스공장     에서 내곡동 땅 의혹    오 시장의 거짓말 의혹 등에 대해 집중적으로 인터뷰를 했다     며 이같이 말했습니다   앞서 방송인 김어준 씨를 TBS   교통방송   에서 퇴출해달라는 내용의 청와대 국민청원에 참여한 인원이 청와대의 공식 답변 요건인   만명을 넘긴 바 있습니다    김어준의 뉴스공장 청원인은      교통방송은 청취자들이 서울시의 차량 흐름을 실시간으로 파악하도록돕기 위해 존재하는 것     이라며      그러나 김어준은 대놓고 특정 정당만 지지하고 반대정당을 깎아내리며 선거와 정치에 깊숙이 관여하고 있다     고 지적했습니다    이어      김어준은 교체 여론이 들끓자 오히려 자신이 차별을 당했다고 맞대응하고 있지만    변질된 교통방송을 바로잡자는 것이 차별인가     라며      이제 자리에서 내려오라     고 촉구한 바 있습니다   이에 대해 김남국 의원은      언론의 자유가 보장될 때    여러 정치권    권력을 건강하게 비판할 수가 있다     며      오 시장이 가진 예산 편성권으로 개입하려고 하거나 권력자가 압력이나 힘을넣게 되어버리면 결국 언론이 망가진다     고 주장했습니다   오세훈 서울시장을 향해서는      법률가인 시장님께서 잘 아시기 때문에 시정에 집중하시고    TBS 김어준 씨의 방송과 관련된 부분은 언론의 자유와 독립을 지켜주실 것이라 믿는다     고 말했습니다   이에 대해 누리꾼들은      그동안 편파방송만 일삼으며 국민을 분열시키고 선동시켜왔는데    이제와서 언론의 자유를 논한다     며 분노를 표출했습니다   누리꾼들은 또      서울시민 세금으로 운영되는 방송국이 어떻게 이토록 오래 특정 정당 대변인 역할을 하도록 방치될 수 있냐     며 성토했습니다        이상은 디지털뉴스부 기자       leestellaaz   gmail   com      네이버에서      MBN뉴스     를 구독하세요     김주하 앵커      MBN 종합뉴스      저녁  시   분 진행  MBN 무료 고화질 온에어 서비스 GO     /\t 원래 라벨 :  0 /\t예측한 라벨 :  0\n",
      "기사내용 :  검찰    징역  년 구형     윤창호법 적용유족들      관료적으로 선고 말아달라        서울   뉴시스    지난해   월   일 청와대 국민청원 게시판에 올라 있는      횡단보도 보행 중 음주운전자의 사고로   살 청년이 사망했습니다     라는 제목의 청원글       사진   청와대 국민청원 게시판 갈무리       photo   newsis   com   서울   뉴시스    류인선 기자     음주운전 중 사고를 내 대만인 유학생을 사망하게 한 혐의로 재판에 넘겨진   대 운전자의  심 선고가   일 내려진다   서울중앙지법 형사  단독 민수연 판사는 이날 오후  시  분 특정범죄 가중처벌 등에 관한 법률 위반   위험운전치사    등 혐의로 기소된 A        씨의 선고 공판을 진행한다   A씨는 지난해   월 일 서울 강남구 논현동 인근에서 혈중알콜농도           의 음주 상태로 차량을 몰다가   대 대만인 여성 B씨를 치어 숨지게 한 혐의로 재판에 넘겨졌다   같은달   일 청와대 국민청원 게시판에는      횡단보도 보행 중 음주운전자의 사고로   살 청년이 사망했습니다     라는 제목의 청원이 올라왔고 해당 청원은 열흘도 채 되지 않아 청와대 답변 기준인   만명 이상의 동의를 얻었다   B씨의 유족들도 최근 법원에 엄벌을 요구하는 탄원서를 제출했다   B씨 아버지는 지난달  일자 탄원서에서      제발 피해자와 피해자 가족에게 동정심을 가져주고 법 태두리 안에서 관료적이고 무관심하게 접근하지 말라     며      자식을 잃은 부모가 견뎌낸 상상할 수 없는 아픔과 고통을 느겼으면 좋겠다     고 말했다   이어      재판장님께서 법과 국민이 준 힘을 발휘해 살인자에게 최고의 형벌을 내려서 한국 사람들에게 더 안전한 거리를 만들어 달라     고 호소했다   B씨 어머니도      이번 판결에서 우리의 억울함을 풀어주길 간청한다     며      이번에는 엄벌해 윤창호법의 최고 형벌인 무기징역 판결을 내려주길 바란다     고 밝혔다    검찰은 지난달  일 열린 결심 공판에서 A씨에게 징역  년을 구형했다  공감언론 뉴시스 ryu   newsis   com  네이버에서 뉴시스 구독하기  K     Artprice    유명 미술작품 가격 공개  뉴시스 빅데이터 MSI 주가시세표 바로가기  /\t 원래 라벨 :  0 /\t예측한 라벨 :  0\n",
      "기사내용 :     김어준 TBS 퇴출       국민청원 동의      만명 돌파방송인 김어준 씨       TBS   교통방송    라디오      김어준의 뉴스공장     을 진행 중인 김어준 씨를 퇴출해 달라는 청와대 국민청원에 대한 동의자가   만명을 돌파했다    청와대 국민청원은 공개 시점부터   일 이내에 청원 답변기준인   만 명 이상이 동의하면 정부나 청와대 관계자가 공식답변하게 된다   이에 따라 청와대가 해당 국민청원에 어떤 답변을 내놓을지에 이목이 쏠린다    다만 일각에선 TBS가 서울시 산하 출연기관이라 할지라도 서울시장의 인사권 행사가 어렵고    서울시의회 의원 대부분이 민주당인 상황에서 해당 국민청원이 성사될 가능성은 거의 없다는 의견이 지배적이다   지난  일 청와대 청원게시판에      김어준 편파 정치방송인 교통방송에서 퇴출해주세요     라는 제목의 청원글에는   일 오전   시   분 현재   만    명이 동의하며      만명을 돌파했다   청원인은      서울시 교통방송은 말 그대로 서울시의 교통 흐름을 실시간 파악해서 혼란을 막기 위해 존재하는 것     이라며      그러나 김어준은 대놓고 특정 정당만 지지하며 그 반대 정당이나 정당인은 대놓고 깎아내리며 선거나 정치에 깊숙이 관여하고 있다     고 했다    이어      이것은 국민 모두가 다 아는 사실이다    이런 국민의 분노로 김어준을 교체하고자 여론이 들끓자 김어준은 차별이라며 맞대응을 하고 있다     며      교통방송이 특정정당 지지하는 정치방송이 된 지 오래이건만 변질된 교통방송을 바로잡자는 것이 차별인 건가     라고 적었다   김씨는     년  월   일부터 매주 월   금요일 오전  시에 자신의 이름을 딴      김어준의 뉴스공장     이란 시사 프로그램을 진행 중이다    하지만 이 프로그램은 쉴 새 없이 정치적 편향성 논란에 휩싸였다    이번 서울시장 보궐선거에서도 국민의힘 오세훈 서울시장 후보와 박형준 부산시장 후보 관련 의혹을 제기하는 익명 제보자  명의 인터뷰를 일방적으로 내보내 논란을 키웠다   선거 출구조사 발표 뒤      편파방송      지적을 받자         뉴스공장은    선거기간 동안 오세훈    박형준 후보를 한번도 인터뷰 못한 유일한 방송일 것     이라며      끊임없이 연락했는데 안 되더라    차별 당했다     고 주장했다   최근 서울시청 본청 및 사업소 직원들만 이용하는 내부 게시판에는      TBS에 들어가는 예산은 눈먼 돈이냐    왜 헛소리하는 사람들을 데려다가 비싼 방송료를 지불해야 하는지 이해가 안 된다     는 글이 올라왔다    또      선거기간에 생태탕 증언만 계속 내보내는 등 너무 노골적으로 민주당 선거운동을 하고 있다     며      제도권 안에서 지원을 받으면서 한쪽 편을 드는 것은 반칙이다    특정 정당 선전방송에 시민의 세금이 낭비돼선 안된다     는 내용의 글도 올랐다    TBS는 서울시 산하 출연기관인      미디어재단 TBS     라는 독립법인이다    독립법인이라 서울시장의 인사권 영역 밖에 있다    TBS 이사회가 동의하지 않는 한 김씨에 대한 인사를 마음대로 할 수 없는 상황이다    그러나 일각에선 김 씨의 퇴출을 주장하느니 차라리 방송을 계속 진행할 수 있도록 하는 게 정치적으로 야당에 유리할 것이란 의견도 있다   한편 오세훈 서울시장은 후보 시절인 지난달   일      TBS 설립 목적이 있다    교통 생활 정보를 제공하는 것     이라며      내가 시장에 당선돼도 김어준씨가 계속 진행해도 좋다    다만 교통정보를 제공하시라     고 했다    임재섭기자 yjs   dt   co   kr      네이버 메인에서 디지털타임스 구독                뉴스스탠드 구독     디지털타임스 홈페이지 바로가기 /\t 원래 라벨 :  0 /\t예측한 라벨 :  0\n",
      "기사내용 :    이데일리 김민정 기자    거세진 반중 감정이 강원도가 추진 중이던      차이나타운 건설     으로 불똥이 튄 가운데 이를 반대한다는 내용의 청와대 국민청원 동의자가 결국   만 명 선을 뚫었다   지난달   일      강원도 차이나타운 건설을 철회해주세요     라는 제목의 게시물은   일 오전   시 기준   만 명 이상이 지지를 보냈다    해당 글을 올린 청원인은      한중관계에 있어 교류와 협력이 중요하다고 해도 이해할 수 없는 사고     라며      왜 대한민국에 작은 중국을 만드는가    중국에 한국 땅을 주지 말라     고 촉구했다   이어 그는      국민들은 날이 갈수록 심해지는 중국의 동북공정에 자국 문화를 잃을까 불안감을 느끼고 있다     며      얼마 전에는 중국 소속사 작가가 잘못된 이야기로 한국의 역사를 왜곡해 큰 분노를 샀다     고 비판했다   그러면서 청원인은      최문순    강원도    도지사님    국민들과 강원도 주민들의 반대에도 건설을 추진하는 이유가 무엇인지 여쭙고 싶다    혹여나 중국자본이 투입되었더라도 이는 절대적으로 정당화될 수 없으며      용납 불가능한 행위          라고 목소리를 높였다      사진   청와대 국민청원 게시판   강원도는 지난     년 춘천과 홍천에 있는 라비에벨관광단지에 중국복합문화타운을 조성하는 업무협약을 중국 인민일보 및 인민망 등과 체결했다    이는 인천 차이나타운의   배 규모에 달하며    국내 관광산업을 활성화 취지로 추진됐다   이후 논란이 일자 강원도는 차이나타운 관련 의혹에 대해      이 사업은 중국인이 집단 거주하는 곳이 아니라 한류와 K     POP 등을 홍보하는      한중문화타운     이다     라며      최근 반중 정서와 맞물려 비롯된 한중문화타운 조성사업에 대해 오해가 확산되지 않기를 바란다     고 해명했다   뿐만 아니라 한중문화와 IT 신기술이 접목된 이 사업의 순조로운 추진을 위해 도는 인허가 등의 행정지원만 할뿐 일체 도비 투입은 없다는 입장이다   이에 대해 이준석 전 국민의힘   당시 미래통합당    최고위원은 지난   일 페이스북을 통해      도대체 왜 강원도지사가 중국에 꽂힌 건가     라며      무슨 차이나타운을 만들겠다고 하고    그걸 또 일대일로라고 아첨까지 해야 하나     라고 날을 세웠다    최근 국민의힘 춘천시당원협의회   위원장 김진태   도 성명서를 통해      최문순 지사가 춘천에   만 평 규모의 중국복합문화타운을 건설하려고 한다     며      가뜩이나 코로나   로 중국인 유입에 대한 우려가 깊은 가운데 청정강원도 안방을 중국인에게 내줄 순 없다     고 주장했다   이어      중국문화를 체험하고 싶으면 중국에 가면 되지 강원도에서 굳이 중국을 체험하고 싶은 사람이 어딨냐     고 말했다   그러면서      강원도에 차이나타운이 건설될 경우 치안문제 등으로 자칫 강원도민의 생활터전이 위협받을 수 있다     며      이미 국내에 조성된 차이나타운도 문제가 되는 마당에 새로 조성한다는 발상이 어처구니없다     고 덧붙였다   해당 청원은 청와대 관계자 공식 답변 요건인   만 명은 일찍이 넘어섰다    과연 청와대가 어떤 입장을 밝힐지 이목이 집중되고 있다   김민정    a        edaily   co   kr          시간 빠른    미리보는 뉴스    eNews     네이버에서      이데일리 뉴스     를 만나보세요  빡침해소    청춘뉘우스      스냅타임       종합 경제정보 미디어 이데일리       무단전재     재배포 금지  /\t 원래 라벨 :  0 /\t예측한 라벨 :  0\n",
      "기사내용 :  핵심 조직원  명 검거     빼돌린 돈으로  서 호화생활금융기관 검찰 사칭해 피해자 속여    억 상당 편취위조한 검사증과 명함      부산경찰청 제공     뉴스    부산   뉴스     박세진 기자          검사 김민수     를 사칭한 보이스피싱 범죄를 벌여   대 취업준비생을 극단적 선택으로 몰아간 핵심 조직원들이 검거됐다   이 사건은     년  월 한 아버지가 청와대 국민청원 게시판에      내 아들 죽인 얼굴없는 검사 김민수를 잡을 수 있을까요     라는 글을 올리고 전북 순창에 사는   대 취업준비생 아들이 보이스피싱에 속아 극단적 선택을 한 피해 사례를 알리면서 공분을 샀다     일 부산경찰청 강력범죄수사대는 사기    범죄단체 가입활동 혐의로 보이스피싱 핵심 조직원   대 남성 A씨 등  명을 구속하고  명을 불구속 수사하고 있다고 밝혔다   경찰에 따르면 해당 조직은     년  월께 중국 현지에 콜센터 등을 두고 국내에 발신번호 변작 중계기를 설치한 후     년   월까지 보이스피싱 범죄를 벌였다   이 기간 검찰과 금융기관을 사칭해 피해자들에게 접근    사건에 연루된 것처럼 속이거나 저금리 대환대출을 제시하는 수법으로    억원 상당을 편취한 것으로 조사됐다   경찰은 전북지역 조직폭력배 A씨가 국내 조직폭력배를 중국으로 불러들여 보이스피싱 조직을 운영하고 있다는 첩보를 입수하고 수사를 벌여왔다    지난해 경찰은 조직원   명을 붙잡아   명을 구속한 이후 핵심 조직원을 추적해왔다   이들은 콜센터를 운영하면서 대포통장을 이용해 피해자들로부터 돈을 송금받거나    국내 조직원들이 피해자를 직접 만나 현금을 건네받은 뒤 이를 조직에 송금하는 방식으로 범행을 벌인 것으로 드러났다   국내 조직원들은 금융감독원 신분증을 보여주거나 물품보관함에 돈을 두고 가도록 요청하는 등의 수법을 썼다    또 범행이 발각되는 것을 피하기 위해 주기적으로 역할을 교체했다    핵심 조직원들은 이렇게 빼돌린 돈으로 중국에서 호화생활을 한 것으로 조사됐다   경찰은      A씨가 유튜브에서   대 취업준비생 소식을 접하고 양심의 가책을 느껴 한달 뒤에 국내로 들어온 뒤 숨어지내다 검거됐다     고 설명했다   검거 소식을 접한 아버지는      평생 한이 맺힐 뻔 했다    김민수 검사 사칭범을 평생 못 잡을 줄 알았다     고 경찰에 고마움을 전했다   그는      공판 과정에도 참여해 피의자의 강력한 처벌을 원하는 탄원서를    법원에    제출하겠다     고 밝혔다   경찰은      수사기관에서는 절대 송금을 요구하지 않으며 검사를 사칭해 안전계좌로의 송금이나 직접 전달을 유도하는 전화    금융기관의 저금리 대환대출 전화는 보이스피싱 범죄 수법이다     고 강조했다   이어      보이스피싱 범죄는 주범을 검거하더라도 피해 회복이 어려우므로 피해를 당하지 않도록 주의해야 한다     며      특히 김민수나 이도현 검사와 수사관을 사칭한 전화를 받은 시민분들은 신고해달라     고 당부했다   sjpark   news    kr  네이버 메인에서    뉴스     구독하기      뉴스    BBC 한글 뉴스    터닝포인트        뉴스 코리아   news    kr       무단 전재 및 재배포 금지 /\t 원래 라벨 :  0 /\t예측한 라벨 :  0\n",
      "기사내용 :     친여         편파 방송      논란에 휩싸인 방송인 김어준씨를 TBS 교통방송에서 퇴출해 달라는 청와대 국민청원에 대한 동의자가 이틀 만에   만명을 넘어섰다    청와대 국민청원은 공개 시점부터   일 이내에   만 명 이상이 동의하면 정부나 청와대 관계자가 공식답변하게 된다   방송인 김어준씨         TBS          지난  일 청와대 청원게시판에      김어준 편파 정치방송인 교통방송에서 퇴출해주세요     라는 제목의 청원이 올라왔다    청원인은      서울시 교통방송은 말 그대로 서울시의 교통 흐름을 실시간 파악해서 혼란을 막기 위해 존재하는 것     이라며      그러나 김어준은 대놓고 특정 정당만 지지하며 그 반대 정당이나 정당인은 대놓고 깎아내리며 선거나 정치에 깊숙이 관여하고 있다     고 했다   이어      이런 국민의 분노로 김어준을 교체하고자 여론이 들끓자 김어준은 차별이라며 맞대응을 하고 있다     며      교통방송이 특정정당 지지하는 정치방송이 된 지 오래이건만 변질된 교통방송을 바로잡자는 것이 차별이냐     고 적었다    네티즌들은 김씨 퇴출 청원에      서울에 민주당 지지자만 사느냐    시 세금으로 운영하면서 방송을 그렇게 하면 안 된다           좌파라서 문제인 게 아니라 음모론으로 사회를 어지럽힌 것이 문제     라는 반응을 보였다             이 국민청원은   일 오후  시   분 현재   만    여 명이 동의한 상태다   김씨는     년  월   일부터 TBS에서 자신의 이름을 딴      뉴스공장     이라는 라디오 시사 프로그램을 진행하고 있다    매주 월요일부터 금요일까지 오전  시부터  시간 가까이 방송된다    지난해 서울 수도권 라디오 청취율 조사에서  위를 차지할 정도로 인기가 많다   하지만      김어준의 뉴스공장     을 두고 정치적 편향성에 대한 논란이 계속됐다        서울시장 보궐선거를 앞두고 야권에서는      김어준 퇴출론     이 나오자 여권에선      방송 탄압     이라고 맞받았다   오세훈 서울시장은 후보 시절인 지난달   일 언론 인터뷰에서      TBS 설립 목적이 있다    교통 생활 정보를 제공하는 것     이라며      내가 시장에 당선해도 김어준씨가 계속 진행해도 좋다    다만 교통정보를 제공하시라     고 했다   특히 선거 막판      김어준의 뉴스공장     은 야당 측 반론없이 국민의힘 오세훈 서울시장 후보와 박형준 부산시장 후보 관련 의혹을 제기하는 익명 제보자  명을 잇따라 내보내 논란은 더욱 커졌다    당시 국민의힘 측은      여당이 불리한 이슈에는      여당 해명방송     으로    야당을 공격하는 이슈에는      네거티브 특집방송     으로 쓰이는 방송    이게 방송이냐     고 했다    오 시장 측은 이 프로그램이 본래 기능인 교통 정보 전달에 집중하도록 요구할 것으로 알려졌다    김씨에 대한 거취보다는      교통방송 제자리 찾기     에 주력한다는 것이다        청와대   김명진 기자 cccv   chosun   com        조선일보가 뽑은 뉴스    확인해보세요    최고 기자들의 뉴스레터 받아보세요      등 신문 조선일보    앱으로 편하게 보세요 /\t 원래 라벨 :  0 /\t예측한 라벨 :  0\n",
      "기사내용 :     터미널 사익위한 공익 불편은 이해할 수 없어      시장의 잘못된 행정사항    감사원에 조사 요청   청주   뉴시스    조성현 기자     충북 청주고속버스터미널 개발사업과 관련해 교통정책을 바로잡아 달라는 국민청원이 올라왔다     일 청와대 국민청원 게시판에는      청주시청 교통정책 바로잡아달라    고속버스 걸거리 승하차장 반대     라는 게시글이 게재됐다   청원인은      청주고속버스터미널을 시내버스처럼 길거리 승하차장에서 이용한다는 게 이해할 수 없다     며      청주시는 고속터미널 사익을 위해 공익의 불편함은 신경쓰지 않는 것 같다     고 말했다   그러면서      전국 터미널 현대화 사업 사례를 보면 대전    대구    전주    서울 센트럴 등 터미널 건축허가 시 기존  터미널 운영에 지장을 초래하지 않고 주민 불편이 없도록 시설을 유지하며 개발했다     며      하지만 청주시는 왜 이러는지 모르겠다    시민이 모르는 특혜나 배임 등의 의혹이 사실인지 의문     이라고 주장했다   이어      청주시의 이번 시정 업무를 가만히 지켜볼 수 없다     며      시민을 봉으로 알고 대중교통 이용에 불편을 겪든 말던 신경 쓰지 않는 시장의 잘못된 행정사항에 면밀히 감사원 조사를 요청한다     고 요구했다   청원인은 이와 함께 교통 관련 여객자동차운수사업법 터미널운수사업 법령과 국토의 계획 및 이용에 관한 법률 위법성 여부도 함께 조사해달라고 했다   해당 청원의 마감일은 내달  일까지다    이날 오전   시 기준    명이 동의했다   청주고속버스터미널 현대화사업은 청주시 흥덕구 가경동 고속버스터미널을 헐고    그 일대에 터미널 대합실을 낀 공연장과 주상복합 판매시설을 짓는     억원대 대규모 개발사업이다   터미널 운영자인  청주고속터미널과 특수관계회사인  우민은 지난해  월 청주시에서 건축허가와 실시계획인가를 받았다       년  월 청주고속버스터미널 매입을 하고    같은 해  월 청주시와 현대화사업 협약을 한 지  년 만이다   사업자는 청주시 흥덕구 가경동 고속버스터미널을 헐고    그 일대에 고속버스 승 하차장과 아웃렛 공연장 등이 들어서는   층 복합건물을 지을 계획이다    기존 매입한 업무시설   현 주차장   은 상업용지로 변경해 주상복합아파트  개동을 올린다   현 터미널 부지의 박차장   버스 차고지   은 공간 부족에 따라 편도        거리의 외부   흥덕구 비하동            외  필지   로 이전한다    개발 사업을 위해 고속버스 박차장을 통째로 옮기는 사례는 전국에서 청주시가 유일하다   앞서 청주시는 지난  일 청주고속버스터미널 측에 임시터미널 위치변경 인가를 내줬다   현 고속버스터미널 도로 건너편에 매표소와 승차장   띠녹지 지역   을 두고    터미널 앞 도로에 하차장을 조성한 뒤 이를 연결하는 횡단보도를 신설하는 방안이 통과됐다   터미널 사업자는 지난해  월 청주시로부터 터미널 개발사업에 대한 건축허가와 실시계획인가를 받은 뒤 금융권 프로젝트 파이낸싱   PF    조달과 시공사 선정 작업에 나선 것으로 전해졌다   사업 기간은  년    사업비는     억       억원이다   국민의힘 중앙당은 지난해  월 사업 추진과정에서의 특혜 의혹을 제기하며 사업자와 청주시 공무원을 배임    업무상비밀누설 혐의 등으로 검찰에 고발했다      청주   뉴시스    조성현 기자     청와대 국민청원 게시판에 게재된 청주고속버스터미널 길거리 승하차장 반대 청원글       사진   청와대 국민청원 캡처                      photo   newsis   com    재판매 및 DB 금지 공감언론 뉴시스 jsh       newsis   com  네이버에서 뉴시스 구독하기  K     Artprice    유명 미술작품 가격 공개  뉴시스 빅데이터 MSI 주가시세표 바로가기  /\t 원래 라벨 :  0 /\t예측한 라벨 :  0\n"
     ]
    }
   ],
   "source": [
    "for i in range(30): \n",
    "    print(\"기사내용 : \", test_data['content'].iloc[i], \"/\\t 원래 라벨 : \", original_labels[i], \"/\\t예측한 라벨 : \", predict_labels[i])\n"
   ]
  },
  {
   "cell_type": "code",
   "execution_count": 77,
   "metadata": {},
   "outputs": [
    {
     "data": {
      "text/html": [
       "<div>\n",
       "<style scoped>\n",
       "    .dataframe tbody tr th:only-of-type {\n",
       "        vertical-align: middle;\n",
       "    }\n",
       "\n",
       "    .dataframe tbody tr th {\n",
       "        vertical-align: top;\n",
       "    }\n",
       "\n",
       "    .dataframe thead th {\n",
       "        text-align: right;\n",
       "    }\n",
       "</style>\n",
       "<table border=\"1\" class=\"dataframe\">\n",
       "  <thead>\n",
       "    <tr style=\"text-align: right;\">\n",
       "      <th></th>\n",
       "      <th>original</th>\n",
       "      <th>predict</th>\n",
       "    </tr>\n",
       "  </thead>\n",
       "  <tbody>\n",
       "    <tr>\n",
       "      <th>0</th>\n",
       "      <td>0</td>\n",
       "      <td>0</td>\n",
       "    </tr>\n",
       "    <tr>\n",
       "      <th>1</th>\n",
       "      <td>0</td>\n",
       "      <td>0</td>\n",
       "    </tr>\n",
       "    <tr>\n",
       "      <th>2</th>\n",
       "      <td>0</td>\n",
       "      <td>0</td>\n",
       "    </tr>\n",
       "    <tr>\n",
       "      <th>3</th>\n",
       "      <td>0</td>\n",
       "      <td>0</td>\n",
       "    </tr>\n",
       "    <tr>\n",
       "      <th>4</th>\n",
       "      <td>0</td>\n",
       "      <td>0</td>\n",
       "    </tr>\n",
       "    <tr>\n",
       "      <th>...</th>\n",
       "      <td>...</td>\n",
       "      <td>...</td>\n",
       "    </tr>\n",
       "    <tr>\n",
       "      <th>2754</th>\n",
       "      <td>0</td>\n",
       "      <td>0</td>\n",
       "    </tr>\n",
       "    <tr>\n",
       "      <th>2755</th>\n",
       "      <td>0</td>\n",
       "      <td>0</td>\n",
       "    </tr>\n",
       "    <tr>\n",
       "      <th>2756</th>\n",
       "      <td>0</td>\n",
       "      <td>0</td>\n",
       "    </tr>\n",
       "    <tr>\n",
       "      <th>2757</th>\n",
       "      <td>0</td>\n",
       "      <td>0</td>\n",
       "    </tr>\n",
       "    <tr>\n",
       "      <th>2758</th>\n",
       "      <td>0</td>\n",
       "      <td>0</td>\n",
       "    </tr>\n",
       "  </tbody>\n",
       "</table>\n",
       "<p>2759 rows × 2 columns</p>\n",
       "</div>"
      ],
      "text/plain": [
       "      original  predict\n",
       "0            0        0\n",
       "1            0        0\n",
       "2            0        0\n",
       "3            0        0\n",
       "4            0        0\n",
       "...        ...      ...\n",
       "2754         0        0\n",
       "2755         0        0\n",
       "2756         0        0\n",
       "2757         0        0\n",
       "2758         0        0\n",
       "\n",
       "[2759 rows x 2 columns]"
      ]
     },
     "execution_count": 77,
     "metadata": {},
     "output_type": "execute_result"
    }
   ],
   "source": [
    "labels_res = pd.DataFrame()\n",
    "\n",
    "labels_res['original'] = pd.Series(original_labels)\n",
    "labels_res['predict'] = pd.Series(predict_labels)\n",
    "labels_res"
   ]
  },
  {
   "cell_type": "code",
   "execution_count": 78,
   "metadata": {},
   "outputs": [
    {
     "data": {
      "text/plain": [
       "<AxesSubplot:>"
      ]
     },
     "execution_count": 78,
     "metadata": {},
     "output_type": "execute_result"
    },
    {
     "data": {
      "image/png": "[encoded data removed]",
      "text/plain": [
       "<Figure size 432x288 with 1 Axes>"
      ]
     },
     "metadata": {
      "needs_background": "light"
     },
     "output_type": "display_data"
    }
   ],
   "source": [
    "labels_res['original'].value_counts().plot(kind='bar') #0은 부정, 1은 중립 2는 긍정"
   ]
  },
  {
   "cell_type": "code",
   "execution_count": 79,
   "metadata": {},
   "outputs": [
    {
     "data": {
      "text/plain": [
       "0    2755\n",
       "2       4\n",
       "Name: original, dtype: int64"
      ]
     },
     "execution_count": 79,
     "metadata": {},
     "output_type": "execute_result"
    }
   ],
   "source": [
    "labels_res['original'].value_counts()"
   ]
  },
  {
   "cell_type": "code",
   "execution_count": 80,
   "metadata": {},
   "outputs": [
    {
     "data": {
      "text/plain": [
       "<AxesSubplot:>"
      ]
     },
     "execution_count": 80,
     "metadata": {},
     "output_type": "execute_result"
    },
    {
     "data": {
      "image/png": "[encoded data removed]",
      "text/plain": [
       "<Figure size 432x288 with 1 Axes>"
      ]
     },
     "metadata": {
      "needs_background": "light"
     },
     "output_type": "display_data"
    }
   ],
   "source": [
    "labels_res['predict'].value_counts().plot(kind='bar')\n"
   ]
  },
  {
   "cell_type": "code",
   "execution_count": 81,
   "metadata": {},
   "outputs": [
    {
     "data": {
      "text/plain": [
       "0    2757\n",
       "2       2\n",
       "Name: predict, dtype: int64"
      ]
     },
     "execution_count": 81,
     "metadata": {},
     "output_type": "execute_result"
    }
   ],
   "source": [
    "labels_res['predict'].value_counts()"
   ]
  },
  {
   "cell_type": "code",
   "execution_count": null,
   "metadata": {},
   "outputs": [],
   "source": []
  }
 ],
 "metadata": {
  "kernelspec": {
   "display_name": "Python 3",
   "language": "python",
   "name": "python3"
  },
  "language_info": {
   "codemirror_mode": {
    "name": "ipython",
    "version": 3
   },
   "file_extension": ".py",
   "mimetype": "text/x-python",
   "name": "python",
   "nbconvert_exporter": "python",
   "pygments_lexer": "ipython3",
   "version": "3.8.3"
  }
 },
 "nbformat": 4,
 "nbformat_minor": 4
}
